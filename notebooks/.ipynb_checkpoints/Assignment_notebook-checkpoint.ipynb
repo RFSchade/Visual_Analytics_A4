{
 "cells": [
  {
   "cell_type": "markdown",
   "id": "e0a8160c-eb31-4d6f-944c-b88052c067af",
   "metadata": {},
   "source": [
    "# Assignment Notebook"
   ]
  },
  {
   "cell_type": "markdown",
   "id": "a47b83de-0bdd-40d5-828d-dcde9066b98f",
   "metadata": {},
   "source": [
    "Import modules "
   ]
  },
  {
   "cell_type": "code",
   "execution_count": 1,
   "id": "9571f734-5f26-4b7f-9e40-e9e8eeec8ed2",
   "metadata": {
    "execution": {
     "iopub.execute_input": "2022-05-18T09:57:43.943155Z",
     "iopub.status.busy": "2022-05-18T09:57:43.942570Z",
     "iopub.status.idle": "2022-05-18T09:57:59.326892Z",
     "shell.execute_reply": "2022-05-18T09:57:59.325427Z",
     "shell.execute_reply.started": "2022-05-18T09:57:43.943104Z"
    },
    "tags": []
   },
   "outputs": [
    {
     "name": "stderr",
     "output_type": "stream",
     "text": [
      "2022-05-18 11:57:52.735631: W tensorflow/stream_executor/platform/default/dso_loader.cc:64] Could not load dynamic library 'libcudart.so.11.0'; dlerror: libcudart.so.11.0: cannot open shared object file: No such file or directory; LD_LIBRARY_PATH: /opt/conda/lib/python3.9/site-packages/cv2/../../lib64:\n",
      "2022-05-18 11:57:52.735671: I tensorflow/stream_executor/cuda/cudart_stub.cc:29] Ignore above cudart dlerror if you do not have a GPU set up on your machine.\n"
     ]
    }
   ],
   "source": [
    "import os\n",
    "import pandas as pd\n",
    "\n",
    "import sys\n",
    "import cv2\n",
    "import numpy as np\n",
    "from numpy import savetxt\n",
    "from tqdm import tqdm   \n",
    "from tensorflow.keras.preprocessing.image import load_img, img_to_array\n",
    "\n",
    "import statistics"
   ]
  },
  {
   "cell_type": "code",
   "execution_count": 26,
   "id": "acaeea92-4c13-4526-a622-52e79d6bd930",
   "metadata": {
    "execution": {
     "iopub.execute_input": "2022-05-12T14:45:30.141596Z",
     "iopub.status.busy": "2022-05-12T14:45:30.141012Z",
     "iopub.status.idle": "2022-05-12T14:45:30.150831Z",
     "shell.execute_reply": "2022-05-12T14:45:30.149726Z",
     "shell.execute_reply.started": "2022-05-12T14:45:30.141545Z"
    },
    "tags": []
   },
   "outputs": [
    {
     "data": {
      "text/plain": [
       "'/work/cds-visual/Assignment_4/Visual_analytics_A4/notebooks'"
      ]
     },
     "execution_count": 26,
     "metadata": {},
     "output_type": "execute_result"
    }
   ],
   "source": [
    "os.getcwd()"
   ]
  },
  {
   "cell_type": "code",
   "execution_count": 27,
   "id": "ba190b2c-0a8e-4a9c-b06d-0ec0185823a4",
   "metadata": {
    "execution": {
     "iopub.execute_input": "2022-05-12T14:45:30.545909Z",
     "iopub.status.busy": "2022-05-12T14:45:30.545456Z",
     "iopub.status.idle": "2022-05-12T14:45:30.555119Z",
     "shell.execute_reply": "2022-05-12T14:45:30.553804Z",
     "shell.execute_reply.started": "2022-05-12T14:45:30.545862Z"
    },
    "tags": []
   },
   "outputs": [
    {
     "data": {
      "text/plain": [
       "['/work/cds-visual/Assignment_4/Visual_analytics_A4/notebooks',\n",
       " '/usr/local/spark/python',\n",
       " '/usr/local/spark/python/lib/py4j-0.10.9-src.zip',\n",
       " '/opt/conda/lib/python39.zip',\n",
       " '/opt/conda/lib/python3.9',\n",
       " '/opt/conda/lib/python3.9/lib-dynload',\n",
       " '',\n",
       " '/opt/conda/lib/python3.9/site-packages',\n",
       " '/opt/conda/lib/python3.9/site-packages/IPython/extensions',\n",
       " '/home/ucloud/.ipython',\n",
       " '..',\n",
       " '/work/cds-visual/Assignment_4/Visual_analytics_A4/notebooks',\n",
       " '/work/cds-visual/Assignment_4/Visual_analytics_A4/notebooks',\n",
       " '../../../../CDS-VIS',\n",
       " '../../../../CDS-VIS',\n",
       " '../../../../CDS-VIS']"
      ]
     },
     "execution_count": 27,
     "metadata": {},
     "output_type": "execute_result"
    }
   ],
   "source": [
    "sys.path"
   ]
  },
  {
   "cell_type": "code",
   "execution_count": 50,
   "id": "301e5c69-b687-420b-9fde-220357208b2b",
   "metadata": {
    "execution": {
     "iopub.execute_input": "2022-05-12T15:15:38.053805Z",
     "iopub.status.busy": "2022-05-12T15:15:38.053283Z",
     "iopub.status.idle": "2022-05-12T15:15:38.078367Z",
     "shell.execute_reply": "2022-05-12T15:15:38.077492Z",
     "shell.execute_reply.started": "2022-05-12T15:15:38.053757Z"
    },
    "tags": []
   },
   "outputs": [],
   "source": [
    "# Get the filepath\n",
    "filepath = os.path.join(\"..\", \"in\", \"annotation\", \"test.txt\")\n",
    "# Load data\n",
    "y_test = pd.read_csv(filepath, header=None, names = (\"filename\", \"category\"))"
   ]
  },
  {
   "cell_type": "code",
   "execution_count": 51,
   "id": "4be557d6-8ad7-446a-9080-a16b3a069457",
   "metadata": {
    "execution": {
     "iopub.execute_input": "2022-05-12T15:15:40.675967Z",
     "iopub.status.busy": "2022-05-12T15:15:40.675461Z",
     "iopub.status.idle": "2022-05-12T15:15:40.691093Z",
     "shell.execute_reply": "2022-05-12T15:15:40.690239Z",
     "shell.execute_reply.started": "2022-05-12T15:15:40.675916Z"
    },
    "tags": []
   },
   "outputs": [
    {
     "data": {
      "text/html": [
       "<div>\n",
       "<style scoped>\n",
       "    .dataframe tbody tr th:only-of-type {\n",
       "        vertical-align: middle;\n",
       "    }\n",
       "\n",
       "    .dataframe tbody tr th {\n",
       "        vertical-align: top;\n",
       "    }\n",
       "\n",
       "    .dataframe thead th {\n",
       "        text-align: right;\n",
       "    }\n",
       "</style>\n",
       "<table border=\"1\" class=\"dataframe\">\n",
       "  <thead>\n",
       "    <tr style=\"text-align: right;\">\n",
       "      <th></th>\n",
       "      <th>filename</th>\n",
       "      <th>category</th>\n",
       "    </tr>\n",
       "  </thead>\n",
       "  <tbody>\n",
       "    <tr>\n",
       "      <th>0</th>\n",
       "      <td>2014_06909689-Figure3-1subFig-2.png</td>\n",
       "      <td>3D objects</td>\n",
       "    </tr>\n",
       "    <tr>\n",
       "      <th>1</th>\n",
       "      <td>2000_00854933-Figure8-1subFig-1.png</td>\n",
       "      <td>3D objects</td>\n",
       "    </tr>\n",
       "    <tr>\n",
       "      <th>2</th>\n",
       "      <td>2015_07298843-Figure6-1subFig-5.png</td>\n",
       "      <td>3D objects</td>\n",
       "    </tr>\n",
       "    <tr>\n",
       "      <th>3</th>\n",
       "      <td>2007_04270220-Figure1-1subFig-1.png</td>\n",
       "      <td>3D objects</td>\n",
       "    </tr>\n",
       "    <tr>\n",
       "      <th>4</th>\n",
       "      <td>2009_05206603-Figure8-1subFig-4.png</td>\n",
       "      <td>3D objects</td>\n",
       "    </tr>\n",
       "  </tbody>\n",
       "</table>\n",
       "</div>"
      ],
      "text/plain": [
       "                              filename     category\n",
       "0  2014_06909689-Figure3-1subFig-2.png   3D objects\n",
       "1  2000_00854933-Figure8-1subFig-1.png   3D objects\n",
       "2  2015_07298843-Figure6-1subFig-5.png   3D objects\n",
       "3  2007_04270220-Figure1-1subFig-1.png   3D objects\n",
       "4  2009_05206603-Figure8-1subFig-4.png   3D objects"
      ]
     },
     "execution_count": 51,
     "metadata": {},
     "output_type": "execute_result"
    }
   ],
   "source": [
    "y_test.head()"
   ]
  },
  {
   "cell_type": "markdown",
   "id": "7091f68a-032b-4208-82fd-6535c9167722",
   "metadata": {},
   "source": [
    "__How many images?__"
   ]
  },
  {
   "cell_type": "code",
   "execution_count": 30,
   "id": "8d9c294a-a929-4ba1-83c5-53bd5efad933",
   "metadata": {
    "execution": {
     "iopub.execute_input": "2022-05-12T14:45:37.050607Z",
     "iopub.status.busy": "2022-05-12T14:45:37.050076Z",
     "iopub.status.idle": "2022-05-12T14:45:37.059839Z",
     "shell.execute_reply": "2022-05-12T14:45:37.058741Z",
     "shell.execute_reply.started": "2022-05-12T14:45:37.050554Z"
    },
    "tags": []
   },
   "outputs": [
    {
     "data": {
      "text/plain": [
       "13172"
      ]
     },
     "execution_count": 30,
     "metadata": {},
     "output_type": "execute_result"
    }
   ],
   "source": [
    "len(y_test)"
   ]
  },
  {
   "cell_type": "code",
   "execution_count": 52,
   "id": "99af7965-4634-4253-b1fa-e055da2be4d4",
   "metadata": {
    "execution": {
     "iopub.execute_input": "2022-05-12T15:15:43.235866Z",
     "iopub.status.busy": "2022-05-12T15:15:43.235348Z",
     "iopub.status.idle": "2022-05-12T15:15:43.264585Z",
     "shell.execute_reply": "2022-05-12T15:15:43.263462Z",
     "shell.execute_reply.started": "2022-05-12T15:15:43.235816Z"
    },
    "tags": []
   },
   "outputs": [],
   "source": [
    "# Get the filepath\n",
    "filepath = os.path.join(\"..\", \"in\", \"annotation\", \"train.txt\")\n",
    "# Load data\n",
    "y_train = pd.read_csv(filepath, header=None, names = (\"filename\", \"category\"))"
   ]
  },
  {
   "cell_type": "code",
   "execution_count": 32,
   "id": "c73ce3af-791f-4321-a60f-0360ac441ea1",
   "metadata": {
    "execution": {
     "iopub.execute_input": "2022-05-12T14:45:38.988158Z",
     "iopub.status.busy": "2022-05-12T14:45:38.987681Z",
     "iopub.status.idle": "2022-05-12T14:45:38.997500Z",
     "shell.execute_reply": "2022-05-12T14:45:38.996077Z",
     "shell.execute_reply.started": "2022-05-12T14:45:38.988108Z"
    },
    "tags": []
   },
   "outputs": [
    {
     "data": {
      "text/plain": [
       "19796"
      ]
     },
     "execution_count": 32,
     "metadata": {},
     "output_type": "execute_result"
    }
   ],
   "source": [
    "len(y_train)"
   ]
  },
  {
   "cell_type": "code",
   "execution_count": 33,
   "id": "4fee0cd5-d0d8-4b63-8abc-da3eaa288e9c",
   "metadata": {
    "execution": {
     "iopub.execute_input": "2022-05-12T14:45:39.778739Z",
     "iopub.status.busy": "2022-05-12T14:45:39.778039Z",
     "iopub.status.idle": "2022-05-12T14:45:39.785362Z",
     "shell.execute_reply": "2022-05-12T14:45:39.784362Z",
     "shell.execute_reply.started": "2022-05-12T14:45:39.778686Z"
    },
    "tags": []
   },
   "outputs": [
    {
     "name": "stdout",
     "output_type": "stream",
     "text": [
      "There are 32968 images in the DocFigure dataset\n"
     ]
    }
   ],
   "source": [
    "print(f\"There are {len(y_train) + len(y_test)} images in the DocFigure dataset\")"
   ]
  },
  {
   "cell_type": "markdown",
   "id": "15bbff96-6dde-41cc-a48a-060272d53de4",
   "metadata": {},
   "source": [
    "__How many categories?__"
   ]
  },
  {
   "cell_type": "code",
   "execution_count": 34,
   "id": "3b8d0d81-41b2-419c-a4f2-ef4bbb946287",
   "metadata": {
    "execution": {
     "iopub.execute_input": "2022-05-12T14:45:41.496240Z",
     "iopub.status.busy": "2022-05-12T14:45:41.495677Z",
     "iopub.status.idle": "2022-05-12T14:45:41.509314Z",
     "shell.execute_reply": "2022-05-12T14:45:41.508116Z",
     "shell.execute_reply.started": "2022-05-12T14:45:41.496188Z"
    },
    "tags": []
   },
   "outputs": [
    {
     "name": "stdout",
     "output_type": "stream",
     "text": [
      "[' 3D objects' ' Algorithm' ' Area chart' ' Bar plots' ' Block diagram'\n",
      " ' Box plot' ' Bubble Chart' ' Confusion matrix' ' Contour plot'\n",
      " ' Flow chart' ' Geographic map' ' Graph plots' ' Heat map' ' Histogram'\n",
      " ' Mask' ' Medical images' ' Natural images' ' Pareto charts' ' Pie chart'\n",
      " ' Polar plot' ' Radar chart' ' Scatter plot' ' Sketches' ' Surface plot'\n",
      " ' Tables' ' Tree Diagram' ' Vector plot' ' Venn Diagram']\n"
     ]
    }
   ],
   "source": [
    "print(y_train[\"category\"].unique())"
   ]
  },
  {
   "cell_type": "code",
   "execution_count": 35,
   "id": "3751949a-c498-463e-a123-621cf7fdf59e",
   "metadata": {
    "execution": {
     "iopub.execute_input": "2022-05-12T14:45:42.087096Z",
     "iopub.status.busy": "2022-05-12T14:45:42.086528Z",
     "iopub.status.idle": "2022-05-12T14:45:42.099180Z",
     "shell.execute_reply": "2022-05-12T14:45:42.097612Z",
     "shell.execute_reply.started": "2022-05-12T14:45:42.087050Z"
    },
    "tags": []
   },
   "outputs": [
    {
     "data": {
      "text/plain": [
       "28"
      ]
     },
     "execution_count": 35,
     "metadata": {},
     "output_type": "execute_result"
    }
   ],
   "source": [
    "len(y_train[\"category\"].unique())"
   ]
  },
  {
   "cell_type": "code",
   "execution_count": 36,
   "id": "b3d22e5b-90d7-403c-8a3b-2fc6bdd32e38",
   "metadata": {
    "execution": {
     "iopub.execute_input": "2022-05-12T14:45:42.903102Z",
     "iopub.status.busy": "2022-05-12T14:45:42.902268Z",
     "iopub.status.idle": "2022-05-12T14:45:42.915147Z",
     "shell.execute_reply": "2022-05-12T14:45:42.914282Z",
     "shell.execute_reply.started": "2022-05-12T14:45:42.903051Z"
    },
    "tags": []
   },
   "outputs": [
    {
     "data": {
      "text/plain": [
       "array([ True,  True,  True,  True,  True,  True,  True,  True,  True,\n",
       "        True,  True,  True,  True,  True,  True,  True,  True,  True,\n",
       "        True,  True,  True,  True,  True,  True,  True,  True,  True,\n",
       "        True])"
      ]
     },
     "execution_count": 36,
     "metadata": {},
     "output_type": "execute_result"
    }
   ],
   "source": [
    "y_train[\"category\"].unique() == y_test[\"category\"].unique()"
   ]
  },
  {
   "cell_type": "code",
   "execution_count": 37,
   "id": "0e430463-7b32-4acc-9fd2-a73b12a394d2",
   "metadata": {
    "execution": {
     "iopub.execute_input": "2022-05-12T14:45:43.752557Z",
     "iopub.status.busy": "2022-05-12T14:45:43.751859Z",
     "iopub.status.idle": "2022-05-12T14:45:43.762495Z",
     "shell.execute_reply": "2022-05-12T14:45:43.761848Z",
     "shell.execute_reply.started": "2022-05-12T14:45:43.752507Z"
    },
    "tags": []
   },
   "outputs": [
    {
     "data": {
      "text/plain": [
       "28"
      ]
     },
     "execution_count": 37,
     "metadata": {},
     "output_type": "execute_result"
    }
   ],
   "source": [
    "len(y_test[\"category\"].unique())"
   ]
  },
  {
   "cell_type": "code",
   "execution_count": 38,
   "id": "9739a3ef-c6ae-4474-bed7-d58eaa2ccdd0",
   "metadata": {
    "execution": {
     "iopub.execute_input": "2022-05-12T14:45:46.805668Z",
     "iopub.status.busy": "2022-05-12T14:45:46.804370Z",
     "iopub.status.idle": "2022-05-12T14:45:46.811478Z",
     "shell.execute_reply": "2022-05-12T14:45:46.810599Z",
     "shell.execute_reply.started": "2022-05-12T14:45:46.805576Z"
    },
    "tags": []
   },
   "outputs": [
    {
     "name": "stdout",
     "output_type": "stream",
     "text": [
      "There are 28 in the both training and testing datasets\n"
     ]
    }
   ],
   "source": [
    "print(\"There are 28 in the both training and testing datasets\")"
   ]
  },
  {
   "cell_type": "markdown",
   "id": "ece7a1a9-b26d-4d39-a363-530cb6519248",
   "metadata": {},
   "source": [
    "__How many in each category?__"
   ]
  },
  {
   "cell_type": "code",
   "execution_count": 39,
   "id": "e35bb3ee-e5b8-4f37-8551-7bc54a1077e3",
   "metadata": {
    "execution": {
     "iopub.execute_input": "2022-05-12T14:45:48.346842Z",
     "iopub.status.busy": "2022-05-12T14:45:48.346078Z",
     "iopub.status.idle": "2022-05-12T14:45:48.360242Z",
     "shell.execute_reply": "2022-05-12T14:45:48.359485Z",
     "shell.execute_reply.started": "2022-05-12T14:45:48.346787Z"
    },
    "tags": []
   },
   "outputs": [
    {
     "data": {
      "text/plain": [
       " Graph plots         5413\n",
       " Natural images      2206\n",
       " Tables              1140\n",
       " 3D objects           821\n",
       " Bar plots            718\n",
       " Scatter plot         683\n",
       " Medical images       677\n",
       " Sketches             664\n",
       " Flow chart           645\n",
       " Heat map             644\n",
       " Mask                 634\n",
       " Geographic map       632\n",
       " Block diagram        615\n",
       " Venn Diagram         518\n",
       " Confusion matrix     487\n",
       " Histogram            470\n",
       " Box plot             364\n",
       " Vector plot          346\n",
       " Pie chart            260\n",
       " Surface plot         236\n",
       " Algorithm            233\n",
       " Contour plot         218\n",
       " Tree Diagram         212\n",
       " Bubble Chart         203\n",
       " Polar plot           202\n",
       " Pareto charts        187\n",
       " Area chart           187\n",
       " Radar chart          181\n",
       "Name: category, dtype: int64"
      ]
     },
     "execution_count": 39,
     "metadata": {},
     "output_type": "execute_result"
    }
   ],
   "source": [
    "y_train[\"category\"].value_counts()"
   ]
  },
  {
   "cell_type": "markdown",
   "id": "fc09fbab-7d3b-4ac9-9604-a4f3e566bf8a",
   "metadata": {},
   "source": [
    "The smallest category is \"Radar chart\", with 181 instances"
   ]
  },
  {
   "cell_type": "code",
   "execution_count": 40,
   "id": "26ee2dbb-7d81-4de4-8856-b143a7b4b488",
   "metadata": {
    "execution": {
     "iopub.execute_input": "2022-05-12T14:45:49.438898Z",
     "iopub.status.busy": "2022-05-12T14:45:49.438299Z",
     "iopub.status.idle": "2022-05-12T14:45:49.452658Z",
     "shell.execute_reply": "2022-05-12T14:45:49.451779Z",
     "shell.execute_reply.started": "2022-05-12T14:45:49.438844Z"
    },
    "tags": []
   },
   "outputs": [
    {
     "data": {
      "text/plain": [
       " Graph plots         3607\n",
       " Natural images      1470\n",
       " Tables               759\n",
       " 3D objects           547\n",
       " Bar plots            478\n",
       " Scatter plot         455\n",
       " Medical images       451\n",
       " Sketches             441\n",
       " Heat map             429\n",
       " Flow chart           429\n",
       " Mask                 421\n",
       " Geographic map       420\n",
       " Block diagram        409\n",
       " Venn Diagram         345\n",
       " Confusion matrix     324\n",
       " Histogram            313\n",
       " Box plot             241\n",
       " Vector plot          229\n",
       " Pie chart            173\n",
       " Surface plot         156\n",
       " Algorithm            155\n",
       " Contour plot         144\n",
       " Tree Diagram         140\n",
       " Bubble Chart         135\n",
       " Polar plot           134\n",
       " Pareto charts        124\n",
       " Area chart           123\n",
       " Radar chart          120\n",
       "Name: category, dtype: int64"
      ]
     },
     "execution_count": 40,
     "metadata": {},
     "output_type": "execute_result"
    }
   ],
   "source": [
    "y_test[\"category\"].value_counts()"
   ]
  },
  {
   "cell_type": "markdown",
   "id": "daa30c08-ddc3-4bdb-ad42-79f6abef8614",
   "metadata": {},
   "source": [
    "The smallest category is again \"Radar chart\", with 120 instances this time "
   ]
  },
  {
   "cell_type": "code",
   "execution_count": 41,
   "id": "49d68c48-f5a2-4e18-92fa-d031f7acd9f0",
   "metadata": {
    "execution": {
     "iopub.execute_input": "2022-05-12T14:50:53.787773Z",
     "iopub.status.busy": "2022-05-12T14:50:53.787245Z",
     "iopub.status.idle": "2022-05-12T14:50:53.842011Z",
     "shell.execute_reply": "2022-05-12T14:50:53.840681Z",
     "shell.execute_reply.started": "2022-05-12T14:50:53.787722Z"
    }
   },
   "outputs": [],
   "source": [
    "filename = os.path.join(\"..\", \"in\", \"images\", \"venD_839.jpg\")\n",
    "image = cv2.imread(filename)"
   ]
  },
  {
   "cell_type": "code",
   "execution_count": 42,
   "id": "87879196-9b66-4843-b42d-ed340910c3c0",
   "metadata": {
    "execution": {
     "iopub.execute_input": "2022-05-12T14:50:58.269877Z",
     "iopub.status.busy": "2022-05-12T14:50:58.269349Z",
     "iopub.status.idle": "2022-05-12T14:50:58.279200Z",
     "shell.execute_reply": "2022-05-12T14:50:58.277826Z",
     "shell.execute_reply.started": "2022-05-12T14:50:58.269826Z"
    }
   },
   "outputs": [
    {
     "data": {
      "text/plain": [
       "(749, 530, 3)"
      ]
     },
     "execution_count": 42,
     "metadata": {},
     "output_type": "execute_result"
    }
   ],
   "source": [
    "image.shape"
   ]
  },
  {
   "cell_type": "code",
   "execution_count": 43,
   "id": "7f45067b-4b23-416f-a2b6-91cc6be76562",
   "metadata": {
    "execution": {
     "iopub.execute_input": "2022-05-12T14:52:22.048230Z",
     "iopub.status.busy": "2022-05-12T14:52:22.047546Z",
     "iopub.status.idle": "2022-05-12T14:52:22.056167Z",
     "shell.execute_reply": "2022-05-12T14:52:22.055329Z",
     "shell.execute_reply.started": "2022-05-12T14:52:22.048179Z"
    }
   },
   "outputs": [],
   "source": [
    "filename = os.path.join(\"..\", \"in\", \"images\", \"1996_00517172-Figure8-1subFig-1.png\")\n",
    "image = cv2.imread(filename)"
   ]
  },
  {
   "cell_type": "code",
   "execution_count": 44,
   "id": "602b7076-b245-45ee-af51-3c80cb0a6be5",
   "metadata": {
    "execution": {
     "iopub.execute_input": "2022-05-12T14:52:27.916284Z",
     "iopub.status.busy": "2022-05-12T14:52:27.915871Z",
     "iopub.status.idle": "2022-05-12T14:52:27.924618Z",
     "shell.execute_reply": "2022-05-12T14:52:27.923499Z",
     "shell.execute_reply.started": "2022-05-12T14:52:27.916243Z"
    }
   },
   "outputs": [
    {
     "data": {
      "text/plain": [
       "(277, 349, 3)"
      ]
     },
     "execution_count": 44,
     "metadata": {},
     "output_type": "execute_result"
    }
   ],
   "source": [
    "image.shape"
   ]
  },
  {
   "cell_type": "markdown",
   "id": "842387e0-b27d-4221-937e-2916112632ea",
   "metadata": {},
   "source": [
    "The Images have different sizes "
   ]
  },
  {
   "cell_type": "markdown",
   "id": "0088a767-9a69-48dd-b780-2d3a77f82683",
   "metadata": {},
   "source": [
    "Lets try to see if I can get an overview of the differing sizes"
   ]
  },
  {
   "cell_type": "code",
   "execution_count": 83,
   "id": "1be79d39-6a0a-4182-b2c7-dc54405cbe87",
   "metadata": {
    "execution": {
     "iopub.execute_input": "2022-05-12T16:29:59.701203Z",
     "iopub.status.busy": "2022-05-12T16:29:59.700383Z",
     "iopub.status.idle": "2022-05-12T16:30:00.152200Z",
     "shell.execute_reply": "2022-05-12T16:30:00.151483Z",
     "shell.execute_reply.started": "2022-05-12T16:29:59.701139Z"
    },
    "tags": []
   },
   "outputs": [],
   "source": [
    "directory_path = os.path.join(\"..\", \"in\", \"images\")\n",
    "filenames = sorted(os.listdir(directory_path)) # os.listdir does not order on it's own"
   ]
  },
  {
   "cell_type": "code",
   "execution_count": 86,
   "id": "878fd270-918a-490e-b452-ebbbf697d34a",
   "metadata": {
    "execution": {
     "iopub.execute_input": "2022-05-12T16:30:10.868382Z",
     "iopub.status.busy": "2022-05-12T16:30:10.867879Z",
     "iopub.status.idle": "2022-05-12T16:30:10.877208Z",
     "shell.execute_reply": "2022-05-12T16:30:10.876283Z",
     "shell.execute_reply.started": "2022-05-12T16:30:10.868337Z"
    },
    "tags": []
   },
   "outputs": [
    {
     "data": {
      "text/plain": [
       "['1996_00517172-Figure8-1subFig-1.png',\n",
       " '1998_00698580-Figure1-1subFig-2.png',\n",
       " '1998_00698580-Figure4-1subFig-1.png',\n",
       " '1998_00698583-Figure5-1subFig-1.png',\n",
       " '1998_00698585-Figure2-1subFig-1.png',\n",
       " '1998_00698587-Figure1-1subFig-13.png',\n",
       " '1998_00698587-Figure1-1subFig-4.png',\n",
       " '1998_00698587-Figure1-1subFig-9.png',\n",
       " '1998_00698587-Figure2-1subFig-14.png',\n",
       " '1998_00698587-Figure4-1subFig-2.png']"
      ]
     },
     "execution_count": 86,
     "metadata": {},
     "output_type": "execute_result"
    }
   ],
   "source": [
    "filenames[:10]"
   ]
  },
  {
   "cell_type": "code",
   "execution_count": 69,
   "id": "551f3118-28b0-4b0b-a05f-528a6f404851",
   "metadata": {
    "execution": {
     "iopub.execute_input": "2022-05-12T16:23:28.330542Z",
     "iopub.status.busy": "2022-05-12T16:23:28.329995Z",
     "iopub.status.idle": "2022-05-12T16:23:28.338976Z",
     "shell.execute_reply": "2022-05-12T16:23:28.337809Z",
     "shell.execute_reply.started": "2022-05-12T16:23:28.330492Z"
    },
    "tags": []
   },
   "outputs": [
    {
     "data": {
      "text/plain": [
       "27242"
      ]
     },
     "execution_count": 69,
     "metadata": {},
     "output_type": "execute_result"
    }
   ],
   "source": [
    "len(sizes)"
   ]
  },
  {
   "cell_type": "code",
   "execution_count": 72,
   "id": "158fbed3-1e61-4494-8b91-a12ab479e474",
   "metadata": {
    "execution": {
     "iopub.execute_input": "2022-05-12T16:25:30.972138Z",
     "iopub.status.busy": "2022-05-12T16:25:30.971675Z",
     "iopub.status.idle": "2022-05-12T16:25:30.980266Z",
     "shell.execute_reply": "2022-05-12T16:25:30.979200Z",
     "shell.execute_reply.started": "2022-05-12T16:25:30.972094Z"
    },
    "tags": []
   },
   "outputs": [
    {
     "data": {
      "text/plain": [
       "'algo_137.svg'"
      ]
     },
     "execution_count": 72,
     "metadata": {},
     "output_type": "execute_result"
    }
   ],
   "source": [
    "filenames[27243]"
   ]
  },
  {
   "cell_type": "code",
   "execution_count": 75,
   "id": "349cf823-e40c-4e2c-ae44-171a5052c7bc",
   "metadata": {
    "execution": {
     "iopub.execute_input": "2022-05-12T16:27:35.169819Z",
     "iopub.status.busy": "2022-05-12T16:27:35.169285Z",
     "iopub.status.idle": "2022-05-12T16:27:35.204323Z",
     "shell.execute_reply": "2022-05-12T16:27:35.203378Z",
     "shell.execute_reply.started": "2022-05-12T16:27:35.169770Z"
    },
    "tags": []
   },
   "outputs": [
    {
     "name": "stderr",
     "output_type": "stream",
     "text": [
      "100%|██████████| 33070/33070 [00:00<00:00, 1470242.66it/s]\n"
     ]
    }
   ],
   "source": [
    "svg_files = []\n",
    "for file in tqdm(filenames[1:]):\n",
    "    if file.endswith(\".svg\"):\n",
    "        svg_files.append(file)"
   ]
  },
  {
   "cell_type": "code",
   "execution_count": 77,
   "id": "f9b7a60c-469f-4784-9204-40bc170b8971",
   "metadata": {
    "execution": {
     "iopub.execute_input": "2022-05-12T16:27:54.385104Z",
     "iopub.status.busy": "2022-05-12T16:27:54.384574Z",
     "iopub.status.idle": "2022-05-12T16:27:54.392819Z",
     "shell.execute_reply": "2022-05-12T16:27:54.391916Z",
     "shell.execute_reply.started": "2022-05-12T16:27:54.385055Z"
    },
    "tags": []
   },
   "outputs": [
    {
     "data": {
      "text/plain": [
       "28"
      ]
     },
     "execution_count": 77,
     "metadata": {},
     "output_type": "execute_result"
    }
   ],
   "source": [
    "len(svg_files)"
   ]
  },
  {
   "cell_type": "code",
   "execution_count": 79,
   "id": "026ccaaf-ef8e-461f-aa4f-b597bc4c83e2",
   "metadata": {
    "execution": {
     "iopub.execute_input": "2022-05-12T16:28:39.327031Z",
     "iopub.status.busy": "2022-05-12T16:28:39.326533Z",
     "iopub.status.idle": "2022-05-12T16:28:39.333198Z",
     "shell.execute_reply": "2022-05-12T16:28:39.332255Z",
     "shell.execute_reply.started": "2022-05-12T16:28:39.326986Z"
    },
    "tags": []
   },
   "outputs": [
    {
     "name": "stdout",
     "output_type": "stream",
     "text": [
      "['algo_137.svg', 'algo_41.svg', 'algo_80.svg', 'areaP_122.svg', 'areaP_82.svg', 'areaP_88.svg', 'areaP_90.svg', 'bubleP_303.svg', 'contueP_237.svg', 'pieChart_291.svg', 'pieChart_294.svg', 'pieChart_351.svg', 'pieChart_73.svg', 'polarP_226.svg', 'radarC_75.svg', 'treeD_117.svg', 'treeD_226.svg', 'treeD_227.svg', 'treeD_228.svg', 'treeD_243.svg', 'treeD_336.svg', 'venD_20.svg', 'venD_332.svg', 'venD_42.svg', 'venD_545.svg', 'venD_681.svg', 'venD_684.svg', 'venD_687.svg']\n"
     ]
    }
   ],
   "source": [
    "print(svg_files)"
   ]
  },
  {
   "cell_type": "code",
   "execution_count": 85,
   "id": "f65a2319-d80f-4b1b-a214-3345bcc492b6",
   "metadata": {
    "execution": {
     "iopub.execute_input": "2022-05-12T16:30:05.837404Z",
     "iopub.status.busy": "2022-05-12T16:30:05.836880Z",
     "iopub.status.idle": "2022-05-12T16:30:05.844246Z",
     "shell.execute_reply": "2022-05-12T16:30:05.843339Z",
     "shell.execute_reply.started": "2022-05-12T16:30:05.837355Z"
    },
    "tags": []
   },
   "outputs": [],
   "source": [
    "#filenames = filenames[1:]"
   ]
  },
  {
   "cell_type": "code",
   "execution_count": 98,
   "id": "3210e77a-5a35-4512-be62-d87834b83b5c",
   "metadata": {
    "execution": {
     "iopub.execute_input": "2022-05-12T16:40:41.243722Z",
     "iopub.status.busy": "2022-05-12T16:40:41.243215Z",
     "iopub.status.idle": "2022-05-12T16:40:41.262980Z",
     "shell.execute_reply": "2022-05-12T16:40:41.262384Z",
     "shell.execute_reply.started": "2022-05-12T16:40:41.243680Z"
    },
    "tags": []
   },
   "outputs": [
    {
     "data": {
      "text/plain": [
       "False"
      ]
     },
     "execution_count": 98,
     "metadata": {},
     "output_type": "execute_result"
    }
   ],
   "source": [
    "y_filenames = y[\"filename\"].tolist()\n",
    "sorted(filenames) == sorted(y_filenames)"
   ]
  },
  {
   "cell_type": "code",
   "execution_count": 100,
   "id": "fe101c35-dc33-4a43-985f-f6feacff82ae",
   "metadata": {
    "execution": {
     "iopub.execute_input": "2022-05-12T16:41:07.051602Z",
     "iopub.status.busy": "2022-05-12T16:41:07.051053Z",
     "iopub.status.idle": "2022-05-12T16:41:13.777977Z",
     "shell.execute_reply": "2022-05-12T16:41:13.777225Z",
     "shell.execute_reply.started": "2022-05-12T16:41:07.051553Z"
    },
    "tags": []
   },
   "outputs": [
    {
     "name": "stderr",
     "output_type": "stream",
     "text": [
      "100%|██████████| 33070/33070 [00:06<00:00, 4924.99it/s]\n"
     ]
    }
   ],
   "source": [
    "# The lists are not equivelant, so I am going to limit the data to the images that are listed in the y data\n",
    "images = []\n",
    "for file in tqdm(filenames):\n",
    "    if file in y_filenames:\n",
    "        images.append(file)"
   ]
  },
  {
   "cell_type": "code",
   "execution_count": 105,
   "id": "24a342f7-440b-436e-82c9-fcf664a7b94d",
   "metadata": {
    "execution": {
     "iopub.execute_input": "2022-05-12T16:42:53.110748Z",
     "iopub.status.busy": "2022-05-12T16:42:53.110385Z",
     "iopub.status.idle": "2022-05-12T16:42:53.116005Z",
     "shell.execute_reply": "2022-05-12T16:42:53.115261Z",
     "shell.execute_reply.started": "2022-05-12T16:42:53.110716Z"
    },
    "tags": []
   },
   "outputs": [
    {
     "name": "stdout",
     "output_type": "stream",
     "text": [
      "32967\n",
      "32968\n"
     ]
    }
   ],
   "source": [
    "print(len(images))\n",
    "print(len(y[\"filename\"]))"
   ]
  },
  {
   "cell_type": "markdown",
   "id": "e6f4dbde-a0ab-4bac-b20e-9133109e051f",
   "metadata": {},
   "source": [
    "It seems like there was one filename that did not have a corrosponding image"
   ]
  },
  {
   "cell_type": "code",
   "execution_count": 114,
   "id": "004ff4f1-1d16-405e-b7fa-4efa664e3e7d",
   "metadata": {
    "execution": {
     "iopub.execute_input": "2022-05-12T16:52:15.316370Z",
     "iopub.status.busy": "2022-05-12T16:52:15.315943Z",
     "iopub.status.idle": "2022-05-12T16:52:25.377009Z",
     "shell.execute_reply": "2022-05-12T16:52:25.375944Z",
     "shell.execute_reply.started": "2022-05-12T16:52:15.316342Z"
    },
    "tags": []
   },
   "outputs": [
    {
     "name": "stderr",
     "output_type": "stream",
     "text": [
      "100%|██████████| 32968/32968 [00:10<00:00, 3279.87it/s]\n"
     ]
    }
   ],
   "source": [
    "missing_y = []\n",
    "missing_img = []\n",
    "all_there = []\n",
    "\n",
    "for y_file in tqdm(y_filenames):\n",
    "    if y_file in filenames:\n",
    "        all_there.append(y_file)\n",
    "    else:\n",
    "        missing_img.append(y_file)"
   ]
  },
  {
   "cell_type": "code",
   "execution_count": 118,
   "id": "8c619332-737c-4635-a80e-675b3b0e4218",
   "metadata": {
    "execution": {
     "iopub.execute_input": "2022-05-12T16:54:07.255875Z",
     "iopub.status.busy": "2022-05-12T16:54:07.255311Z",
     "iopub.status.idle": "2022-05-12T16:54:07.265213Z",
     "shell.execute_reply": "2022-05-12T16:54:07.263754Z",
     "shell.execute_reply.started": "2022-05-12T16:54:07.255826Z"
    },
    "tags": []
   },
   "outputs": [
    {
     "data": {
      "text/plain": [
       "32967"
      ]
     },
     "execution_count": 118,
     "metadata": {},
     "output_type": "execute_result"
    }
   ],
   "source": [
    "len(all_there_img)"
   ]
  },
  {
   "cell_type": "code",
   "execution_count": 120,
   "id": "5bc8004c-f484-470b-825c-3d3be1005d74",
   "metadata": {
    "execution": {
     "iopub.execute_input": "2022-05-12T16:54:43.593499Z",
     "iopub.status.busy": "2022-05-12T16:54:43.592961Z",
     "iopub.status.idle": "2022-05-12T16:54:43.616484Z",
     "shell.execute_reply": "2022-05-12T16:54:43.615730Z",
     "shell.execute_reply.started": "2022-05-12T16:54:43.593450Z"
    },
    "tags": []
   },
   "outputs": [
    {
     "data": {
      "text/plain": [
       "False"
      ]
     },
     "execution_count": 120,
     "metadata": {},
     "output_type": "execute_result"
    }
   ],
   "source": [
    "sorted(all_there) == sorted(all_there_img)"
   ]
  },
  {
   "cell_type": "code",
   "execution_count": 129,
   "id": "890cd7b2-ab9a-4230-950e-910459974864",
   "metadata": {
    "execution": {
     "iopub.execute_input": "2022-05-12T16:59:58.265684Z",
     "iopub.status.busy": "2022-05-12T16:59:58.265110Z",
     "iopub.status.idle": "2022-05-12T16:59:58.285414Z",
     "shell.execute_reply": "2022-05-12T16:59:58.284832Z",
     "shell.execute_reply.started": "2022-05-12T16:59:58.265631Z"
    },
    "tags": []
   },
   "outputs": [
    {
     "ename": "TypeError",
     "evalue": "unsupported operand type(s) for -: 'list' and 'list'",
     "output_type": "error",
     "traceback": [
      "\u001b[0;31m---------------------------------------------------------------------------\u001b[0m",
      "\u001b[0;31mTypeError\u001b[0m                                 Traceback (most recent call last)",
      "\u001b[0;32m/tmp/ipykernel_524/625810235.py\u001b[0m in \u001b[0;36m<module>\u001b[0;34m\u001b[0m\n\u001b[0;32m----> 1\u001b[0;31m \u001b[0mlist\u001b[0m\u001b[0;34m(\u001b[0m\u001b[0mall_there_img\u001b[0m \u001b[0;34m-\u001b[0m \u001b[0mall_there\u001b[0m\u001b[0;34m)\u001b[0m\u001b[0;34m\u001b[0m\u001b[0;34m\u001b[0m\u001b[0m\n\u001b[0m",
      "\u001b[0;31mTypeError\u001b[0m: unsupported operand type(s) for -: 'list' and 'list'"
     ]
    }
   ],
   "source": [
    "list(set(all_there_img - set(all_there)) "
   ]
  },
  {
   "cell_type": "code",
   "execution_count": 131,
   "id": "40d77bea-cf25-492d-9f91-c60d85dcaed3",
   "metadata": {
    "execution": {
     "iopub.execute_input": "2022-05-12T17:01:10.316166Z",
     "iopub.status.busy": "2022-05-12T17:01:10.315552Z",
     "iopub.status.idle": "2022-05-12T17:01:10.337015Z",
     "shell.execute_reply": "2022-05-12T17:01:10.336393Z",
     "shell.execute_reply.started": "2022-05-12T17:01:10.316122Z"
    },
    "tags": []
   },
   "outputs": [
    {
     "data": {
      "text/plain": [
       "[]"
      ]
     },
     "execution_count": 131,
     "metadata": {},
     "output_type": "execute_result"
    }
   ],
   "source": [
    "list(set(all_there).symmetric_difference(set(all_there_img)))"
   ]
  },
  {
   "cell_type": "code",
   "execution_count": 141,
   "id": "25588272-319f-4cdc-996b-4bd088e0426f",
   "metadata": {
    "execution": {
     "iopub.execute_input": "2022-05-12T17:06:01.353367Z",
     "iopub.status.busy": "2022-05-12T17:06:01.352839Z",
     "iopub.status.idle": "2022-05-12T17:06:01.368597Z",
     "shell.execute_reply": "2022-05-12T17:06:01.367107Z",
     "shell.execute_reply.started": "2022-05-12T17:06:01.353315Z"
    },
    "tags": []
   },
   "outputs": [
    {
     "data": {
      "text/plain": [
       "False"
      ]
     },
     "execution_count": 141,
     "metadata": {},
     "output_type": "execute_result"
    }
   ],
   "source": [
    "len(y_filenames) == len(set(y_filenames))"
   ]
  },
  {
   "cell_type": "code",
   "execution_count": 151,
   "id": "746a4da2-16e1-42d7-917a-c7c97d6924f6",
   "metadata": {
    "execution": {
     "iopub.execute_input": "2022-05-12T17:12:48.651566Z",
     "iopub.status.busy": "2022-05-12T17:12:48.650358Z",
     "iopub.status.idle": "2022-05-12T17:12:48.683429Z",
     "shell.execute_reply": "2022-05-12T17:12:48.682838Z",
     "shell.execute_reply.started": "2022-05-12T17:12:48.651501Z"
    },
    "tags": []
   },
   "outputs": [
    {
     "data": {
      "text/plain": [
       "False"
      ]
     },
     "execution_count": 151,
     "metadata": {},
     "output_type": "execute_result"
    }
   ],
   "source": [
    "set(sorted(y[\"filename\"])) == sorted(y[\"filename\"])"
   ]
  },
  {
   "cell_type": "code",
   "execution_count": 152,
   "id": "e1c652d9-df7e-4af1-9564-dd0813b5b4b1",
   "metadata": {
    "execution": {
     "iopub.execute_input": "2022-05-12T17:14:02.255191Z",
     "iopub.status.busy": "2022-05-12T17:14:02.254632Z",
     "iopub.status.idle": "2022-05-12T17:14:02.275292Z",
     "shell.execute_reply": "2022-05-12T17:14:02.274386Z",
     "shell.execute_reply.started": "2022-05-12T17:14:02.255140Z"
    }
   },
   "outputs": [],
   "source": [
    "y_rm_dup = y.drop_duplicates(subset=[\"filename\"])"
   ]
  },
  {
   "cell_type": "code",
   "execution_count": 153,
   "id": "710c8288-7fac-45d5-adf1-42292c280711",
   "metadata": {
    "execution": {
     "iopub.execute_input": "2022-05-12T17:14:21.881201Z",
     "iopub.status.busy": "2022-05-12T17:14:21.880629Z",
     "iopub.status.idle": "2022-05-12T17:14:21.890445Z",
     "shell.execute_reply": "2022-05-12T17:14:21.889176Z",
     "shell.execute_reply.started": "2022-05-12T17:14:21.881149Z"
    }
   },
   "outputs": [
    {
     "data": {
      "text/plain": [
       "32967"
      ]
     },
     "execution_count": 153,
     "metadata": {},
     "output_type": "execute_result"
    }
   ],
   "source": [
    "len(y_rm_dup[\"filename\"])"
   ]
  },
  {
   "cell_type": "code",
   "execution_count": 157,
   "id": "ff963129-1090-4f49-af34-36e9cbd38bd8",
   "metadata": {
    "execution": {
     "iopub.execute_input": "2022-05-12T17:22:36.157553Z",
     "iopub.status.busy": "2022-05-12T17:22:36.156811Z",
     "iopub.status.idle": "2022-05-12T17:22:36.166178Z",
     "shell.execute_reply": "2022-05-12T17:22:36.164915Z",
     "shell.execute_reply.started": "2022-05-12T17:22:36.157496Z"
    },
    "tags": []
   },
   "outputs": [
    {
     "data": {
      "text/plain": [
       "3071"
      ]
     },
     "execution_count": 157,
     "metadata": {},
     "output_type": "execute_result"
    }
   ],
   "source": [
    "len(sizes)"
   ]
  },
  {
   "cell_type": "code",
   "execution_count": 159,
   "id": "a0123d13-f6f4-4432-9d40-862d016900d6",
   "metadata": {
    "execution": {
     "iopub.execute_input": "2022-05-12T17:24:12.618304Z",
     "iopub.status.busy": "2022-05-12T17:24:12.617191Z",
     "iopub.status.idle": "2022-05-12T17:24:12.626064Z",
     "shell.execute_reply": "2022-05-12T17:24:12.625210Z",
     "shell.execute_reply.started": "2022-05-12T17:24:12.618244Z"
    },
    "tags": []
   },
   "outputs": [
    {
     "data": {
      "text/plain": [
       "('contueP_192.jpg', (332, 488, 3))"
      ]
     },
     "execution_count": 159,
     "metadata": {},
     "output_type": "execute_result"
    }
   ],
   "source": [
    "sizes[-1]"
   ]
  },
  {
   "cell_type": "code",
   "execution_count": 163,
   "id": "cca65893-6163-4bec-9240-c5502631cb85",
   "metadata": {
    "execution": {
     "iopub.execute_input": "2022-05-12T17:26:32.487942Z",
     "iopub.status.busy": "2022-05-12T17:26:32.487425Z",
     "iopub.status.idle": "2022-05-12T17:26:32.495907Z",
     "shell.execute_reply": "2022-05-12T17:26:32.494975Z",
     "shell.execute_reply.started": "2022-05-12T17:26:32.487894Z"
    },
    "tags": []
   },
   "outputs": [
    {
     "data": {
      "text/plain": [
       "'contueP_194.GIF'"
      ]
     },
     "execution_count": 163,
     "metadata": {},
     "output_type": "execute_result"
    }
   ],
   "source": [
    "y_filenames[3071]"
   ]
  },
  {
   "cell_type": "code",
   "execution_count": 164,
   "id": "59d4561e-bfcc-4e83-b60a-dd1590b945e6",
   "metadata": {
    "execution": {
     "iopub.execute_input": "2022-05-12T17:31:13.450707Z",
     "iopub.status.busy": "2022-05-12T17:31:13.450167Z",
     "iopub.status.idle": "2022-05-12T17:31:13.479659Z",
     "shell.execute_reply": "2022-05-12T17:31:13.479059Z",
     "shell.execute_reply.started": "2022-05-12T17:31:13.450658Z"
    }
   },
   "outputs": [
    {
     "name": "stderr",
     "output_type": "stream",
     "text": [
      "100%|██████████| 32967/32967 [00:00<00:00, 1745350.15it/s]\n"
     ]
    }
   ],
   "source": [
    "# How many GIF\n",
    "gif_files = []\n",
    "for file in tqdm(y_filenames):\n",
    "    if file.endswith(\".GIF\"):\n",
    "        gif_files.append(file)"
   ]
  },
  {
   "cell_type": "code",
   "execution_count": 166,
   "id": "0fefd0fd-a578-416e-a183-3fc557ab53fe",
   "metadata": {
    "execution": {
     "iopub.execute_input": "2022-05-12T17:31:44.697463Z",
     "iopub.status.busy": "2022-05-12T17:31:44.696789Z",
     "iopub.status.idle": "2022-05-12T17:31:44.706959Z",
     "shell.execute_reply": "2022-05-12T17:31:44.705655Z",
     "shell.execute_reply.started": "2022-05-12T17:31:44.697399Z"
    },
    "tags": []
   },
   "outputs": [
    {
     "data": {
      "text/plain": [
       "['contueP_194.GIF',\n",
       " 'gMap_730.GIF',\n",
       " 'paretoC_251.GIF',\n",
       " 'surfaceP_257.GIF',\n",
       " 'surfaceP_33.GIF',\n",
       " 'treeD_344.GIF',\n",
       " 'venD_313.GIF',\n",
       " 'algo_171.GIF',\n",
       " 'contueP_193.GIF',\n",
       " 'bubleP_338.GIF',\n",
       " 'surfaceP_96.GIF',\n",
       " 'boxP_122.GIF',\n",
       " 'bubleP_256.GIF',\n",
       " 'gMap_273.GIF',\n",
       " 'treeD_29.GIF']"
      ]
     },
     "execution_count": 166,
     "metadata": {},
     "output_type": "execute_result"
    }
   ],
   "source": [
    "gif_files"
   ]
  },
  {
   "cell_type": "code",
   "execution_count": 169,
   "id": "59f64275-0b6c-4922-8bbb-14103fae2f06",
   "metadata": {
    "execution": {
     "iopub.execute_input": "2022-05-12T17:34:35.452815Z",
     "iopub.status.busy": "2022-05-12T17:34:35.452274Z",
     "iopub.status.idle": "2022-05-12T17:34:35.489628Z",
     "shell.execute_reply": "2022-05-12T17:34:35.488817Z",
     "shell.execute_reply.started": "2022-05-12T17:34:35.452765Z"
    },
    "tags": []
   },
   "outputs": [],
   "source": [
    "# Remove GIF files from dataframe\n",
    "# identify partial string\n",
    "discard = [\".GIF\"]\n",
    "  \n",
    "# drop rows that contain the partial string \"Sci\"\n",
    "y_no_gif = y_rm_dup[~y_rm_dup.filename.str.contains('|'.join(discard))]\n"
   ]
  },
  {
   "cell_type": "code",
   "execution_count": 170,
   "id": "64613113-dd4b-4174-a2d2-52e25602a978",
   "metadata": {
    "execution": {
     "iopub.execute_input": "2022-05-12T17:36:36.857128Z",
     "iopub.status.busy": "2022-05-12T17:36:36.856610Z",
     "iopub.status.idle": "2022-05-12T17:41:54.447291Z",
     "shell.execute_reply": "2022-05-12T17:41:54.446083Z",
     "shell.execute_reply.started": "2022-05-12T17:36:36.857082Z"
    },
    "tags": []
   },
   "outputs": [
    {
     "name": "stderr",
     "output_type": "stream",
     "text": [
      "  2%|▏         | 685/32952 [00:47<47:24, 11.34it/s] libpng warning: iCCP: known incorrect sRGB profile\n",
      "  2%|▏         | 729/32952 [00:51<42:23, 12.67it/s]  libpng warning: iCCP: known incorrect sRGB profile\n",
      "  2%|▏         | 731/32952 [00:51<43:33, 12.33it/s]libpng warning: iCCP: profile 'icc': 'RGB ': RGB color space not permitted on grayscale PNG\n",
      "  2%|▏         | 810/32952 [01:00<1:16:06,  7.04it/s]libpng warning: iCCP: profile 'ICC Profile': 0h: PCS illuminant is not D50\n",
      "  2%|▏         | 812/32952 [01:00<1:23:53,  6.38it/s]libpng warning: iCCP: known incorrect sRGB profile\n",
      "  3%|▎         | 832/32952 [01:03<59:52,  8.94it/s]  libpng warning: iCCP: profile 'ICC Profile': 0h: PCS illuminant is not D50\n",
      "  3%|▎         | 838/32952 [01:03<58:23,  9.17it/s]libpng warning: iCCP: profile 'icc': 0h: PCS illuminant is not D50\n",
      "libpng warning: iCCP: profile 'icc': 'RGB ': RGB color space not permitted on grayscale PNG\n",
      "  3%|▎         | 848/32952 [01:04<55:19,  9.67it/s]  libpng warning: bKGD: invalid\n",
      "  3%|▎         | 850/32952 [01:04<49:13, 10.87it/s]libpng warning: iCCP: profile 'ICC Profile': 0h: PCS illuminant is not D50\n",
      "  3%|▎         | 930/32952 [01:13<44:59, 11.86it/s]  libpng warning: iCCP: known incorrect sRGB profile\n",
      "  3%|▎         | 947/32952 [01:15<44:22, 12.02it/s]  libpng warning: iCCP: known incorrect sRGB profile\n",
      "  7%|▋         | 2303/32952 [03:06<28:59, 17.62it/s]  libpng warning: iCCP: known incorrect sRGB profile\n",
      "  8%|▊         | 2499/32952 [03:20<41:24, 12.26it/s]  libpng warning: skRf: CRC error\n",
      "libpng warning: skMf: CRC error\n",
      "  8%|▊         | 2531/32952 [03:23<39:23, 12.87it/s]libpng warning: iCCP: known incorrect sRGB profile\n",
      "  8%|▊         | 2537/32952 [03:24<49:19, 10.28it/s]libpng warning: iCCP: known incorrect sRGB profile\n",
      "  8%|▊         | 2575/32952 [03:29<1:02:16,  8.13it/s]libpng warning: iCCP: known incorrect sRGB profile\n",
      "  8%|▊         | 2608/32952 [03:33<43:17, 11.68it/s]  libpng warning: iCCP: known incorrect sRGB profile\n",
      " 10%|▉         | 3171/32952 [04:21<41:41, 11.90it/s]  libpng warning: iCCP: profile 'ICC Profile': 0h: PCS illuminant is not D50\n",
      " 12%|█▏        | 3794/32952 [05:07<57:10,  8.50it/s]  libpng warning: iCCP: known incorrect sRGB profile\n",
      " 12%|█▏        | 3861/32952 [05:17<39:52, 12.16it/s]  \n"
     ]
    },
    {
     "ename": "AttributeError",
     "evalue": "'NoneType' object has no attribute 'shape'",
     "output_type": "error",
     "traceback": [
      "\u001b[0;31m---------------------------------------------------------------------------\u001b[0m",
      "\u001b[0;31mAttributeError\u001b[0m                            Traceback (most recent call last)",
      "\u001b[0;32m/tmp/ipykernel_524/670965707.py\u001b[0m in \u001b[0;36m<module>\u001b[0;34m\u001b[0m\n\u001b[1;32m      4\u001b[0m     \u001b[0mfilepath\u001b[0m \u001b[0;34m=\u001b[0m \u001b[0mos\u001b[0m\u001b[0;34m.\u001b[0m\u001b[0mpath\u001b[0m\u001b[0;34m.\u001b[0m\u001b[0mjoin\u001b[0m\u001b[0;34m(\u001b[0m\u001b[0;34m\"..\"\u001b[0m\u001b[0;34m,\u001b[0m \u001b[0;34m\"in\"\u001b[0m\u001b[0;34m,\u001b[0m \u001b[0;34m\"images\"\u001b[0m\u001b[0;34m,\u001b[0m \u001b[0mfile\u001b[0m\u001b[0;34m)\u001b[0m\u001b[0;34m\u001b[0m\u001b[0;34m\u001b[0m\u001b[0m\n\u001b[1;32m      5\u001b[0m     \u001b[0mimage\u001b[0m \u001b[0;34m=\u001b[0m \u001b[0mcv2\u001b[0m\u001b[0;34m.\u001b[0m\u001b[0mimread\u001b[0m\u001b[0;34m(\u001b[0m\u001b[0mfilepath\u001b[0m\u001b[0;34m)\u001b[0m\u001b[0;34m\u001b[0m\u001b[0;34m\u001b[0m\u001b[0m\n\u001b[0;32m----> 6\u001b[0;31m     \u001b[0msizes\u001b[0m\u001b[0;34m.\u001b[0m\u001b[0mappend\u001b[0m\u001b[0;34m(\u001b[0m\u001b[0;34m(\u001b[0m\u001b[0mfile\u001b[0m\u001b[0;34m,\u001b[0m \u001b[0mimage\u001b[0m\u001b[0;34m.\u001b[0m\u001b[0mshape\u001b[0m\u001b[0;34m)\u001b[0m\u001b[0;34m)\u001b[0m\u001b[0;34m\u001b[0m\u001b[0;34m\u001b[0m\u001b[0m\n\u001b[0m",
      "\u001b[0;31mAttributeError\u001b[0m: 'NoneType' object has no attribute 'shape'"
     ]
    }
   ],
   "source": [
    "y_filenames = y_no_gif[\"filename\"].tolist()\n",
    "sizes = []\n",
    "for file in tqdm(y_filenames):\n",
    "    filepath = os.path.join(\"..\", \"in\", \"images\", file)\n",
    "    image = cv2.imread(filepath)\n",
    "    sizes.append((file, image.shape))"
   ]
  },
  {
   "cell_type": "code",
   "execution_count": 172,
   "id": "730a45ac-c63e-4051-98c8-6fc211c23f96",
   "metadata": {
    "execution": {
     "iopub.execute_input": "2022-05-12T17:49:19.786265Z",
     "iopub.status.busy": "2022-05-12T17:49:19.785750Z",
     "iopub.status.idle": "2022-05-12T17:49:19.794770Z",
     "shell.execute_reply": "2022-05-12T17:49:19.793719Z",
     "shell.execute_reply.started": "2022-05-12T17:49:19.786218Z"
    },
    "tags": []
   },
   "outputs": [
    {
     "data": {
      "text/plain": [
       "3861"
      ]
     },
     "execution_count": 172,
     "metadata": {},
     "output_type": "execute_result"
    }
   ],
   "source": [
    "len(sizes)"
   ]
  },
  {
   "cell_type": "code",
   "execution_count": 174,
   "id": "ebc0d58b-a8b9-4b72-aa7c-e5abdea570d9",
   "metadata": {
    "execution": {
     "iopub.execute_input": "2022-05-12T17:49:56.084689Z",
     "iopub.status.busy": "2022-05-12T17:49:56.084151Z",
     "iopub.status.idle": "2022-05-12T17:49:56.093478Z",
     "shell.execute_reply": "2022-05-12T17:49:56.092545Z",
     "shell.execute_reply.started": "2022-05-12T17:49:56.084640Z"
    },
    "tags": []
   },
   "outputs": [
    {
     "data": {
      "text/plain": [
       "('gMap_254.png', (700, 1365, 3))"
      ]
     },
     "execution_count": 174,
     "metadata": {},
     "output_type": "execute_result"
    }
   ],
   "source": [
    "sizes[-1]"
   ]
  },
  {
   "cell_type": "code",
   "execution_count": 180,
   "id": "4d13fd4e-a882-4b46-b7db-94a59d356bcc",
   "metadata": {
    "execution": {
     "iopub.execute_input": "2022-05-12T17:51:01.287910Z",
     "iopub.status.busy": "2022-05-12T17:51:01.287401Z",
     "iopub.status.idle": "2022-05-12T17:51:01.295925Z",
     "shell.execute_reply": "2022-05-12T17:51:01.294789Z",
     "shell.execute_reply.started": "2022-05-12T17:51:01.287862Z"
    },
    "tags": []
   },
   "outputs": [
    {
     "data": {
      "text/plain": [
       "'gMap_256.jpg'"
      ]
     },
     "execution_count": 180,
     "metadata": {},
     "output_type": "execute_result"
    }
   ],
   "source": [
    "y_filenames[3861]"
   ]
  },
  {
   "cell_type": "code",
   "execution_count": 182,
   "id": "8ab91432-e095-494c-b21d-7b67a14b0557",
   "metadata": {
    "collapsed": true,
    "execution": {
     "iopub.execute_input": "2022-05-12T17:52:07.908197Z",
     "iopub.status.busy": "2022-05-12T17:52:07.907678Z",
     "iopub.status.idle": "2022-05-12T17:52:07.922858Z",
     "shell.execute_reply": "2022-05-12T17:52:07.921984Z",
     "shell.execute_reply.started": "2022-05-12T17:52:07.908147Z"
    },
    "jupyter": {
     "outputs_hidden": true
    },
    "tags": []
   },
   "outputs": [
    {
     "ename": "AttributeError",
     "evalue": "'NoneType' object has no attribute 'shape'",
     "output_type": "error",
     "traceback": [
      "\u001b[0;31m---------------------------------------------------------------------------\u001b[0m",
      "\u001b[0;31mAttributeError\u001b[0m                            Traceback (most recent call last)",
      "\u001b[0;32m/tmp/ipykernel_524/137349290.py\u001b[0m in \u001b[0;36m<module>\u001b[0;34m\u001b[0m\n\u001b[1;32m      1\u001b[0m \u001b[0mfilepath\u001b[0m \u001b[0;34m=\u001b[0m \u001b[0mos\u001b[0m\u001b[0;34m.\u001b[0m\u001b[0mpath\u001b[0m\u001b[0;34m.\u001b[0m\u001b[0mjoin\u001b[0m\u001b[0;34m(\u001b[0m\u001b[0;34m\"..\"\u001b[0m\u001b[0;34m,\u001b[0m \u001b[0;34m\"in\"\u001b[0m\u001b[0;34m,\u001b[0m \u001b[0;34m\"images\"\u001b[0m\u001b[0;34m,\u001b[0m \u001b[0;34m\"gMap_256.jpg\"\u001b[0m\u001b[0;34m)\u001b[0m\u001b[0;34m\u001b[0m\u001b[0;34m\u001b[0m\u001b[0m\n\u001b[1;32m      2\u001b[0m \u001b[0mimage\u001b[0m \u001b[0;34m=\u001b[0m \u001b[0mcv2\u001b[0m\u001b[0;34m.\u001b[0m\u001b[0mimread\u001b[0m\u001b[0;34m(\u001b[0m\u001b[0mfilepath\u001b[0m\u001b[0;34m)\u001b[0m\u001b[0;34m\u001b[0m\u001b[0;34m\u001b[0m\u001b[0m\n\u001b[0;32m----> 3\u001b[0;31m \u001b[0mprint\u001b[0m\u001b[0;34m(\u001b[0m\u001b[0mimage\u001b[0m\u001b[0;34m.\u001b[0m\u001b[0mshape\u001b[0m\u001b[0;34m)\u001b[0m\u001b[0;34m\u001b[0m\u001b[0;34m\u001b[0m\u001b[0m\n\u001b[0m",
      "\u001b[0;31mAttributeError\u001b[0m: 'NoneType' object has no attribute 'shape'"
     ]
    }
   ],
   "source": [
    "filepath = os.path.join(\"..\", \"in\", \"images\", \"gMap_256.jpg\")\n",
    "image = cv2.imread(filepath)\n",
    "print(image.shape)"
   ]
  },
  {
   "cell_type": "code",
   "execution_count": 187,
   "id": "d768c91a-8c2e-4c67-bcc2-1d765038ce3e",
   "metadata": {
    "execution": {
     "iopub.execute_input": "2022-05-12T17:53:57.838598Z",
     "iopub.status.busy": "2022-05-12T17:53:57.838059Z",
     "iopub.status.idle": "2022-05-12T17:53:57.849166Z",
     "shell.execute_reply": "2022-05-12T17:53:57.848447Z",
     "shell.execute_reply.started": "2022-05-12T17:53:57.838548Z"
    },
    "tags": []
   },
   "outputs": [
    {
     "data": {
      "text/plain": [
       "True"
      ]
     },
     "execution_count": 187,
     "metadata": {},
     "output_type": "execute_result"
    }
   ],
   "source": [
    "y_filenames[3861] in filenames"
   ]
  },
  {
   "cell_type": "code",
   "execution_count": 189,
   "id": "d21812b5-68a7-426d-844e-c664b3cac1f9",
   "metadata": {
    "execution": {
     "iopub.execute_input": "2022-05-12T17:54:25.350859Z",
     "iopub.status.busy": "2022-05-12T17:54:25.350315Z",
     "iopub.status.idle": "2022-05-12T17:54:25.359330Z",
     "shell.execute_reply": "2022-05-12T17:54:25.358160Z",
     "shell.execute_reply.started": "2022-05-12T17:54:25.350810Z"
    },
    "tags": []
   },
   "outputs": [
    {
     "data": {
      "text/plain": [
       "'../in/images/gMap_256.jpg'"
      ]
     },
     "execution_count": 189,
     "metadata": {},
     "output_type": "execute_result"
    }
   ],
   "source": [
    "filepath"
   ]
  },
  {
   "cell_type": "code",
   "execution_count": 191,
   "id": "cd83f4ff-592f-4d4c-87e7-ad0658a8163e",
   "metadata": {
    "execution": {
     "iopub.execute_input": "2022-05-12T17:54:56.430020Z",
     "iopub.status.busy": "2022-05-12T17:54:56.429522Z",
     "iopub.status.idle": "2022-05-12T17:54:56.435902Z",
     "shell.execute_reply": "2022-05-12T17:54:56.434661Z",
     "shell.execute_reply.started": "2022-05-12T17:54:56.429971Z"
    },
    "tags": []
   },
   "outputs": [],
   "source": [
    "# This file seems problematic - I am just gonna remove the row"
   ]
  },
  {
   "cell_type": "code",
   "execution_count": 196,
   "id": "35d9f173-5897-4b42-985c-7700b8358a8e",
   "metadata": {
    "execution": {
     "iopub.execute_input": "2022-05-12T18:59:43.895738Z",
     "iopub.status.busy": "2022-05-12T18:59:43.895197Z",
     "iopub.status.idle": "2022-05-12T18:59:43.925858Z",
     "shell.execute_reply": "2022-05-12T18:59:43.925009Z",
     "shell.execute_reply.started": "2022-05-12T18:59:43.895688Z"
    },
    "tags": []
   },
   "outputs": [],
   "source": [
    "y_rm_2 = y_no_gif[y_no_gif[\"filename\"].str.contains(\"gMap_256.jpg\") == False]"
   ]
  },
  {
   "cell_type": "code",
   "execution_count": 195,
   "id": "ba5fbe2f-04c0-4b18-be22-4a829d835f90",
   "metadata": {
    "collapsed": true,
    "execution": {
     "iopub.execute_input": "2022-05-12T17:58:35.540891Z",
     "iopub.status.busy": "2022-05-12T17:58:35.540347Z",
     "iopub.status.idle": "2022-05-12T18:38:18.287973Z",
     "shell.execute_reply": "2022-05-12T18:38:18.286461Z",
     "shell.execute_reply.started": "2022-05-12T17:58:35.540842Z"
    },
    "jupyter": {
     "outputs_hidden": true
    },
    "tags": []
   },
   "outputs": [
    {
     "name": "stderr",
     "output_type": "stream",
     "text": [
      " 84%|████████▍ | 27688/32952 [37:03<08:01, 10.94it/s]  libpng warning: skMf: CRC error\n",
      "libpng warning: skRf: CRC error\n",
      " 84%|████████▍ | 27690/32952 [37:03<08:48,  9.95it/s]libpng warning: iCCP: known incorrect sRGB profile\n",
      " 84%|████████▍ | 27724/32952 [37:07<12:17,  7.09it/s]libpng warning: iCCP: known incorrect sRGB profile\n",
      " 84%|████████▍ | 27796/32952 [37:15<09:44,  8.83it/s]libpng warning: iCCP: known incorrect sRGB profile\n",
      " 84%|████████▍ | 27800/32952 [37:16<14:46,  5.81it/s]libpng warning: iCCP: known incorrect sRGB profile\n",
      " 85%|████████▍ | 27959/32952 [37:29<06:16, 13.26it/s]libpng warning: iCCP: known incorrect sRGB profile\n",
      " 85%|████████▍ | 27985/32952 [37:31<05:22, 15.38it/s]libpng warning: iCCP: known incorrect sRGB profile\n",
      " 86%|████████▌ | 28374/32952 [38:06<06:18, 12.09it/s]libpng warning: skRf: CRC error\n",
      "libpng warning: skMf: CRC error\n",
      " 86%|████████▋ | 28438/32952 [38:13<10:06,  7.44it/s]libpng warning: iCCP: known incorrect sRGB profile\n",
      " 86%|████████▋ | 28439/32952 [38:13<09:43,  7.74it/s]libpng warning: iCCP: known incorrect sRGB profile\n",
      " 86%|████████▋ | 28449/32952 [38:14<09:38,  7.79it/s]libpng warning: iCCP: known incorrect sRGB profile\n",
      " 86%|████████▋ | 28461/32952 [38:16<08:35,  8.72it/s]libpng warning: iCCP: known incorrect sRGB profile\n",
      " 87%|████████▋ | 28528/32952 [38:25<12:34,  5.86it/s]libpng warning: iCCP: known incorrect sRGB profile\n",
      " 87%|████████▋ | 28586/32952 [38:32<10:21,  7.02it/s]libpng warning: iCCP: known incorrect sRGB profile\n",
      " 87%|████████▋ | 28592/32952 [38:33<06:53, 10.53it/s]libpng warning: iCCP: known incorrect sRGB profile\n",
      "libpng warning: iCCP: known incorrect sRGB profile\n",
      " 87%|████████▋ | 28594/32952 [38:33<06:00, 12.09it/s]libpng warning: iCCP: known incorrect sRGB profile\n",
      " 87%|████████▋ | 28784/32952 [38:51<06:48, 10.21it/s]libpng warning: iCCP: known incorrect sRGB profile\n",
      " 87%|████████▋ | 28787/32952 [38:51<06:02, 11.49it/s]libpng warning: iCCP: known incorrect sRGB profile\n",
      " 88%|████████▊ | 28895/32952 [39:01<08:13,  8.21it/s]libpng warning: iCCP: profile 'ICC Profile': 0h: PCS illuminant is not D50\n",
      " 88%|████████▊ | 28906/32952 [39:02<06:08, 10.97it/s]libpng warning: iCCP: profile 'ICC Profile': 0h: PCS illuminant is not D50\n",
      " 88%|████████▊ | 28928/32952 [39:04<06:11, 10.83it/s]libpng warning: iCCP: profile 'ICC Profile': 0h: PCS illuminant is not D50\n",
      " 88%|████████▊ | 29012/32952 [39:14<09:18,  7.06it/s]libpng warning: iCCP: known incorrect sRGB profile\n",
      " 88%|████████▊ | 29077/32952 [39:23<12:30,  5.16it/s]libpng warning: iCCP: known incorrect sRGB profile\n",
      "libpng warning: iCCP: known incorrect sRGB profile\n",
      " 89%|████████▊ | 29172/32952 [39:35<06:04, 10.38it/s]libpng warning: iCCP: profile 'icc': 0h: PCS illuminant is not D50\n",
      " 89%|████████▊ | 29212/32952 [39:42<05:05, 12.26it/s]\n"
     ]
    },
    {
     "ename": "AttributeError",
     "evalue": "'NoneType' object has no attribute 'shape'",
     "output_type": "error",
     "traceback": [
      "\u001b[0;31m---------------------------------------------------------------------------\u001b[0m",
      "\u001b[0;31mAttributeError\u001b[0m                            Traceback (most recent call last)",
      "\u001b[0;32m/tmp/ipykernel_524/3110388422.py\u001b[0m in \u001b[0;36m<module>\u001b[0;34m\u001b[0m\n\u001b[1;32m      4\u001b[0m     \u001b[0mfilepath\u001b[0m \u001b[0;34m=\u001b[0m \u001b[0mos\u001b[0m\u001b[0;34m.\u001b[0m\u001b[0mpath\u001b[0m\u001b[0;34m.\u001b[0m\u001b[0mjoin\u001b[0m\u001b[0;34m(\u001b[0m\u001b[0;34m\"..\"\u001b[0m\u001b[0;34m,\u001b[0m \u001b[0;34m\"in\"\u001b[0m\u001b[0;34m,\u001b[0m \u001b[0;34m\"images\"\u001b[0m\u001b[0;34m,\u001b[0m \u001b[0mfile\u001b[0m\u001b[0;34m)\u001b[0m\u001b[0;34m\u001b[0m\u001b[0;34m\u001b[0m\u001b[0m\n\u001b[1;32m      5\u001b[0m     \u001b[0mimage\u001b[0m \u001b[0;34m=\u001b[0m \u001b[0mcv2\u001b[0m\u001b[0;34m.\u001b[0m\u001b[0mimread\u001b[0m\u001b[0;34m(\u001b[0m\u001b[0mfilepath\u001b[0m\u001b[0;34m)\u001b[0m\u001b[0;34m\u001b[0m\u001b[0;34m\u001b[0m\u001b[0m\n\u001b[0;32m----> 6\u001b[0;31m     \u001b[0msizes\u001b[0m\u001b[0;34m.\u001b[0m\u001b[0mappend\u001b[0m\u001b[0;34m(\u001b[0m\u001b[0;34m(\u001b[0m\u001b[0mfile\u001b[0m\u001b[0;34m,\u001b[0m \u001b[0mimage\u001b[0m\u001b[0;34m.\u001b[0m\u001b[0mshape\u001b[0m\u001b[0;34m)\u001b[0m\u001b[0;34m)\u001b[0m\u001b[0;34m\u001b[0m\u001b[0;34m\u001b[0m\u001b[0m\n\u001b[0m",
      "\u001b[0;31mAttributeError\u001b[0m: 'NoneType' object has no attribute 'shape'"
     ]
    }
   ],
   "source": [
    "y_filenames = sorted(y_no_gif[\"filename\"].tolist())\n",
    "sizes = []\n",
    "for file in tqdm(y_filenames):\n",
    "    filepath = os.path.join(\"..\", \"in\", \"images\", file)\n",
    "    image = cv2.imread(filepath)\n",
    "    sizes.append((file, image.shape))"
   ]
  },
  {
   "cell_type": "code",
   "execution_count": 198,
   "id": "c1af9e20-eb18-48db-9b3c-2b130b3dd635",
   "metadata": {
    "execution": {
     "iopub.execute_input": "2022-05-12T19:00:04.978089Z",
     "iopub.status.busy": "2022-05-12T19:00:04.977584Z",
     "iopub.status.idle": "2022-05-12T19:00:04.986781Z",
     "shell.execute_reply": "2022-05-12T19:00:04.985982Z",
     "shell.execute_reply.started": "2022-05-12T19:00:04.978041Z"
    },
    "tags": []
   },
   "outputs": [
    {
     "data": {
      "text/plain": [
       "29212"
      ]
     },
     "execution_count": 198,
     "metadata": {},
     "output_type": "execute_result"
    }
   ],
   "source": [
    "len(sizes)"
   ]
  },
  {
   "cell_type": "code",
   "execution_count": 204,
   "id": "bd27a4b4-bd6f-40c7-beb7-68e15748bac8",
   "metadata": {
    "execution": {
     "iopub.execute_input": "2022-05-12T19:01:39.951071Z",
     "iopub.status.busy": "2022-05-12T19:01:39.950581Z",
     "iopub.status.idle": "2022-05-12T19:01:39.959442Z",
     "shell.execute_reply": "2022-05-12T19:01:39.958514Z",
     "shell.execute_reply.started": "2022-05-12T19:01:39.951025Z"
    },
    "tags": []
   },
   "outputs": [
    {
     "data": {
      "text/plain": [
       "('gMap_255.png', (1428, 1800, 3))"
      ]
     },
     "execution_count": 204,
     "metadata": {},
     "output_type": "execute_result"
    }
   ],
   "source": [
    "sizes[29211]"
   ]
  },
  {
   "cell_type": "code",
   "execution_count": 216,
   "id": "1e07a296-e225-4e91-870a-4e73962aed83",
   "metadata": {
    "execution": {
     "iopub.execute_input": "2022-05-12T19:05:03.944520Z",
     "iopub.status.busy": "2022-05-12T19:05:03.943993Z",
     "iopub.status.idle": "2022-05-12T19:05:03.953164Z",
     "shell.execute_reply": "2022-05-12T19:05:03.952399Z",
     "shell.execute_reply.started": "2022-05-12T19:05:03.944470Z"
    },
    "tags": []
   },
   "outputs": [
    {
     "data": {
      "text/plain": [
       "'gMap_257.jpg'"
      ]
     },
     "execution_count": 216,
     "metadata": {},
     "output_type": "execute_result"
    }
   ],
   "source": [
    "y_filenames[29212]"
   ]
  },
  {
   "cell_type": "code",
   "execution_count": 208,
   "id": "b47f6d0a-1385-43f3-adea-b20aaa9cb15c",
   "metadata": {
    "execution": {
     "iopub.execute_input": "2022-05-12T19:03:38.314905Z",
     "iopub.status.busy": "2022-05-12T19:03:38.314361Z",
     "iopub.status.idle": "2022-05-12T19:03:38.334029Z",
     "shell.execute_reply": "2022-05-12T19:03:38.333350Z",
     "shell.execute_reply.started": "2022-05-12T19:03:38.314866Z"
    }
   },
   "outputs": [],
   "source": [
    "y_filenames = sorted(y_rm_2[\"filename\"].tolist())"
   ]
  },
  {
   "cell_type": "code",
   "execution_count": 212,
   "id": "70a2c99f-d75f-4b90-901f-d66ab2203329",
   "metadata": {
    "execution": {
     "iopub.execute_input": "2022-05-12T19:04:33.058833Z",
     "iopub.status.busy": "2022-05-12T19:04:33.058306Z",
     "iopub.status.idle": "2022-05-12T19:04:33.065258Z",
     "shell.execute_reply": "2022-05-12T19:04:33.063997Z",
     "shell.execute_reply.started": "2022-05-12T19:04:33.058785Z"
    },
    "tags": []
   },
   "outputs": [],
   "source": [
    "sub_filenames = y_filenames[29212:]"
   ]
  },
  {
   "cell_type": "code",
   "execution_count": 214,
   "id": "3c5dc698-7618-4e43-8387-396a88ef77f1",
   "metadata": {
    "execution": {
     "iopub.execute_input": "2022-05-12T19:04:49.776626Z",
     "iopub.status.busy": "2022-05-12T19:04:49.776093Z",
     "iopub.status.idle": "2022-05-12T19:04:49.784754Z",
     "shell.execute_reply": "2022-05-12T19:04:49.783747Z",
     "shell.execute_reply.started": "2022-05-12T19:04:49.776577Z"
    },
    "tags": []
   },
   "outputs": [
    {
     "data": {
      "text/plain": [
       "'gMap_257.jpg'"
      ]
     },
     "execution_count": 214,
     "metadata": {},
     "output_type": "execute_result"
    }
   ],
   "source": [
    "sub_filenames[0]"
   ]
  },
  {
   "cell_type": "code",
   "execution_count": 217,
   "id": "6c8c7a89-0cdf-45ac-a4ab-dd578c825301",
   "metadata": {
    "execution": {
     "iopub.execute_input": "2022-05-12T19:06:31.088545Z",
     "iopub.status.busy": "2022-05-12T19:06:31.088057Z",
     "iopub.status.idle": "2022-05-12T19:07:13.865131Z",
     "shell.execute_reply": "2022-05-12T19:07:13.863836Z",
     "shell.execute_reply.started": "2022-05-12T19:06:31.088498Z"
    }
   },
   "outputs": [
    {
     "name": "stderr",
     "output_type": "stream",
     "text": [
      "  7%|▋         | 255/3739 [00:35<05:20, 10.87it/s]libpng warning: iCCP: known incorrect sRGB profile\n",
      "  8%|▊         | 312/3739 [00:42<07:49,  7.30it/s]\n"
     ]
    },
    {
     "ename": "AttributeError",
     "evalue": "'NoneType' object has no attribute 'shape'",
     "output_type": "error",
     "traceback": [
      "\u001b[0;31m---------------------------------------------------------------------------\u001b[0m",
      "\u001b[0;31mAttributeError\u001b[0m                            Traceback (most recent call last)",
      "\u001b[0;32m/tmp/ipykernel_524/3958625917.py\u001b[0m in \u001b[0;36m<module>\u001b[0;34m\u001b[0m\n\u001b[1;32m      3\u001b[0m     \u001b[0mfilepath\u001b[0m \u001b[0;34m=\u001b[0m \u001b[0mos\u001b[0m\u001b[0;34m.\u001b[0m\u001b[0mpath\u001b[0m\u001b[0;34m.\u001b[0m\u001b[0mjoin\u001b[0m\u001b[0;34m(\u001b[0m\u001b[0;34m\"..\"\u001b[0m\u001b[0;34m,\u001b[0m \u001b[0;34m\"in\"\u001b[0m\u001b[0;34m,\u001b[0m \u001b[0;34m\"images\"\u001b[0m\u001b[0;34m,\u001b[0m \u001b[0mfile\u001b[0m\u001b[0;34m)\u001b[0m\u001b[0;34m\u001b[0m\u001b[0;34m\u001b[0m\u001b[0m\n\u001b[1;32m      4\u001b[0m     \u001b[0mimage\u001b[0m \u001b[0;34m=\u001b[0m \u001b[0mcv2\u001b[0m\u001b[0;34m.\u001b[0m\u001b[0mimread\u001b[0m\u001b[0;34m(\u001b[0m\u001b[0mfilepath\u001b[0m\u001b[0;34m)\u001b[0m\u001b[0;34m\u001b[0m\u001b[0;34m\u001b[0m\u001b[0m\n\u001b[0;32m----> 5\u001b[0;31m     \u001b[0msizes2\u001b[0m\u001b[0;34m.\u001b[0m\u001b[0mappend\u001b[0m\u001b[0;34m(\u001b[0m\u001b[0;34m(\u001b[0m\u001b[0mfile\u001b[0m\u001b[0;34m,\u001b[0m \u001b[0mimage\u001b[0m\u001b[0;34m.\u001b[0m\u001b[0mshape\u001b[0m\u001b[0;34m)\u001b[0m\u001b[0;34m)\u001b[0m\u001b[0;34m\u001b[0m\u001b[0;34m\u001b[0m\u001b[0m\n\u001b[0m",
      "\u001b[0;31mAttributeError\u001b[0m: 'NoneType' object has no attribute 'shape'"
     ]
    }
   ],
   "source": [
    "sizes2 = []\n",
    "for file in tqdm(sub_filenames):\n",
    "    filepath = os.path.join(\"..\", \"in\", \"images\", file)\n",
    "    image = cv2.imread(filepath)\n",
    "    sizes2.append((file, image.shape))"
   ]
  },
  {
   "cell_type": "code",
   "execution_count": 219,
   "id": "a4d0103d-9360-44db-8c6d-6f4c9a728d2c",
   "metadata": {
    "execution": {
     "iopub.execute_input": "2022-05-12T19:13:28.837946Z",
     "iopub.status.busy": "2022-05-12T19:13:28.837309Z",
     "iopub.status.idle": "2022-05-12T19:13:28.845667Z",
     "shell.execute_reply": "2022-05-12T19:13:28.844868Z",
     "shell.execute_reply.started": "2022-05-12T19:13:28.837897Z"
    },
    "tags": []
   },
   "outputs": [
    {
     "data": {
      "text/plain": [
       "('gMap_548.jpg', (2121, 1500, 3))"
      ]
     },
     "execution_count": 219,
     "metadata": {},
     "output_type": "execute_result"
    }
   ],
   "source": [
    "sizes2[-1]"
   ]
  },
  {
   "cell_type": "code",
   "execution_count": 222,
   "id": "b3620ffc-bc23-49f8-8199-56397ead883e",
   "metadata": {
    "execution": {
     "iopub.execute_input": "2022-05-12T19:14:23.905424Z",
     "iopub.status.busy": "2022-05-12T19:14:23.904901Z",
     "iopub.status.idle": "2022-05-12T19:14:23.913949Z",
     "shell.execute_reply": "2022-05-12T19:14:23.912729Z",
     "shell.execute_reply.started": "2022-05-12T19:14:23.905361Z"
    },
    "tags": []
   },
   "outputs": [
    {
     "data": {
      "text/plain": [
       "312"
      ]
     },
     "execution_count": 222,
     "metadata": {},
     "output_type": "execute_result"
    }
   ],
   "source": [
    "len(sizes2)"
   ]
  },
  {
   "cell_type": "code",
   "execution_count": 230,
   "id": "12cebb36-022d-428e-a45a-c034abaebf11",
   "metadata": {
    "execution": {
     "iopub.execute_input": "2022-05-12T19:19:17.874244Z",
     "iopub.status.busy": "2022-05-12T19:19:17.873732Z",
     "iopub.status.idle": "2022-05-12T19:19:17.882992Z",
     "shell.execute_reply": "2022-05-12T19:19:17.881829Z",
     "shell.execute_reply.started": "2022-05-12T19:19:17.874196Z"
    },
    "tags": []
   },
   "outputs": [
    {
     "data": {
      "text/plain": [
       "'gMap_55.png'"
      ]
     },
     "execution_count": 230,
     "metadata": {},
     "output_type": "execute_result"
    }
   ],
   "source": [
    "sub_filenames[313]"
   ]
  },
  {
   "cell_type": "code",
   "execution_count": 226,
   "id": "449bf77b-177f-4452-ae21-b708cfea7703",
   "metadata": {
    "execution": {
     "iopub.execute_input": "2022-05-12T19:16:49.501260Z",
     "iopub.status.busy": "2022-05-12T19:16:49.500628Z",
     "iopub.status.idle": "2022-05-12T19:16:49.527170Z",
     "shell.execute_reply": "2022-05-12T19:16:49.526496Z",
     "shell.execute_reply.started": "2022-05-12T19:16:49.501204Z"
    }
   },
   "outputs": [],
   "source": [
    "y_rm_3 = y_rm_2[y_rm_2[\"filename\"].str.contains(\"gMap_249.jpg\") == False]"
   ]
  },
  {
   "cell_type": "code",
   "execution_count": 227,
   "id": "b471a459-6e62-41b6-81e6-809ca356b696",
   "metadata": {
    "execution": {
     "iopub.execute_input": "2022-05-12T19:18:53.885316Z",
     "iopub.status.busy": "2022-05-12T19:18:53.884645Z",
     "iopub.status.idle": "2022-05-12T19:18:53.893916Z",
     "shell.execute_reply": "2022-05-12T19:18:53.892609Z",
     "shell.execute_reply.started": "2022-05-12T19:18:53.885265Z"
    }
   },
   "outputs": [
    {
     "data": {
      "text/plain": [
       "29524"
      ]
     },
     "execution_count": 227,
     "metadata": {},
     "output_type": "execute_result"
    }
   ],
   "source": [
    "len(sizes) + len(sizes2)"
   ]
  },
  {
   "cell_type": "code",
   "execution_count": 232,
   "id": "644993c2-c535-4643-9d1e-093d6e97ccc4",
   "metadata": {
    "execution": {
     "iopub.execute_input": "2022-05-12T19:20:20.172667Z",
     "iopub.status.busy": "2022-05-12T19:20:20.172134Z",
     "iopub.status.idle": "2022-05-12T19:20:20.190933Z",
     "shell.execute_reply": "2022-05-12T19:20:20.190270Z",
     "shell.execute_reply.started": "2022-05-12T19:20:20.172617Z"
    },
    "tags": []
   },
   "outputs": [],
   "source": [
    "y_filenames = sorted(y_rm_3[\"filename\"].tolist())"
   ]
  },
  {
   "cell_type": "code",
   "execution_count": 233,
   "id": "8ab30f6d-7079-4512-b6b9-d04082b24192",
   "metadata": {
    "execution": {
     "iopub.execute_input": "2022-05-12T19:20:51.040120Z",
     "iopub.status.busy": "2022-05-12T19:20:51.039522Z",
     "iopub.status.idle": "2022-05-12T19:20:51.047286Z",
     "shell.execute_reply": "2022-05-12T19:20:51.046353Z",
     "shell.execute_reply.started": "2022-05-12T19:20:51.040071Z"
    }
   },
   "outputs": [
    {
     "data": {
      "text/plain": [
       "'gMap_55.png'"
      ]
     },
     "execution_count": 233,
     "metadata": {},
     "output_type": "execute_result"
    }
   ],
   "source": [
    "y_filenames[29524]"
   ]
  },
  {
   "cell_type": "code",
   "execution_count": 234,
   "id": "32b3ff02-e376-469d-b686-66b770d73ff7",
   "metadata": {
    "execution": {
     "iopub.execute_input": "2022-05-12T19:21:01.889856Z",
     "iopub.status.busy": "2022-05-12T19:21:01.889333Z",
     "iopub.status.idle": "2022-05-12T19:21:01.896215Z",
     "shell.execute_reply": "2022-05-12T19:21:01.895001Z",
     "shell.execute_reply.started": "2022-05-12T19:21:01.889807Z"
    }
   },
   "outputs": [],
   "source": [
    "sub_filenames = y_filenames[29524:]"
   ]
  },
  {
   "cell_type": "code",
   "execution_count": 236,
   "id": "19d0e902-3244-4503-bc20-d0dcbe855379",
   "metadata": {
    "execution": {
     "iopub.execute_input": "2022-05-12T19:21:16.175760Z",
     "iopub.status.busy": "2022-05-12T19:21:16.175232Z",
     "iopub.status.idle": "2022-05-12T19:21:16.183482Z",
     "shell.execute_reply": "2022-05-12T19:21:16.182594Z",
     "shell.execute_reply.started": "2022-05-12T19:21:16.175711Z"
    },
    "tags": []
   },
   "outputs": [
    {
     "data": {
      "text/plain": [
       "'gMap_55.png'"
      ]
     },
     "execution_count": 236,
     "metadata": {},
     "output_type": "execute_result"
    }
   ],
   "source": [
    "sub_filenames[0]"
   ]
  },
  {
   "cell_type": "code",
   "execution_count": 237,
   "id": "f12d1e75-fcef-4f34-a202-896576d65cc2",
   "metadata": {
    "execution": {
     "iopub.execute_input": "2022-05-12T19:22:30.402453Z",
     "iopub.status.busy": "2022-05-12T19:22:30.401947Z",
     "iopub.status.idle": "2022-05-12T19:22:31.281865Z",
     "shell.execute_reply": "2022-05-12T19:22:31.280442Z",
     "shell.execute_reply.started": "2022-05-12T19:22:30.402386Z"
    }
   },
   "outputs": [
    {
     "name": "stderr",
     "output_type": "stream",
     "text": [
      "  0%|          | 10/3426 [00:00<04:52, 11.69it/s]\n"
     ]
    },
    {
     "ename": "AttributeError",
     "evalue": "'NoneType' object has no attribute 'shape'",
     "output_type": "error",
     "traceback": [
      "\u001b[0;31m---------------------------------------------------------------------------\u001b[0m",
      "\u001b[0;31mAttributeError\u001b[0m                            Traceback (most recent call last)",
      "\u001b[0;32m/tmp/ipykernel_524/1997043965.py\u001b[0m in \u001b[0;36m<module>\u001b[0;34m\u001b[0m\n\u001b[1;32m      3\u001b[0m     \u001b[0mfilepath\u001b[0m \u001b[0;34m=\u001b[0m \u001b[0mos\u001b[0m\u001b[0;34m.\u001b[0m\u001b[0mpath\u001b[0m\u001b[0;34m.\u001b[0m\u001b[0mjoin\u001b[0m\u001b[0;34m(\u001b[0m\u001b[0;34m\"..\"\u001b[0m\u001b[0;34m,\u001b[0m \u001b[0;34m\"in\"\u001b[0m\u001b[0;34m,\u001b[0m \u001b[0;34m\"images\"\u001b[0m\u001b[0;34m,\u001b[0m \u001b[0mfile\u001b[0m\u001b[0;34m)\u001b[0m\u001b[0;34m\u001b[0m\u001b[0;34m\u001b[0m\u001b[0m\n\u001b[1;32m      4\u001b[0m     \u001b[0mimage\u001b[0m \u001b[0;34m=\u001b[0m \u001b[0mcv2\u001b[0m\u001b[0;34m.\u001b[0m\u001b[0mimread\u001b[0m\u001b[0;34m(\u001b[0m\u001b[0mfilepath\u001b[0m\u001b[0;34m)\u001b[0m\u001b[0;34m\u001b[0m\u001b[0;34m\u001b[0m\u001b[0m\n\u001b[0;32m----> 5\u001b[0;31m     \u001b[0msizes3\u001b[0m\u001b[0;34m.\u001b[0m\u001b[0mappend\u001b[0m\u001b[0;34m(\u001b[0m\u001b[0;34m(\u001b[0m\u001b[0mfile\u001b[0m\u001b[0;34m,\u001b[0m \u001b[0mimage\u001b[0m\u001b[0;34m.\u001b[0m\u001b[0mshape\u001b[0m\u001b[0;34m)\u001b[0m\u001b[0;34m)\u001b[0m\u001b[0;34m\u001b[0m\u001b[0;34m\u001b[0m\u001b[0m\n\u001b[0m",
      "\u001b[0;31mAttributeError\u001b[0m: 'NoneType' object has no attribute 'shape'"
     ]
    }
   ],
   "source": [
    "sizes3 = []\n",
    "for file in tqdm(sub_filenames):\n",
    "    filepath = os.path.join(\"..\", \"in\", \"images\", file)\n",
    "    image = cv2.imread(filepath)\n",
    "    sizes3.append((file, image.shape))"
   ]
  },
  {
   "cell_type": "code",
   "execution_count": 238,
   "id": "8ad0fc3b-3b3c-4d2f-9eb4-1ebed12cf764",
   "metadata": {
    "execution": {
     "iopub.execute_input": "2022-05-12T19:28:57.810527Z",
     "iopub.status.busy": "2022-05-12T19:28:57.810144Z",
     "iopub.status.idle": "2022-05-12T19:28:57.816845Z",
     "shell.execute_reply": "2022-05-12T19:28:57.816150Z",
     "shell.execute_reply.started": "2022-05-12T19:28:57.810492Z"
    }
   },
   "outputs": [
    {
     "data": {
      "text/plain": [
       "('gMap_558.jpg', (720, 640, 3))"
      ]
     },
     "execution_count": 238,
     "metadata": {},
     "output_type": "execute_result"
    }
   ],
   "source": [
    "sizes3[-1]"
   ]
  },
  {
   "cell_type": "code",
   "execution_count": 240,
   "id": "134a66df-420e-4946-bf48-6dac27b66e5e",
   "metadata": {
    "execution": {
     "iopub.execute_input": "2022-05-12T19:29:15.844029Z",
     "iopub.status.busy": "2022-05-12T19:29:15.843518Z",
     "iopub.status.idle": "2022-05-12T19:29:15.852346Z",
     "shell.execute_reply": "2022-05-12T19:29:15.851482Z",
     "shell.execute_reply.started": "2022-05-12T19:29:15.843980Z"
    },
    "tags": []
   },
   "outputs": [
    {
     "data": {
      "text/plain": [
       "10"
      ]
     },
     "execution_count": 240,
     "metadata": {},
     "output_type": "execute_result"
    }
   ],
   "source": [
    "len(sizes3)"
   ]
  },
  {
   "cell_type": "code",
   "execution_count": 252,
   "id": "ecc61d23-4c18-4b9d-9418-8625833d37e6",
   "metadata": {
    "execution": {
     "iopub.execute_input": "2022-05-12T19:32:13.127692Z",
     "iopub.status.busy": "2022-05-12T19:32:13.127175Z",
     "iopub.status.idle": "2022-05-12T19:32:13.135500Z",
     "shell.execute_reply": "2022-05-12T19:32:13.134602Z",
     "shell.execute_reply.started": "2022-05-12T19:32:13.127646Z"
    },
    "tags": []
   },
   "outputs": [
    {
     "data": {
      "text/plain": [
       "'gMap_559.jpg'"
      ]
     },
     "execution_count": 252,
     "metadata": {},
     "output_type": "execute_result"
    }
   ],
   "source": [
    "sub_filenames[10]"
   ]
  },
  {
   "cell_type": "code",
   "execution_count": 245,
   "id": "2fd0cbaa-cb76-4c6c-8915-99bd557d543b",
   "metadata": {
    "execution": {
     "iopub.execute_input": "2022-05-12T19:30:31.210850Z",
     "iopub.status.busy": "2022-05-12T19:30:31.210437Z",
     "iopub.status.idle": "2022-05-12T19:30:31.233257Z",
     "shell.execute_reply": "2022-05-12T19:30:31.232692Z",
     "shell.execute_reply.started": "2022-05-12T19:30:31.210816Z"
    }
   },
   "outputs": [],
   "source": [
    "y_rm_4 = y_rm_3[y_rm_3[\"filename\"].str.contains(\"gMap_559.jpg\") == False]"
   ]
  },
  {
   "cell_type": "code",
   "execution_count": 247,
   "id": "6d2d94b3-14fe-483c-872b-4150fa52ddfa",
   "metadata": {
    "execution": {
     "iopub.execute_input": "2022-05-12T19:31:39.930036Z",
     "iopub.status.busy": "2022-05-12T19:31:39.929526Z",
     "iopub.status.idle": "2022-05-12T19:31:39.949604Z",
     "shell.execute_reply": "2022-05-12T19:31:39.948461Z",
     "shell.execute_reply.started": "2022-05-12T19:31:39.929988Z"
    },
    "tags": []
   },
   "outputs": [],
   "source": [
    "y_filenames = sorted(y_rm_4[\"filename\"].tolist())"
   ]
  },
  {
   "cell_type": "code",
   "execution_count": 250,
   "id": "91ce1d3a-97f7-4276-a225-b5200f599cf5",
   "metadata": {
    "execution": {
     "iopub.execute_input": "2022-05-12T19:31:54.269905Z",
     "iopub.status.busy": "2022-05-12T19:31:54.269391Z",
     "iopub.status.idle": "2022-05-12T19:31:54.277796Z",
     "shell.execute_reply": "2022-05-12T19:31:54.276805Z",
     "shell.execute_reply.started": "2022-05-12T19:31:54.269856Z"
    },
    "tags": []
   },
   "outputs": [
    {
     "data": {
      "text/plain": [
       "'gMap_56.jpg'"
      ]
     },
     "execution_count": 250,
     "metadata": {},
     "output_type": "execute_result"
    }
   ],
   "source": [
    "y_filenames[29534]"
   ]
  },
  {
   "cell_type": "code",
   "execution_count": 255,
   "id": "ba5f456c-ac6d-41d6-9a51-5559f87c5594",
   "metadata": {
    "execution": {
     "iopub.execute_input": "2022-05-12T19:33:54.070138Z",
     "iopub.status.busy": "2022-05-12T19:33:54.069616Z",
     "iopub.status.idle": "2022-05-12T19:33:54.076829Z",
     "shell.execute_reply": "2022-05-12T19:33:54.075501Z",
     "shell.execute_reply.started": "2022-05-12T19:33:54.070087Z"
    },
    "tags": []
   },
   "outputs": [],
   "source": [
    "sub_filenames = y_filenames[29534:]"
   ]
  },
  {
   "cell_type": "code",
   "execution_count": 254,
   "id": "14fcb1bc-b7ce-4c86-89c7-83a7f9ef5db4",
   "metadata": {
    "execution": {
     "iopub.execute_input": "2022-05-12T19:33:00.613030Z",
     "iopub.status.busy": "2022-05-12T19:33:00.612352Z",
     "iopub.status.idle": "2022-05-12T19:33:23.506428Z",
     "shell.execute_reply": "2022-05-12T19:33:23.505218Z",
     "shell.execute_reply.started": "2022-05-12T19:33:00.612979Z"
    }
   },
   "outputs": [
    {
     "name": "stderr",
     "output_type": "stream",
     "text": [
      "  5%|▌         | 177/3415 [00:22<06:58,  7.74it/s]\n"
     ]
    },
    {
     "ename": "AttributeError",
     "evalue": "'NoneType' object has no attribute 'shape'",
     "output_type": "error",
     "traceback": [
      "\u001b[0;31m---------------------------------------------------------------------------\u001b[0m",
      "\u001b[0;31mAttributeError\u001b[0m                            Traceback (most recent call last)",
      "\u001b[0;32m/tmp/ipykernel_524/4189563957.py\u001b[0m in \u001b[0;36m<module>\u001b[0;34m\u001b[0m\n\u001b[1;32m      3\u001b[0m     \u001b[0mfilepath\u001b[0m \u001b[0;34m=\u001b[0m \u001b[0mos\u001b[0m\u001b[0;34m.\u001b[0m\u001b[0mpath\u001b[0m\u001b[0;34m.\u001b[0m\u001b[0mjoin\u001b[0m\u001b[0;34m(\u001b[0m\u001b[0;34m\"..\"\u001b[0m\u001b[0;34m,\u001b[0m \u001b[0;34m\"in\"\u001b[0m\u001b[0;34m,\u001b[0m \u001b[0;34m\"images\"\u001b[0m\u001b[0;34m,\u001b[0m \u001b[0mfile\u001b[0m\u001b[0;34m)\u001b[0m\u001b[0;34m\u001b[0m\u001b[0;34m\u001b[0m\u001b[0m\n\u001b[1;32m      4\u001b[0m     \u001b[0mimage\u001b[0m \u001b[0;34m=\u001b[0m \u001b[0mcv2\u001b[0m\u001b[0;34m.\u001b[0m\u001b[0mimread\u001b[0m\u001b[0;34m(\u001b[0m\u001b[0mfilepath\u001b[0m\u001b[0;34m)\u001b[0m\u001b[0;34m\u001b[0m\u001b[0;34m\u001b[0m\u001b[0m\n\u001b[0;32m----> 5\u001b[0;31m     \u001b[0msizes4\u001b[0m\u001b[0;34m.\u001b[0m\u001b[0mappend\u001b[0m\u001b[0;34m(\u001b[0m\u001b[0;34m(\u001b[0m\u001b[0mfile\u001b[0m\u001b[0;34m,\u001b[0m \u001b[0mimage\u001b[0m\u001b[0;34m.\u001b[0m\u001b[0mshape\u001b[0m\u001b[0;34m)\u001b[0m\u001b[0;34m)\u001b[0m\u001b[0;34m\u001b[0m\u001b[0;34m\u001b[0m\u001b[0m\n\u001b[0m",
      "\u001b[0;31mAttributeError\u001b[0m: 'NoneType' object has no attribute 'shape'"
     ]
    }
   ],
   "source": [
    "sizes4 = []\n",
    "for file in tqdm(sub_filenames):\n",
    "    filepath = os.path.join(\"..\", \"in\", \"images\", file)\n",
    "    image = cv2.imread(filepath)\n",
    "    sizes4.append((file, image.shape))"
   ]
  },
  {
   "cell_type": "code",
   "execution_count": 257,
   "id": "073a3a89-505d-4fd8-acc5-29adf3bbbefa",
   "metadata": {
    "execution": {
     "iopub.execute_input": "2022-05-12T19:34:13.279588Z",
     "iopub.status.busy": "2022-05-12T19:34:13.279061Z",
     "iopub.status.idle": "2022-05-12T19:34:13.288352Z",
     "shell.execute_reply": "2022-05-12T19:34:13.286978Z",
     "shell.execute_reply.started": "2022-05-12T19:34:13.279539Z"
    },
    "tags": []
   },
   "outputs": [
    {
     "data": {
      "text/plain": [
       "177"
      ]
     },
     "execution_count": 257,
     "metadata": {},
     "output_type": "execute_result"
    }
   ],
   "source": [
    "len(sizes4)"
   ]
  },
  {
   "cell_type": "code",
   "execution_count": 259,
   "id": "4b8954b6-da94-41fc-a524-380ca1d7c6e5",
   "metadata": {
    "execution": {
     "iopub.execute_input": "2022-05-12T19:34:27.552369Z",
     "iopub.status.busy": "2022-05-12T19:34:27.551866Z",
     "iopub.status.idle": "2022-05-12T19:34:27.560915Z",
     "shell.execute_reply": "2022-05-12T19:34:27.559853Z",
     "shell.execute_reply.started": "2022-05-12T19:34:27.552322Z"
    },
    "tags": []
   },
   "outputs": [
    {
     "data": {
      "text/plain": [
       "('gMap_723.jpg', (778, 1200, 3))"
      ]
     },
     "execution_count": 259,
     "metadata": {},
     "output_type": "execute_result"
    }
   ],
   "source": [
    "sizes4[176]"
   ]
  },
  {
   "cell_type": "code",
   "execution_count": 275,
   "id": "92b44fd8-7a3d-4762-951a-0e128bb766d5",
   "metadata": {
    "execution": {
     "iopub.execute_input": "2022-05-12T19:38:35.151506Z",
     "iopub.status.busy": "2022-05-12T19:38:35.150985Z",
     "iopub.status.idle": "2022-05-12T19:38:35.159589Z",
     "shell.execute_reply": "2022-05-12T19:38:35.158550Z",
     "shell.execute_reply.started": "2022-05-12T19:38:35.151458Z"
    },
    "tags": []
   },
   "outputs": [
    {
     "data": {
      "text/plain": [
       "'gMap_724.jpeg'"
      ]
     },
     "execution_count": 275,
     "metadata": {},
     "output_type": "execute_result"
    }
   ],
   "source": [
    "sub_filenames[177]"
   ]
  },
  {
   "cell_type": "code",
   "execution_count": 269,
   "id": "ee309b6a-74e3-4cb0-858d-0fe7be62a2bf",
   "metadata": {
    "execution": {
     "iopub.execute_input": "2022-05-12T19:37:52.633678Z",
     "iopub.status.busy": "2022-05-12T19:37:52.633152Z",
     "iopub.status.idle": "2022-05-12T19:37:52.660011Z",
     "shell.execute_reply": "2022-05-12T19:37:52.659368Z",
     "shell.execute_reply.started": "2022-05-12T19:37:52.633630Z"
    },
    "tags": []
   },
   "outputs": [],
   "source": [
    "y_rm_5 = y_rm_4[y_rm_4[\"filename\"].str.contains(\"gMap_724.jpeg\") == False]"
   ]
  },
  {
   "cell_type": "code",
   "execution_count": 270,
   "id": "88c1e2f3-27ed-495e-8dd1-4c4406c949d4",
   "metadata": {
    "execution": {
     "iopub.execute_input": "2022-05-12T19:37:53.245724Z",
     "iopub.status.busy": "2022-05-12T19:37:53.245200Z",
     "iopub.status.idle": "2022-05-12T19:37:53.264944Z",
     "shell.execute_reply": "2022-05-12T19:37:53.264255Z",
     "shell.execute_reply.started": "2022-05-12T19:37:53.245676Z"
    },
    "tags": []
   },
   "outputs": [],
   "source": [
    "y_filenames = sorted(y_rm_5[\"filename\"].tolist())"
   ]
  },
  {
   "cell_type": "code",
   "execution_count": 272,
   "id": "8b44b857-c7e6-453c-b729-f7daef1791c9",
   "metadata": {
    "execution": {
     "iopub.execute_input": "2022-05-12T19:38:10.429073Z",
     "iopub.status.busy": "2022-05-12T19:38:10.428571Z",
     "iopub.status.idle": "2022-05-12T19:38:10.437621Z",
     "shell.execute_reply": "2022-05-12T19:38:10.436313Z",
     "shell.execute_reply.started": "2022-05-12T19:38:10.429026Z"
    },
    "tags": []
   },
   "outputs": [
    {
     "data": {
      "text/plain": [
       "29711"
      ]
     },
     "execution_count": 272,
     "metadata": {},
     "output_type": "execute_result"
    }
   ],
   "source": [
    "29534+177"
   ]
  },
  {
   "cell_type": "code",
   "execution_count": 276,
   "id": "84912b35-bfee-4764-a0e8-46951bf47d81",
   "metadata": {
    "execution": {
     "iopub.execute_input": "2022-05-12T19:38:37.921028Z",
     "iopub.status.busy": "2022-05-12T19:38:37.920524Z",
     "iopub.status.idle": "2022-05-12T19:38:37.929709Z",
     "shell.execute_reply": "2022-05-12T19:38:37.928422Z",
     "shell.execute_reply.started": "2022-05-12T19:38:37.920979Z"
    },
    "tags": []
   },
   "outputs": [
    {
     "data": {
      "text/plain": [
       "'gMap_725.png'"
      ]
     },
     "execution_count": 276,
     "metadata": {},
     "output_type": "execute_result"
    }
   ],
   "source": [
    "y_filenames[29711]"
   ]
  },
  {
   "cell_type": "code",
   "execution_count": 278,
   "id": "b8f4c725-11dc-400b-afdb-862f37ccb821",
   "metadata": {
    "execution": {
     "iopub.execute_input": "2022-05-12T19:39:04.302952Z",
     "iopub.status.busy": "2022-05-12T19:39:04.302042Z",
     "iopub.status.idle": "2022-05-12T19:39:04.309776Z",
     "shell.execute_reply": "2022-05-12T19:39:04.308675Z",
     "shell.execute_reply.started": "2022-05-12T19:39:04.302872Z"
    },
    "tags": []
   },
   "outputs": [],
   "source": [
    "sub_filenames = y_filenames[29711:]"
   ]
  },
  {
   "cell_type": "code",
   "execution_count": 279,
   "id": "d2a6b189-ee8c-4716-a154-141140c03348",
   "metadata": {
    "execution": {
     "iopub.execute_input": "2022-05-12T19:39:21.704145Z",
     "iopub.status.busy": "2022-05-12T19:39:21.703467Z",
     "iopub.status.idle": "2022-05-12T19:39:21.939656Z",
     "shell.execute_reply": "2022-05-12T19:39:21.937977Z",
     "shell.execute_reply.started": "2022-05-12T19:39:21.704090Z"
    }
   },
   "outputs": [
    {
     "name": "stderr",
     "output_type": "stream",
     "text": [
      "  0%|          | 1/3237 [00:00<11:34,  4.66it/s]\n"
     ]
    },
    {
     "ename": "AttributeError",
     "evalue": "'NoneType' object has no attribute 'shape'",
     "output_type": "error",
     "traceback": [
      "\u001b[0;31m---------------------------------------------------------------------------\u001b[0m",
      "\u001b[0;31mAttributeError\u001b[0m                            Traceback (most recent call last)",
      "\u001b[0;32m/tmp/ipykernel_524/3560820207.py\u001b[0m in \u001b[0;36m<module>\u001b[0;34m\u001b[0m\n\u001b[1;32m      3\u001b[0m     \u001b[0mfilepath\u001b[0m \u001b[0;34m=\u001b[0m \u001b[0mos\u001b[0m\u001b[0;34m.\u001b[0m\u001b[0mpath\u001b[0m\u001b[0;34m.\u001b[0m\u001b[0mjoin\u001b[0m\u001b[0;34m(\u001b[0m\u001b[0;34m\"..\"\u001b[0m\u001b[0;34m,\u001b[0m \u001b[0;34m\"in\"\u001b[0m\u001b[0;34m,\u001b[0m \u001b[0;34m\"images\"\u001b[0m\u001b[0;34m,\u001b[0m \u001b[0mfile\u001b[0m\u001b[0;34m)\u001b[0m\u001b[0;34m\u001b[0m\u001b[0;34m\u001b[0m\u001b[0m\n\u001b[1;32m      4\u001b[0m     \u001b[0mimage\u001b[0m \u001b[0;34m=\u001b[0m \u001b[0mcv2\u001b[0m\u001b[0;34m.\u001b[0m\u001b[0mimread\u001b[0m\u001b[0;34m(\u001b[0m\u001b[0mfilepath\u001b[0m\u001b[0;34m)\u001b[0m\u001b[0;34m\u001b[0m\u001b[0;34m\u001b[0m\u001b[0m\n\u001b[0;32m----> 5\u001b[0;31m     \u001b[0msizes5\u001b[0m\u001b[0;34m.\u001b[0m\u001b[0mappend\u001b[0m\u001b[0;34m(\u001b[0m\u001b[0;34m(\u001b[0m\u001b[0mfile\u001b[0m\u001b[0;34m,\u001b[0m \u001b[0mimage\u001b[0m\u001b[0;34m.\u001b[0m\u001b[0mshape\u001b[0m\u001b[0;34m)\u001b[0m\u001b[0;34m)\u001b[0m\u001b[0;34m\u001b[0m\u001b[0;34m\u001b[0m\u001b[0m\n\u001b[0m",
      "\u001b[0;31mAttributeError\u001b[0m: 'NoneType' object has no attribute 'shape'"
     ]
    }
   ],
   "source": [
    "sizes5 = []\n",
    "for file in tqdm(sub_filenames):\n",
    "    filepath = os.path.join(\"..\", \"in\", \"images\", file)\n",
    "    image = cv2.imread(filepath)\n",
    "    sizes5.append((file, image.shape))"
   ]
  },
  {
   "cell_type": "code",
   "execution_count": 304,
   "id": "7a0cc109-eda6-4a2c-8505-e619c3fa38ef",
   "metadata": {
    "execution": {
     "iopub.execute_input": "2022-05-12T20:05:26.672484Z",
     "iopub.status.busy": "2022-05-12T20:05:26.671975Z",
     "iopub.status.idle": "2022-05-12T20:05:26.697899Z",
     "shell.execute_reply": "2022-05-12T20:05:26.696602Z",
     "shell.execute_reply.started": "2022-05-12T20:05:26.672435Z"
    },
    "tags": []
   },
   "outputs": [],
   "source": [
    "y_rm_6 = y_rm_5[y_rm_5[\"filename\"].str.contains(\"gMap_725.jpeg\") == False]"
   ]
  },
  {
   "cell_type": "code",
   "execution_count": 305,
   "id": "9f1db7f2-6469-44be-a871-682a6f1cb2b1",
   "metadata": {
    "execution": {
     "iopub.execute_input": "2022-05-12T20:05:36.291138Z",
     "iopub.status.busy": "2022-05-12T20:05:36.290634Z",
     "iopub.status.idle": "2022-05-12T20:05:36.300295Z",
     "shell.execute_reply": "2022-05-12T20:05:36.299172Z",
     "shell.execute_reply.started": "2022-05-12T20:05:36.291092Z"
    }
   },
   "outputs": [
    {
     "data": {
      "text/plain": [
       "[('gMap_725.png', (557, 625, 3))]"
      ]
     },
     "execution_count": 305,
     "metadata": {},
     "output_type": "execute_result"
    }
   ],
   "source": [
    "sizes5"
   ]
  },
  {
   "cell_type": "code",
   "execution_count": null,
   "id": "88f9fcf1-b656-420a-97c4-2ed1b6b5bb23",
   "metadata": {},
   "outputs": [],
   "source": []
  },
  {
   "cell_type": "code",
   "execution_count": 287,
   "id": "645aeaab-fd82-4bd1-a368-ce7688d1de37",
   "metadata": {
    "execution": {
     "iopub.execute_input": "2022-05-12T19:43:24.335679Z",
     "iopub.status.busy": "2022-05-12T19:43:24.335161Z",
     "iopub.status.idle": "2022-05-12T19:43:24.354812Z",
     "shell.execute_reply": "2022-05-12T19:43:24.354197Z",
     "shell.execute_reply.started": "2022-05-12T19:43:24.335631Z"
    },
    "tags": []
   },
   "outputs": [],
   "source": [
    "y_filenames = sorted(y_rm_6[\"filename\"].tolist())"
   ]
  },
  {
   "cell_type": "code",
   "execution_count": 288,
   "id": "508fd246-3b93-43a0-9bfd-602b2cb92a2a",
   "metadata": {
    "execution": {
     "iopub.execute_input": "2022-05-12T19:43:25.268358Z",
     "iopub.status.busy": "2022-05-12T19:43:25.267858Z",
     "iopub.status.idle": "2022-05-12T19:43:25.275089Z",
     "shell.execute_reply": "2022-05-12T19:43:25.273660Z",
     "shell.execute_reply.started": "2022-05-12T19:43:25.268310Z"
    },
    "tags": []
   },
   "outputs": [],
   "source": [
    "sub_filenames = y_filenames[29712:]"
   ]
  },
  {
   "cell_type": "code",
   "execution_count": 289,
   "id": "cb377788-b877-48b1-a738-1211e7ec80e4",
   "metadata": {
    "execution": {
     "iopub.execute_input": "2022-05-12T19:43:25.922869Z",
     "iopub.status.busy": "2022-05-12T19:43:25.922366Z",
     "iopub.status.idle": "2022-05-12T19:43:25.943659Z",
     "shell.execute_reply": "2022-05-12T19:43:25.942035Z",
     "shell.execute_reply.started": "2022-05-12T19:43:25.922822Z"
    },
    "tags": []
   },
   "outputs": [
    {
     "name": "stderr",
     "output_type": "stream",
     "text": [
      "  0%|          | 0/3236 [00:00<?, ?it/s]\n"
     ]
    },
    {
     "ename": "AttributeError",
     "evalue": "'NoneType' object has no attribute 'shape'",
     "output_type": "error",
     "traceback": [
      "\u001b[0;31m---------------------------------------------------------------------------\u001b[0m",
      "\u001b[0;31mAttributeError\u001b[0m                            Traceback (most recent call last)",
      "\u001b[0;32m/tmp/ipykernel_524/499119135.py\u001b[0m in \u001b[0;36m<module>\u001b[0;34m\u001b[0m\n\u001b[1;32m      3\u001b[0m     \u001b[0mfilepath\u001b[0m \u001b[0;34m=\u001b[0m \u001b[0mos\u001b[0m\u001b[0;34m.\u001b[0m\u001b[0mpath\u001b[0m\u001b[0;34m.\u001b[0m\u001b[0mjoin\u001b[0m\u001b[0;34m(\u001b[0m\u001b[0;34m\"..\"\u001b[0m\u001b[0;34m,\u001b[0m \u001b[0;34m\"in\"\u001b[0m\u001b[0;34m,\u001b[0m \u001b[0;34m\"images\"\u001b[0m\u001b[0;34m,\u001b[0m \u001b[0mfile\u001b[0m\u001b[0;34m)\u001b[0m\u001b[0;34m\u001b[0m\u001b[0;34m\u001b[0m\u001b[0m\n\u001b[1;32m      4\u001b[0m     \u001b[0mimage\u001b[0m \u001b[0;34m=\u001b[0m \u001b[0mcv2\u001b[0m\u001b[0;34m.\u001b[0m\u001b[0mimread\u001b[0m\u001b[0;34m(\u001b[0m\u001b[0mfilepath\u001b[0m\u001b[0;34m)\u001b[0m\u001b[0;34m\u001b[0m\u001b[0;34m\u001b[0m\u001b[0m\n\u001b[0;32m----> 5\u001b[0;31m     \u001b[0msizes6\u001b[0m\u001b[0;34m.\u001b[0m\u001b[0mappend\u001b[0m\u001b[0;34m(\u001b[0m\u001b[0;34m(\u001b[0m\u001b[0mfile\u001b[0m\u001b[0;34m,\u001b[0m \u001b[0mimage\u001b[0m\u001b[0;34m.\u001b[0m\u001b[0mshape\u001b[0m\u001b[0;34m)\u001b[0m\u001b[0;34m)\u001b[0m\u001b[0;34m\u001b[0m\u001b[0;34m\u001b[0m\u001b[0m\n\u001b[0m",
      "\u001b[0;31mAttributeError\u001b[0m: 'NoneType' object has no attribute 'shape'"
     ]
    }
   ],
   "source": [
    "sizes6 = []\n",
    "for file in tqdm(sub_filenames):\n",
    "    filepath = os.path.join(\"..\", \"in\", \"images\", file)\n",
    "    image = cv2.imread(filepath)\n",
    "    sizes6.append((file, image.shape))"
   ]
  },
  {
   "cell_type": "code",
   "execution_count": 290,
   "id": "bb52c948-53a1-457b-9238-8e6692c2da7c",
   "metadata": {
    "execution": {
     "iopub.execute_input": "2022-05-12T19:43:31.273075Z",
     "iopub.status.busy": "2022-05-12T19:43:31.272598Z",
     "iopub.status.idle": "2022-05-12T19:43:31.280481Z",
     "shell.execute_reply": "2022-05-12T19:43:31.279709Z",
     "shell.execute_reply.started": "2022-05-12T19:43:31.273029Z"
    },
    "tags": []
   },
   "outputs": [
    {
     "data": {
      "text/plain": [
       "'gMap_726.jpeg'"
      ]
     },
     "execution_count": 290,
     "metadata": {},
     "output_type": "execute_result"
    }
   ],
   "source": [
    "sub_filenames[0]"
   ]
  },
  {
   "cell_type": "code",
   "execution_count": 291,
   "id": "3afee828-4b71-43e8-ac73-74ce184c9160",
   "metadata": {
    "execution": {
     "iopub.execute_input": "2022-05-12T19:43:49.963651Z",
     "iopub.status.busy": "2022-05-12T19:43:49.963111Z",
     "iopub.status.idle": "2022-05-12T19:43:49.994540Z",
     "shell.execute_reply": "2022-05-12T19:43:49.993748Z",
     "shell.execute_reply.started": "2022-05-12T19:43:49.963599Z"
    },
    "tags": []
   },
   "outputs": [],
   "source": [
    "y_rm_7 = y_rm_6[y_rm_6[\"filename\"].str.contains(\"gMap_726.jpeg\") == False]"
   ]
  },
  {
   "cell_type": "code",
   "execution_count": 292,
   "id": "abb152bb-dccc-43e0-ba6e-29172b269dec",
   "metadata": {
    "execution": {
     "iopub.execute_input": "2022-05-12T19:43:59.229607Z",
     "iopub.status.busy": "2022-05-12T19:43:59.229100Z",
     "iopub.status.idle": "2022-05-12T19:43:59.248659Z",
     "shell.execute_reply": "2022-05-12T19:43:59.248081Z",
     "shell.execute_reply.started": "2022-05-12T19:43:59.229558Z"
    }
   },
   "outputs": [],
   "source": [
    "y_filenames = sorted(y_rm_7[\"filename\"].tolist())"
   ]
  },
  {
   "cell_type": "code",
   "execution_count": 293,
   "id": "229a71fb-deb4-41ec-a88c-fc15b52a9cb3",
   "metadata": {
    "execution": {
     "iopub.execute_input": "2022-05-12T19:44:13.713160Z",
     "iopub.status.busy": "2022-05-12T19:44:13.712674Z",
     "iopub.status.idle": "2022-05-12T19:44:13.719782Z",
     "shell.execute_reply": "2022-05-12T19:44:13.718367Z",
     "shell.execute_reply.started": "2022-05-12T19:44:13.713112Z"
    }
   },
   "outputs": [],
   "source": [
    "sub_filenames = y_filenames[29713:]"
   ]
  },
  {
   "cell_type": "code",
   "execution_count": 294,
   "id": "0cf74926-0817-4e81-bf6b-5ea2cc1712c9",
   "metadata": {
    "execution": {
     "iopub.execute_input": "2022-05-12T19:44:26.775543Z",
     "iopub.status.busy": "2022-05-12T19:44:26.775026Z",
     "iopub.status.idle": "2022-05-12T19:47:54.231341Z",
     "shell.execute_reply": "2022-05-12T19:47:54.230152Z",
     "shell.execute_reply.started": "2022-05-12T19:44:26.775493Z"
    },
    "tags": []
   },
   "outputs": [
    {
     "name": "stderr",
     "output_type": "stream",
     "text": [
      "  4%|▎         | 120/3234 [00:16<04:28, 11.60it/s]libpng warning: iCCP: known incorrect sRGB profile\n",
      "  9%|▉         | 297/3234 [00:40<05:41,  8.59it/s]libpng warning: iCCP: known incorrect sRGB profile\n",
      " 19%|█▉        | 620/3234 [01:07<04:25,  9.86it/s]libpng warning: iCCP: known incorrect sRGB profile\n",
      " 20%|█▉        | 632/3234 [01:08<04:25,  9.80it/s]libpng warning: iCCP: known incorrect sRGB profile\n",
      " 20%|█▉        | 634/3234 [01:08<03:50, 11.26it/s]libpng warning: iCCP: known incorrect sRGB profile\n",
      " 24%|██▎       | 760/3234 [01:21<04:29,  9.19it/s]libpng warning: iCCP: known incorrect sRGB profile\n",
      " 24%|██▍       | 779/3234 [01:23<05:05,  8.02it/s]libpng warning: iCCP: known incorrect sRGB profile\n",
      " 24%|██▍       | 789/3234 [01:25<05:16,  7.72it/s]libpng warning: iCCP: known incorrect sRGB profile\n",
      " 28%|██▊       | 902/3234 [01:39<04:01,  9.67it/s]libpng warning: iCCP: known incorrect sRGB profile\n",
      " 29%|██▉       | 937/3234 [01:44<05:34,  6.86it/s]libpng warning: iCCP: known incorrect sRGB profile\n",
      "libpng warning: iCCP: known incorrect sRGB profile\n",
      " 29%|██▉       | 939/3234 [01:44<04:50,  7.89it/s]libpng warning: iCCP: known incorrect sRGB profile\n",
      " 33%|███▎      | 1058/3234 [01:58<03:15, 11.16it/s]libpng warning: iCCP: profile 'ICC Profile': 0h: PCS illuminant is not D50\n",
      " 33%|███▎      | 1060/3234 [01:59<03:35, 10.08it/s]libpng warning: iCCP: profile 'default_rgb.icc': 0h: PCS illuminant is not D50\n",
      " 40%|████      | 1299/3234 [02:22<04:19,  7.46it/s]libpng warning: iCCP: profile 'ICC Profile': 0h: PCS illuminant is not D50\n",
      " 42%|████▏     | 1354/3234 [02:27<02:57, 10.58it/s]libpng warning: iCCP: known incorrect sRGB profile\n",
      " 47%|████▋     | 1512/3234 [02:44<03:17,  8.72it/s]libpng warning: iCCP: known incorrect sRGB profile\n",
      " 48%|████▊     | 1544/3234 [02:47<02:52,  9.81it/s]libpng warning: iCCP: known incorrect sRGB profile\n",
      " 50%|█████     | 1628/3234 [02:54<01:48, 14.74it/s]libpng warning: iCCP: known incorrect sRGB profile\n",
      " 51%|█████     | 1634/3234 [02:55<01:58, 13.48it/s]libpng warning: iCCP: profile 'ICC Profile': 0h: PCS illuminant is not D50\n",
      " 51%|█████     | 1657/3234 [02:57<02:34, 10.24it/s]libpng warning: iCCP: profile 'default_rgb.icc': 0h: PCS illuminant is not D50\n",
      " 53%|█████▎    | 1722/3234 [03:05<03:28,  7.25it/s]libpng warning: iCCP: known incorrect sRGB profile\n",
      " 54%|█████▍    | 1749/3234 [03:08<02:18, 10.69it/s]libpng warning: iCCP: profile 'default_rgb.icc': 0h: PCS illuminant is not D50\n",
      " 54%|█████▍    | 1753/3234 [03:08<02:21, 10.46it/s]libpng warning: sBIT: invalid\n",
      " 54%|█████▍    | 1755/3234 [03:08<02:13, 11.05it/s]libpng warning: iCCP: profile 'default_rgb.icc': 0h: PCS illuminant is not D50\n",
      " 55%|█████▌    | 1789/3234 [03:12<02:19, 10.33it/s]libpng warning: iCCP: known incorrect sRGB profile\n",
      " 56%|█████▌    | 1818/3234 [03:15<03:02,  7.75it/s]libpng warning: iCCP: profile 'ICC Profile': 0h: PCS illuminant is not D50\n",
      " 59%|█████▊    | 1892/3234 [03:27<02:27,  9.12it/s]\n"
     ]
    },
    {
     "ename": "AttributeError",
     "evalue": "'NoneType' object has no attribute 'shape'",
     "output_type": "error",
     "traceback": [
      "\u001b[0;31m---------------------------------------------------------------------------\u001b[0m",
      "\u001b[0;31mAttributeError\u001b[0m                            Traceback (most recent call last)",
      "\u001b[0;32m/tmp/ipykernel_524/4038889833.py\u001b[0m in \u001b[0;36m<module>\u001b[0;34m\u001b[0m\n\u001b[1;32m      3\u001b[0m     \u001b[0mfilepath\u001b[0m \u001b[0;34m=\u001b[0m \u001b[0mos\u001b[0m\u001b[0;34m.\u001b[0m\u001b[0mpath\u001b[0m\u001b[0;34m.\u001b[0m\u001b[0mjoin\u001b[0m\u001b[0;34m(\u001b[0m\u001b[0;34m\"..\"\u001b[0m\u001b[0;34m,\u001b[0m \u001b[0;34m\"in\"\u001b[0m\u001b[0;34m,\u001b[0m \u001b[0;34m\"images\"\u001b[0m\u001b[0;34m,\u001b[0m \u001b[0mfile\u001b[0m\u001b[0;34m)\u001b[0m\u001b[0;34m\u001b[0m\u001b[0;34m\u001b[0m\u001b[0m\n\u001b[1;32m      4\u001b[0m     \u001b[0mimage\u001b[0m \u001b[0;34m=\u001b[0m \u001b[0mcv2\u001b[0m\u001b[0;34m.\u001b[0m\u001b[0mimread\u001b[0m\u001b[0;34m(\u001b[0m\u001b[0mfilepath\u001b[0m\u001b[0;34m)\u001b[0m\u001b[0;34m\u001b[0m\u001b[0;34m\u001b[0m\u001b[0m\n\u001b[0;32m----> 5\u001b[0;31m     \u001b[0msizes7\u001b[0m\u001b[0;34m.\u001b[0m\u001b[0mappend\u001b[0m\u001b[0;34m(\u001b[0m\u001b[0;34m(\u001b[0m\u001b[0mfile\u001b[0m\u001b[0;34m,\u001b[0m \u001b[0mimage\u001b[0m\u001b[0;34m.\u001b[0m\u001b[0mshape\u001b[0m\u001b[0;34m)\u001b[0m\u001b[0;34m)\u001b[0m\u001b[0;34m\u001b[0m\u001b[0;34m\u001b[0m\u001b[0m\n\u001b[0m",
      "\u001b[0;31mAttributeError\u001b[0m: 'NoneType' object has no attribute 'shape'"
     ]
    }
   ],
   "source": [
    "sizes7 = []\n",
    "for file in tqdm(sub_filenames):\n",
    "    filepath = os.path.join(\"..\", \"in\", \"images\", file)\n",
    "    image = cv2.imread(filepath)\n",
    "    sizes7.append((file, image.shape))"
   ]
  },
  {
   "cell_type": "code",
   "execution_count": 295,
   "id": "de4c92b2-50ff-4a67-82de-482d22cd97a7",
   "metadata": {
    "execution": {
     "iopub.execute_input": "2022-05-12T19:49:21.035507Z",
     "iopub.status.busy": "2022-05-12T19:49:21.034930Z",
     "iopub.status.idle": "2022-05-12T19:49:21.044262Z",
     "shell.execute_reply": "2022-05-12T19:49:21.043340Z",
     "shell.execute_reply.started": "2022-05-12T19:49:21.035459Z"
    }
   },
   "outputs": [
    {
     "data": {
      "text/plain": [
       "('surfaceP_79.jpg', (435, 736, 3))"
      ]
     },
     "execution_count": 295,
     "metadata": {},
     "output_type": "execute_result"
    }
   ],
   "source": [
    "sizes7[-1]"
   ]
  },
  {
   "cell_type": "code",
   "execution_count": 298,
   "id": "816e82e8-0f4c-41f4-b26e-d8321c404ac7",
   "metadata": {
    "execution": {
     "iopub.execute_input": "2022-05-12T19:49:56.498193Z",
     "iopub.status.busy": "2022-05-12T19:49:56.497335Z",
     "iopub.status.idle": "2022-05-12T19:49:56.507618Z",
     "shell.execute_reply": "2022-05-12T19:49:56.506226Z",
     "shell.execute_reply.started": "2022-05-12T19:49:56.498126Z"
    },
    "tags": []
   },
   "outputs": [
    {
     "data": {
      "text/plain": [
       "'surfaceP_8.png'"
      ]
     },
     "execution_count": 298,
     "metadata": {},
     "output_type": "execute_result"
    }
   ],
   "source": [
    "sub_filenames[1892]"
   ]
  },
  {
   "cell_type": "code",
   "execution_count": 299,
   "id": "5a6e4a3e-d290-4df8-a66a-7c402073ea73",
   "metadata": {
    "execution": {
     "iopub.execute_input": "2022-05-12T19:50:30.389245Z",
     "iopub.status.busy": "2022-05-12T19:50:30.388753Z",
     "iopub.status.idle": "2022-05-12T19:50:30.421989Z",
     "shell.execute_reply": "2022-05-12T19:50:30.421426Z",
     "shell.execute_reply.started": "2022-05-12T19:50:30.389197Z"
    }
   },
   "outputs": [],
   "source": [
    "y_rm_8 = y_rm_7[y_rm_7[\"filename\"].str.contains(\"surfaceP_8.png\") == False]"
   ]
  },
  {
   "cell_type": "code",
   "execution_count": 300,
   "id": "54856a10-4c62-4017-8b80-6870903b9d14",
   "metadata": {
    "execution": {
     "iopub.execute_input": "2022-05-12T19:51:11.251341Z",
     "iopub.status.busy": "2022-05-12T19:51:11.250737Z",
     "iopub.status.idle": "2022-05-12T19:51:11.269938Z",
     "shell.execute_reply": "2022-05-12T19:51:11.269437Z",
     "shell.execute_reply.started": "2022-05-12T19:51:11.251292Z"
    }
   },
   "outputs": [],
   "source": [
    "y_filenames = sorted(y_rm_8[\"filename\"].tolist())"
   ]
  },
  {
   "cell_type": "code",
   "execution_count": 301,
   "id": "bf02f52e-16be-4a09-bd5d-ca6da865949a",
   "metadata": {
    "execution": {
     "iopub.execute_input": "2022-05-12T19:52:15.689564Z",
     "iopub.status.busy": "2022-05-12T19:52:15.689057Z",
     "iopub.status.idle": "2022-05-12T19:52:15.698268Z",
     "shell.execute_reply": "2022-05-12T19:52:15.696511Z",
     "shell.execute_reply.started": "2022-05-12T19:52:15.689515Z"
    }
   },
   "outputs": [
    {
     "data": {
      "text/plain": [
       "31605"
      ]
     },
     "execution_count": 301,
     "metadata": {},
     "output_type": "execute_result"
    }
   ],
   "source": [
    "29713 + 1892"
   ]
  },
  {
   "cell_type": "code",
   "execution_count": 302,
   "id": "e5d08223-c699-4fd1-ba7b-5ca92f9a366a",
   "metadata": {
    "execution": {
     "iopub.execute_input": "2022-05-12T19:52:43.308523Z",
     "iopub.status.busy": "2022-05-12T19:52:43.307901Z",
     "iopub.status.idle": "2022-05-12T19:52:43.312603Z",
     "shell.execute_reply": "2022-05-12T19:52:43.311996Z",
     "shell.execute_reply.started": "2022-05-12T19:52:43.308471Z"
    }
   },
   "outputs": [],
   "source": [
    "sub_filenames = y_filenames[31605:]"
   ]
  },
  {
   "cell_type": "code",
   "execution_count": 303,
   "id": "aaee3b81-9485-412d-98e8-03d5c033ebb1",
   "metadata": {
    "execution": {
     "iopub.execute_input": "2022-05-12T19:53:03.778027Z",
     "iopub.status.busy": "2022-05-12T19:53:03.777527Z",
     "iopub.status.idle": "2022-05-12T19:55:38.410253Z",
     "shell.execute_reply": "2022-05-12T19:55:38.409107Z",
     "shell.execute_reply.started": "2022-05-12T19:53:03.777980Z"
    }
   },
   "outputs": [
    {
     "name": "stderr",
     "output_type": "stream",
     "text": [
      "  2%|▏         | 33/1341 [00:03<01:53, 11.54it/s]libpng warning: iCCP: profile 'icc': 0h: PCS illuminant is not D50\n",
      "libpng warning: iCCP: profile 'icc': 'RGB ': RGB color space not permitted on grayscale PNG\n",
      "  3%|▎         | 35/1341 [00:03<02:21,  9.24it/s]libpng warning: iCCP: profile 'icc': 0h: PCS illuminant is not D50\n",
      "  3%|▎         | 40/1341 [00:04<03:00,  7.20it/s]libpng warning: iCCP: profile 'ICC Profile': 0h: PCS illuminant is not D50\n",
      "  6%|▋         | 86/1341 [00:12<02:32,  8.24it/s]libpng warning: iCCP: known incorrect sRGB profile\n",
      " 16%|█▌        | 214/1341 [00:27<02:21,  7.96it/s]libpng warning: iCCP: profile 'ICC Profile': 'RGB ': RGB color space not permitted on grayscale PNG\n",
      " 21%|██        | 277/1341 [00:33<01:49,  9.75it/s]libpng warning: iCCP: profile 'ICC Profile': 0h: PCS illuminant is not D50\n",
      " 22%|██▏       | 298/1341 [00:36<02:01,  8.60it/s]libpng warning: iCCP: profile 'icc': 0h: PCS illuminant is not D50\n",
      " 26%|██▌       | 347/1341 [00:41<01:13, 13.50it/s]libpng warning: iCCP: known incorrect sRGB profile\n",
      " 33%|███▎      | 442/1341 [00:50<01:24, 10.65it/s]libpng warning: iCCP: known incorrect sRGB profile\n",
      " 49%|████▉     | 660/1341 [01:15<01:21,  8.32it/s]libpng warning: iCCP: known incorrect sRGB profile\n",
      " 56%|█████▌    | 745/1341 [01:23<00:51, 11.62it/s]libpng warning: iCCP: known incorrect sRGB profile\n",
      " 59%|█████▉    | 796/1341 [01:30<03:19,  2.73it/s]libpng warning: iCCP: known incorrect sRGB profile\n",
      " 62%|██████▏   | 825/1341 [01:35<01:25,  6.03it/s]libpng warning: iCCP: profile 'ICC Profile': 'RGB ': RGB color space not permitted on grayscale PNG\n",
      " 63%|██████▎   | 850/1341 [01:38<00:53,  9.20it/s]libpng warning: iCCP: known incorrect sRGB profile\n",
      " 80%|███████▉  | 1071/1341 [02:05<00:24, 11.11it/s]libpng warning: iCCP: known incorrect sRGB profile\n",
      " 80%|████████  | 1075/1341 [02:06<00:24, 10.86it/s]libpng warning: iCCP: known incorrect sRGB profile\n",
      " 83%|████████▎ | 1113/1341 [02:10<00:32,  7.06it/s]libpng warning: iCCP: known incorrect sRGB profile\n",
      " 84%|████████▎ | 1123/1341 [02:11<00:19, 11.17it/s]libpng warning: iCCP: known incorrect sRGB profile\n",
      " 93%|█████████▎| 1251/1341 [02:23<00:10,  8.99it/s]libpng warning: iCCP: known incorrect sRGB profile\n",
      " 95%|█████████▌| 1277/1341 [02:27<00:22,  2.78it/s]libpng warning: iCCP: known incorrect sRGB profile\n",
      " 96%|█████████▌| 1284/1341 [02:28<00:10,  5.50it/s]libpng warning: iCCP: known incorrect sRGB profile\n",
      " 96%|█████████▌| 1288/1341 [02:29<00:08,  6.39it/s]libpng warning: iCCP: profile 'Photoshop ICC profile': 'RGB ': RGB color space not permitted on grayscale PNG\n",
      " 99%|█████████▉| 1326/1341 [02:32<00:01, 11.37it/s]libpng warning: iCCP: profile 'icc': 0h: PCS illuminant is not D50\n",
      "libpng warning: iCCP: profile 'icc': 'RGB ': RGB color space not permitted on grayscale PNG\n",
      "100%|██████████| 1341/1341 [02:34<00:00,  8.67it/s]\n"
     ]
    }
   ],
   "source": [
    "sizes8 = []\n",
    "for file in tqdm(sub_filenames):\n",
    "    filepath = os.path.join(\"..\", \"in\", \"images\", file)\n",
    "    image = cv2.imread(filepath)\n",
    "    sizes8.append((file, image.shape))"
   ]
  },
  {
   "cell_type": "code",
   "execution_count": 306,
   "id": "b96d6574-af61-4fc4-a04b-3b2365571b50",
   "metadata": {
    "execution": {
     "iopub.execute_input": "2022-05-12T20:06:59.541962Z",
     "iopub.status.busy": "2022-05-12T20:06:59.541463Z",
     "iopub.status.idle": "2022-05-12T20:06:59.549273Z",
     "shell.execute_reply": "2022-05-12T20:06:59.548298Z",
     "shell.execute_reply.started": "2022-05-12T20:06:59.541913Z"
    }
   },
   "outputs": [],
   "source": [
    "sizes.append(sizes2)\n",
    "sizes.append(sizes3)\n",
    "sizes.append(sizes4)\n",
    "sizes.append(sizes5)\n",
    "sizes.append(sizes7)\n",
    "sizes.append(sizes8)"
   ]
  },
  {
   "cell_type": "code",
   "execution_count": 307,
   "id": "c7177938-48a4-4ce9-92f8-5f3df9c1a3c7",
   "metadata": {
    "execution": {
     "iopub.execute_input": "2022-05-12T20:07:33.728995Z",
     "iopub.status.busy": "2022-05-12T20:07:33.728501Z",
     "iopub.status.idle": "2022-05-12T20:07:33.737245Z",
     "shell.execute_reply": "2022-05-12T20:07:33.736486Z",
     "shell.execute_reply.started": "2022-05-12T20:07:33.728947Z"
    }
   },
   "outputs": [
    {
     "data": {
      "text/plain": [
       "32946"
      ]
     },
     "execution_count": 307,
     "metadata": {},
     "output_type": "execute_result"
    }
   ],
   "source": [
    "len(y_rm_8[\"filename\"])"
   ]
  },
  {
   "cell_type": "code",
   "execution_count": 309,
   "id": "12df1d74-1175-4f6a-aae6-29dbab34a466",
   "metadata": {
    "execution": {
     "iopub.execute_input": "2022-05-12T20:08:35.893331Z",
     "iopub.status.busy": "2022-05-12T20:08:35.892836Z",
     "iopub.status.idle": "2022-05-12T20:08:35.903470Z",
     "shell.execute_reply": "2022-05-12T20:08:35.902340Z",
     "shell.execute_reply.started": "2022-05-12T20:08:35.893283Z"
    },
    "tags": []
   },
   "outputs": [
    {
     "data": {
      "text/plain": [
       "29218"
      ]
     },
     "execution_count": 309,
     "metadata": {},
     "output_type": "execute_result"
    }
   ],
   "source": [
    "len(sizes)"
   ]
  },
  {
   "cell_type": "code",
   "execution_count": null,
   "id": "099d1bc3-2a5f-448a-a0a0-de645c0eb6b9",
   "metadata": {
    "execution": {
     "iopub.execute_input": "2022-05-12T20:09:35.800232Z",
     "iopub.status.busy": "2022-05-12T20:09:35.799486Z"
    }
   },
   "outputs": [
    {
     "name": "stderr",
     "output_type": "stream",
     "text": [
      " 31%|███       | 10295/32946 [14:50<41:51,  9.02it/s]  "
     ]
    }
   ],
   "source": [
    "y_filenames = sorted(y_rm_8[\"filename\"].tolist())\n",
    "all_sizes = []\n",
    "for file in tqdm(y_filenames):\n",
    "    filepath = os.path.join(\"..\", \"in\", \"images\", file)\n",
    "    image = cv2.imread(filepath)\n",
    "    all_sizes.append((file, image.shape))"
   ]
  },
  {
   "cell_type": "markdown",
   "id": "ae40f427-b2a5-43b4-8492-08b0a2003ec5",
   "metadata": {},
   "source": [
    "### Data formatting "
   ]
  },
  {
   "cell_type": "code",
   "execution_count": 45,
   "id": "7f942b58-339b-4b6c-8d76-2e94668cc131",
   "metadata": {
    "execution": {
     "iopub.execute_input": "2022-05-12T15:06:52.437912Z",
     "iopub.status.busy": "2022-05-12T15:06:52.437378Z",
     "iopub.status.idle": "2022-05-12T15:06:52.444992Z",
     "shell.execute_reply": "2022-05-12T15:06:52.443529Z",
     "shell.execute_reply.started": "2022-05-12T15:06:52.437862Z"
    }
   },
   "outputs": [],
   "source": [
    "# turning y into a series \n",
    "y_test = y_test['category'].squeeze()"
   ]
  },
  {
   "cell_type": "code",
   "execution_count": 46,
   "id": "068d5f71-d37b-47a9-89a3-d3a6b2b592e6",
   "metadata": {
    "execution": {
     "iopub.execute_input": "2022-05-12T15:06:59.452134Z",
     "iopub.status.busy": "2022-05-12T15:06:59.451468Z",
     "iopub.status.idle": "2022-05-12T15:06:59.460659Z",
     "shell.execute_reply": "2022-05-12T15:06:59.459475Z",
     "shell.execute_reply.started": "2022-05-12T15:06:59.452080Z"
    }
   },
   "outputs": [
    {
     "data": {
      "text/plain": [
       "pandas.core.series.Series"
      ]
     },
     "execution_count": 46,
     "metadata": {},
     "output_type": "execute_result"
    }
   ],
   "source": [
    "type(y_test)"
   ]
  },
  {
   "cell_type": "code",
   "execution_count": 47,
   "id": "d8038839-fea0-4ebe-9a4a-5d758f2b3217",
   "metadata": {
    "execution": {
     "iopub.execute_input": "2022-05-12T15:07:02.855531Z",
     "iopub.status.busy": "2022-05-12T15:07:02.855011Z",
     "iopub.status.idle": "2022-05-12T15:07:02.867953Z",
     "shell.execute_reply": "2022-05-12T15:07:02.866795Z",
     "shell.execute_reply.started": "2022-05-12T15:07:02.855481Z"
    }
   },
   "outputs": [
    {
     "data": {
      "text/plain": [
       "0           3D objects\n",
       "1           3D objects\n",
       "2           3D objects\n",
       "3           3D objects\n",
       "4           3D objects\n",
       "             ...      \n",
       "13167     Venn Diagram\n",
       "13168     Venn Diagram\n",
       "13169     Venn Diagram\n",
       "13170     Venn Diagram\n",
       "13171     Venn Diagram\n",
       "Name: category, Length: 13172, dtype: object"
      ]
     },
     "execution_count": 47,
     "metadata": {},
     "output_type": "execute_result"
    }
   ],
   "source": [
    "y_test"
   ]
  },
  {
   "cell_type": "markdown",
   "id": "00db7ce4-6252-4490-a25d-af54ed4cefda",
   "metadata": {},
   "source": [
    "The data comes pre-split, but perhaps it would be nice to be able to decide that split by myself? "
   ]
  },
  {
   "cell_type": "code",
   "execution_count": 49,
   "id": "c3328c05-1292-49a3-bd3b-f422686d6619",
   "metadata": {
    "execution": {
     "iopub.execute_input": "2022-05-12T15:13:20.410298Z",
     "iopub.status.busy": "2022-05-12T15:13:20.409929Z",
     "iopub.status.idle": "2022-05-12T15:13:20.417195Z",
     "shell.execute_reply": "2022-05-12T15:13:20.416003Z",
     "shell.execute_reply.started": "2022-05-12T15:13:20.410262Z"
    },
    "tags": []
   },
   "outputs": [
    {
     "data": {
      "text/plain": [
       "60.046105314244116"
      ]
     },
     "execution_count": 49,
     "metadata": {},
     "output_type": "execute_result"
    }
   ],
   "source": [
    "19796/32968*100"
   ]
  },
  {
   "cell_type": "markdown",
   "id": "f134be90-58e1-46ae-9445-c59deeb7eafe",
   "metadata": {},
   "source": [
    "The original split seems to be along the lines of 60-40 "
   ]
  },
  {
   "cell_type": "code",
   "execution_count": 80,
   "id": "9c580891-46d5-4e32-870a-071e9886ab17",
   "metadata": {
    "execution": {
     "iopub.execute_input": "2022-05-12T16:29:12.297813Z",
     "iopub.status.busy": "2022-05-12T16:29:12.296602Z",
     "iopub.status.idle": "2022-05-12T16:29:12.313826Z",
     "shell.execute_reply": "2022-05-12T16:29:12.312911Z",
     "shell.execute_reply.started": "2022-05-12T16:29:12.297749Z"
    },
    "tags": []
   },
   "outputs": [],
   "source": [
    "y = pd.concat([y_train, y_test], axis=0)"
   ]
  },
  {
   "cell_type": "code",
   "execution_count": 54,
   "id": "d4816e28-885b-4429-99cc-36c0a1d9b498",
   "metadata": {
    "execution": {
     "iopub.execute_input": "2022-05-12T15:16:43.899893Z",
     "iopub.status.busy": "2022-05-12T15:16:43.899122Z",
     "iopub.status.idle": "2022-05-12T15:16:43.908216Z",
     "shell.execute_reply": "2022-05-12T15:16:43.907314Z",
     "shell.execute_reply.started": "2022-05-12T15:16:43.899833Z"
    }
   },
   "outputs": [
    {
     "data": {
      "text/plain": [
       "32968"
      ]
     },
     "execution_count": 54,
     "metadata": {},
     "output_type": "execute_result"
    }
   ],
   "source": [
    "len(y)"
   ]
  },
  {
   "cell_type": "code",
   "execution_count": 55,
   "id": "c4c773da-2fab-4069-ab83-47602aa847d1",
   "metadata": {
    "execution": {
     "iopub.execute_input": "2022-05-12T15:16:45.608314Z",
     "iopub.status.busy": "2022-05-12T15:16:45.607810Z",
     "iopub.status.idle": "2022-05-12T15:16:45.617435Z",
     "shell.execute_reply": "2022-05-12T15:16:45.616273Z",
     "shell.execute_reply.started": "2022-05-12T15:16:45.608263Z"
    }
   },
   "outputs": [
    {
     "data": {
      "text/plain": [
       "32968"
      ]
     },
     "execution_count": 55,
     "metadata": {},
     "output_type": "execute_result"
    }
   ],
   "source": [
    "len(y_train) + len(y_test)"
   ]
  },
  {
   "cell_type": "markdown",
   "id": "efd561cb-e610-405f-9b24-e3dd9e2a32cb",
   "metadata": {},
   "source": [
    "That seems go have worked- Now to also turn this into a series "
   ]
  },
  {
   "cell_type": "code",
   "execution_count": 56,
   "id": "449f1ce8-9971-44e9-b14d-b8a647a8c0c3",
   "metadata": {
    "execution": {
     "iopub.execute_input": "2022-05-12T15:17:56.898810Z",
     "iopub.status.busy": "2022-05-12T15:17:56.898043Z",
     "iopub.status.idle": "2022-05-12T15:17:56.906053Z",
     "shell.execute_reply": "2022-05-12T15:17:56.904852Z",
     "shell.execute_reply.started": "2022-05-12T15:17:56.898752Z"
    }
   },
   "outputs": [],
   "source": [
    "# turning y into a series \n",
    "y = y['category'].squeeze()"
   ]
  },
  {
   "cell_type": "code",
   "execution_count": 66,
   "id": "133a71b1-04b0-426f-90af-d4d1bde26657",
   "metadata": {
    "execution": {
     "iopub.execute_input": "2022-05-13T16:19:09.279061Z",
     "iopub.status.busy": "2022-05-13T16:19:09.278538Z",
     "iopub.status.idle": "2022-05-13T16:19:09.383093Z",
     "shell.execute_reply": "2022-05-13T16:19:09.382283Z",
     "shell.execute_reply.started": "2022-05-13T16:19:09.279014Z"
    },
    "tags": []
   },
   "outputs": [],
   "source": [
    "# Remiving data that for some reason turned out to be problematic \n",
    "#y_rm_2 = y_no_gif[y_no_gif[\"filename\"].str.contains(\"gMap_256.jpg\") == False]\n",
    "#y_rm_3 = y_rm_2[y_rm_2[\"filename\"].str.contains(\"gMap_549.jpg\") == False]\n",
    "#y_rm_4 = y_rm_3[y_rm_3[\"filename\"].str.contains(\"gMap_559.jpg\") == False]\n",
    "#y_rm_5 = y_rm_4[y_rm_4[\"filename\"].str.contains(\"gMap_724.jpeg\") == False]\n",
    "#y_rm_6 = y_rm_5[y_rm_5[\"filename\"].str.contains(\"gMap_725.jpeg\") == False]\n",
    "#y_rm_7 = y_rm_6[y_rm_6[\"filename\"].str.contains(\"gMap_726.jpeg\") == False]\n",
    "#y_rm_8 = y_rm_7[y_rm_7[\"filename\"].str.contains(\"surfaceP_8.png\") == False]\n",
    "#y_rm_9 = y_rm_8[y_rm_8[\"filename\"].str.contains(\"gMap_727.jpeg\") == False]"
   ]
  },
  {
   "cell_type": "code",
   "execution_count": 57,
   "id": "91621e45-8f6d-4c10-ba18-a74999b40b63",
   "metadata": {
    "execution": {
     "iopub.execute_input": "2022-05-12T15:18:01.657756Z",
     "iopub.status.busy": "2022-05-12T15:18:01.657229Z",
     "iopub.status.idle": "2022-05-12T15:18:01.665911Z",
     "shell.execute_reply": "2022-05-12T15:18:01.664830Z",
     "shell.execute_reply.started": "2022-05-12T15:18:01.657707Z"
    }
   },
   "outputs": [
    {
     "data": {
      "text/plain": [
       "pandas.core.series.Series"
      ]
     },
     "execution_count": 57,
     "metadata": {},
     "output_type": "execute_result"
    }
   ],
   "source": [
    "type(y)"
   ]
  },
  {
   "cell_type": "markdown",
   "id": "150149d2-241d-41f1-9d92-0fb6e87d31e2",
   "metadata": {},
   "source": [
    "### Load and format data in an orderly manner"
   ]
  },
  {
   "cell_type": "markdown",
   "id": "37f1e403-e644-432d-a3b1-93a8dae8276a",
   "metadata": {},
   "source": [
    "Loading data "
   ]
  },
  {
   "cell_type": "code",
   "execution_count": 3,
   "id": "891e918a-eb5d-430a-a36e-29daf6fd61ab",
   "metadata": {
    "execution": {
     "iopub.execute_input": "2022-05-17T12:55:21.677218Z",
     "iopub.status.busy": "2022-05-17T12:55:21.676672Z",
     "iopub.status.idle": "2022-05-17T12:55:21.769517Z",
     "shell.execute_reply": "2022-05-17T12:55:21.768740Z",
     "shell.execute_reply.started": "2022-05-17T12:55:21.677167Z"
    },
    "tags": []
   },
   "outputs": [],
   "source": [
    "# Get the filepath\n",
    "filepath = os.path.join(\"..\", \"in\", \"annotation\", \"test.txt\")\n",
    "# Load data\n",
    "y_test = pd.read_csv(filepath, header=None, names = (\"filename\", \"category\"))"
   ]
  },
  {
   "cell_type": "code",
   "execution_count": 4,
   "id": "d3a40e78-9298-4d49-a4ac-8c182303f74a",
   "metadata": {
    "execution": {
     "iopub.execute_input": "2022-05-17T12:55:22.892268Z",
     "iopub.status.busy": "2022-05-17T12:55:22.891759Z",
     "iopub.status.idle": "2022-05-17T12:55:23.072344Z",
     "shell.execute_reply": "2022-05-17T12:55:23.071477Z",
     "shell.execute_reply.started": "2022-05-17T12:55:22.892220Z"
    },
    "tags": []
   },
   "outputs": [],
   "source": [
    "# Get the filepath\n",
    "filepath = os.path.join(\"..\", \"in\", \"annotation\", \"train.txt\")\n",
    "# Load data\n",
    "y_train = pd.read_csv(filepath, header=None, names = (\"filename\", \"category\"))"
   ]
  },
  {
   "cell_type": "markdown",
   "id": "622c4b67-580d-4cf1-b022-63475d6c1025",
   "metadata": {},
   "source": [
    "Combining data "
   ]
  },
  {
   "cell_type": "code",
   "execution_count": 5,
   "id": "cf45c2d9-c36e-4f4a-8fe9-45425759ca59",
   "metadata": {
    "execution": {
     "iopub.execute_input": "2022-05-17T12:55:27.524099Z",
     "iopub.status.busy": "2022-05-17T12:55:27.523549Z",
     "iopub.status.idle": "2022-05-17T12:55:27.534506Z",
     "shell.execute_reply": "2022-05-17T12:55:27.533259Z",
     "shell.execute_reply.started": "2022-05-17T12:55:27.524048Z"
    },
    "tags": []
   },
   "outputs": [],
   "source": [
    "y = pd.concat([y_train, y_test], axis=0)"
   ]
  },
  {
   "cell_type": "markdown",
   "id": "9d93a3b1-b4d5-4cc8-8aea-75ef6089ad6b",
   "metadata": {},
   "source": [
    "Cleaning y data"
   ]
  },
  {
   "cell_type": "code",
   "execution_count": 6,
   "id": "48e1e8c9-a5f2-4f81-a847-74bda195c9da",
   "metadata": {
    "execution": {
     "iopub.execute_input": "2022-05-17T12:56:00.401105Z",
     "iopub.status.busy": "2022-05-17T12:56:00.400560Z",
     "iopub.status.idle": "2022-05-17T12:56:00.420613Z",
     "shell.execute_reply": "2022-05-17T12:56:00.419842Z",
     "shell.execute_reply.started": "2022-05-17T12:56:00.401054Z"
    },
    "tags": []
   },
   "outputs": [],
   "source": [
    "# Removing duplicates\n",
    "y_rm_dup = y.drop_duplicates(subset=[\"filename\"])"
   ]
  },
  {
   "cell_type": "code",
   "execution_count": 8,
   "id": "89ed56f8-bd5e-446f-8564-2c27ef88df42",
   "metadata": {
    "execution": {
     "iopub.execute_input": "2022-05-17T12:57:13.976267Z",
     "iopub.status.busy": "2022-05-17T12:57:13.975717Z",
     "iopub.status.idle": "2022-05-17T12:57:14.012634Z",
     "shell.execute_reply": "2022-05-17T12:57:14.012031Z",
     "shell.execute_reply.started": "2022-05-17T12:57:13.976217Z"
    },
    "tags": []
   },
   "outputs": [],
   "source": [
    "# Remove GIF files from dataframe\n",
    "# identify partial string\n",
    "discard = [\".GIF\"]\n",
    "  \n",
    "# drop rows that contain the partial string \"Sci\"\n",
    "y_no_gif = y_rm_dup[~y_rm_dup.filename.str.contains('|'.join(discard))]"
   ]
  },
  {
   "cell_type": "code",
   "execution_count": 11,
   "id": "d8314875-ca7f-4799-968c-53b9e16f15a8",
   "metadata": {
    "execution": {
     "iopub.execute_input": "2022-05-17T13:00:19.391135Z",
     "iopub.status.busy": "2022-05-17T13:00:19.390591Z",
     "iopub.status.idle": "2022-05-17T13:00:19.400166Z",
     "shell.execute_reply": "2022-05-17T13:00:19.398928Z",
     "shell.execute_reply.started": "2022-05-17T13:00:19.391085Z"
    },
    "tags": []
   },
   "outputs": [
    {
     "data": {
      "text/plain": [
       "pandas.core.frame.DataFrame"
      ]
     },
     "execution_count": 11,
     "metadata": {},
     "output_type": "execute_result"
    }
   ],
   "source": [
    "type(y_no_gif)"
   ]
  },
  {
   "cell_type": "code",
   "execution_count": 12,
   "id": "8e6208bb-924c-4e12-b832-d2823d35d74b",
   "metadata": {
    "execution": {
     "iopub.execute_input": "2022-05-17T13:00:27.326424Z",
     "iopub.status.busy": "2022-05-17T13:00:27.325891Z",
     "iopub.status.idle": "2022-05-17T13:00:27.335463Z",
     "shell.execute_reply": "2022-05-17T13:00:27.334274Z",
     "shell.execute_reply.started": "2022-05-17T13:00:27.326374Z"
    }
   },
   "outputs": [
    {
     "data": {
      "text/plain": [
       "32952"
      ]
     },
     "execution_count": 12,
     "metadata": {},
     "output_type": "execute_result"
    }
   ],
   "source": [
    "len(y_no_gif)"
   ]
  },
  {
   "cell_type": "code",
   "execution_count": 14,
   "id": "50e97c92-88c1-4bbd-9a77-10d0450a4242",
   "metadata": {
    "execution": {
     "iopub.execute_input": "2022-05-17T13:04:05.880363Z",
     "iopub.status.busy": "2022-05-17T13:04:05.879815Z",
     "iopub.status.idle": "2022-05-17T13:04:05.896907Z",
     "shell.execute_reply": "2022-05-17T13:04:05.896183Z",
     "shell.execute_reply.started": "2022-05-17T13:04:05.880312Z"
    },
    "tags": []
   },
   "outputs": [],
   "source": [
    "# > Remiving data that for some reason turned out to be problematic\n",
    "# defining list\n",
    "problematic = [\"gMap_256.jpg\", \n",
    "               \"gMap_549.jpg\", \n",
    "               \"gMap_559.jpg\", \n",
    "               \"gMap_724.jpeg\", \n",
    "               \"gMap_725.jpeg\", \n",
    "               \"gMap_726.jpeg\",  \n",
    "               \"gMap_727.jpeg\",\n",
    "               \"surfaceP_8.png\"]\n",
    "# Remove rows\n",
    "y_clean = y_no_gif[~y_no_gif.filename.isin(problematic)]"
   ]
  },
  {
   "cell_type": "code",
   "execution_count": 15,
   "id": "abe3bf6d-a355-477d-8ca7-cbe6b49b7b75",
   "metadata": {
    "execution": {
     "iopub.execute_input": "2022-05-17T13:04:14.048317Z",
     "iopub.status.busy": "2022-05-17T13:04:14.047768Z",
     "iopub.status.idle": "2022-05-17T13:04:14.057169Z",
     "shell.execute_reply": "2022-05-17T13:04:14.056142Z",
     "shell.execute_reply.started": "2022-05-17T13:04:14.048265Z"
    }
   },
   "outputs": [
    {
     "data": {
      "text/plain": [
       "32945"
      ]
     },
     "execution_count": 15,
     "metadata": {},
     "output_type": "execute_result"
    }
   ],
   "source": [
    "len(y_clean)"
   ]
  },
  {
   "cell_type": "markdown",
   "id": "c8ae2352-7126-48ae-8d14-737363735932",
   "metadata": {},
   "source": [
    "Find smalles picture / Compare sizes "
   ]
  },
  {
   "cell_type": "code",
   "execution_count": 17,
   "id": "1981a30d-b7b2-44cf-916f-6fb75dc9a644",
   "metadata": {
    "execution": {
     "iopub.execute_input": "2022-05-17T13:05:50.023670Z",
     "iopub.status.busy": "2022-05-17T13:05:50.023141Z",
     "iopub.status.idle": "2022-05-17T13:05:52.011124Z",
     "shell.execute_reply": "2022-05-17T13:05:52.009905Z",
     "shell.execute_reply.started": "2022-05-17T13:05:50.023619Z"
    },
    "tags": []
   },
   "outputs": [
    {
     "name": "stderr",
     "output_type": "stream",
     "text": [
      "100%|██████████| 10/10 [00:01<00:00,  5.07it/s]\n"
     ]
    }
   ],
   "source": [
    "y_filenames = sorted(y_clean[\"filename\"][:10].tolist())\n",
    "all_sizes = []\n",
    "\n",
    "for file in tqdm(y_filenames):\n",
    "    filepath = os.path.join(\"..\", \"in\", \"images\", file)\n",
    "    image = cv2.imread(filepath)\n",
    "    all_sizes.append((file,) + image.shape)"
   ]
  },
  {
   "cell_type": "code",
   "execution_count": 18,
   "id": "aa4109ac-3e3f-4ed1-a678-5f45eee5bcae",
   "metadata": {
    "execution": {
     "iopub.execute_input": "2022-05-17T13:05:55.746009Z",
     "iopub.status.busy": "2022-05-17T13:05:55.745460Z",
     "iopub.status.idle": "2022-05-17T13:05:55.755160Z",
     "shell.execute_reply": "2022-05-17T13:05:55.753705Z",
     "shell.execute_reply.started": "2022-05-17T13:05:55.745958Z"
    },
    "tags": []
   },
   "outputs": [],
   "source": [
    "size_df = pd.DataFrame(all_sizes, columns =[\"filename\", \"height\", \"width\", \"dimentions\"])"
   ]
  },
  {
   "cell_type": "code",
   "execution_count": 19,
   "id": "9df15c0e-b34d-406b-a48d-6d528e467850",
   "metadata": {
    "execution": {
     "iopub.execute_input": "2022-05-17T13:05:56.677553Z",
     "iopub.status.busy": "2022-05-17T13:05:56.677061Z",
     "iopub.status.idle": "2022-05-17T13:05:56.693799Z",
     "shell.execute_reply": "2022-05-17T13:05:56.692655Z",
     "shell.execute_reply.started": "2022-05-17T13:05:56.677505Z"
    },
    "tags": []
   },
   "outputs": [
    {
     "data": {
      "text/html": [
       "<div>\n",
       "<style scoped>\n",
       "    .dataframe tbody tr th:only-of-type {\n",
       "        vertical-align: middle;\n",
       "    }\n",
       "\n",
       "    .dataframe tbody tr th {\n",
       "        vertical-align: top;\n",
       "    }\n",
       "\n",
       "    .dataframe thead th {\n",
       "        text-align: right;\n",
       "    }\n",
       "</style>\n",
       "<table border=\"1\" class=\"dataframe\">\n",
       "  <thead>\n",
       "    <tr style=\"text-align: right;\">\n",
       "      <th></th>\n",
       "      <th>filename</th>\n",
       "      <th>height</th>\n",
       "      <th>width</th>\n",
       "      <th>dimentions</th>\n",
       "    </tr>\n",
       "  </thead>\n",
       "  <tbody>\n",
       "    <tr>\n",
       "      <th>0</th>\n",
       "      <td>2012_06247703-Figure2-1subFig-2.png</td>\n",
       "      <td>226</td>\n",
       "      <td>112</td>\n",
       "      <td>3</td>\n",
       "    </tr>\n",
       "    <tr>\n",
       "      <th>1</th>\n",
       "      <td>2013_06619122-Figure3-1subFig-2.png</td>\n",
       "      <td>190</td>\n",
       "      <td>130</td>\n",
       "      <td>3</td>\n",
       "    </tr>\n",
       "    <tr>\n",
       "      <th>2</th>\n",
       "      <td>2013_06619122-Figure5-1subFig-1.png</td>\n",
       "      <td>116</td>\n",
       "      <td>263</td>\n",
       "      <td>3</td>\n",
       "    </tr>\n",
       "    <tr>\n",
       "      <th>3</th>\n",
       "      <td>2013_06619122-Figure5-1subFig-7.png</td>\n",
       "      <td>262</td>\n",
       "      <td>150</td>\n",
       "      <td>3</td>\n",
       "    </tr>\n",
       "    <tr>\n",
       "      <th>4</th>\n",
       "      <td>2014_06909662-Figure5-1subFig-2.png</td>\n",
       "      <td>183</td>\n",
       "      <td>183</td>\n",
       "      <td>3</td>\n",
       "    </tr>\n",
       "  </tbody>\n",
       "</table>\n",
       "</div>"
      ],
      "text/plain": [
       "                              filename  height  width  dimentions\n",
       "0  2012_06247703-Figure2-1subFig-2.png     226    112           3\n",
       "1  2013_06619122-Figure3-1subFig-2.png     190    130           3\n",
       "2  2013_06619122-Figure5-1subFig-1.png     116    263           3\n",
       "3  2013_06619122-Figure5-1subFig-7.png     262    150           3\n",
       "4  2014_06909662-Figure5-1subFig-2.png     183    183           3"
      ]
     },
     "execution_count": 19,
     "metadata": {},
     "output_type": "execute_result"
    }
   ],
   "source": [
    "size_df.head()"
   ]
  },
  {
   "cell_type": "code",
   "execution_count": 20,
   "id": "dee79d1d-6284-49cc-8b49-832abcad7a6a",
   "metadata": {
    "execution": {
     "iopub.execute_input": "2022-05-17T13:05:58.095655Z",
     "iopub.status.busy": "2022-05-17T13:05:58.095163Z",
     "iopub.status.idle": "2022-05-17T13:05:58.104471Z",
     "shell.execute_reply": "2022-05-17T13:05:58.103479Z",
     "shell.execute_reply.started": "2022-05-17T13:05:58.095607Z"
    },
    "tags": []
   },
   "outputs": [
    {
     "data": {
      "text/plain": [
       "10"
      ]
     },
     "execution_count": 20,
     "metadata": {},
     "output_type": "execute_result"
    }
   ],
   "source": [
    "len(size_df[\"filename\"])"
   ]
  },
  {
   "cell_type": "code",
   "execution_count": 1,
   "id": "01610684-2df9-46ef-9e58-3cb8dfe92e87",
   "metadata": {
    "execution": {
     "iopub.execute_input": "2022-05-17T16:18:58.601597Z",
     "iopub.status.busy": "2022-05-17T16:18:58.601057Z",
     "iopub.status.idle": "2022-05-17T16:18:58.608035Z",
     "shell.execute_reply": "2022-05-17T16:18:58.606632Z",
     "shell.execute_reply.started": "2022-05-17T16:18:58.601544Z"
    },
    "tags": []
   },
   "outputs": [],
   "source": [
    " # Save CSV\n",
    "# outpath = os.path.join(\"..\", \"output\", \"img_size_df.csv\")\n",
    "# size_df.to_csv(outpath, index=False)"
   ]
  },
  {
   "cell_type": "markdown",
   "id": "0c68f53a-ef1e-4dcd-80af-125695eb7dcc",
   "metadata": {},
   "source": [
    "__Writing functions__"
   ]
  },
  {
   "cell_type": "code",
   "execution_count": 2,
   "id": "d25b2311-db49-4f5b-a789-480533dc9cfa",
   "metadata": {
    "execution": {
     "iopub.execute_input": "2022-05-17T16:24:28.632456Z",
     "iopub.status.busy": "2022-05-17T16:24:28.631910Z",
     "iopub.status.idle": "2022-05-17T16:24:28.642352Z",
     "shell.execute_reply": "2022-05-17T16:24:28.641594Z",
     "shell.execute_reply.started": "2022-05-17T16:24:28.632405Z"
    }
   },
   "outputs": [],
   "source": [
    "def load_y():\n",
    "    # > Load test labels\n",
    "    # Get the filepath\n",
    "    filepath_test = os.path.join(\"..\", \"in\", \"annotation\", \"test.txt\")\n",
    "    # Load data\n",
    "    y_test = pd.read_csv(filepath_test, header=None, names = (\"filename\", \"category\"))\n",
    "    \n",
    "    # > Load training labels\n",
    "    # Get the filepath\n",
    "    filepath_train = os.path.join(\"..\", \"in\", \"annotation\", \"train.txt\")\n",
    "    # Load data\n",
    "    y_train = pd.read_csv(filepath_train, header=None, names = (\"filename\", \"category\"))\n",
    "    \n",
    "    # Combine data \n",
    "    y = pd.concat([y_train, y_test], axis=0)\n",
    "    \n",
    "    return y"
   ]
  },
  {
   "cell_type": "code",
   "execution_count": 6,
   "id": "14f5259b-fd6d-4c2f-84fe-d5d77e1612f1",
   "metadata": {
    "execution": {
     "iopub.execute_input": "2022-05-17T16:25:30.637225Z",
     "iopub.status.busy": "2022-05-17T16:25:30.636671Z",
     "iopub.status.idle": "2022-05-17T16:25:30.687336Z",
     "shell.execute_reply": "2022-05-17T16:25:30.686282Z",
     "shell.execute_reply.started": "2022-05-17T16:25:30.637169Z"
    },
    "tags": []
   },
   "outputs": [],
   "source": [
    "y = load_y()"
   ]
  },
  {
   "cell_type": "code",
   "execution_count": 8,
   "id": "25fe31a1-8e87-41bc-b2d7-1f95925efcdf",
   "metadata": {
    "execution": {
     "iopub.execute_input": "2022-05-17T16:25:55.077590Z",
     "iopub.status.busy": "2022-05-17T16:25:55.077046Z",
     "iopub.status.idle": "2022-05-17T16:25:55.124598Z",
     "shell.execute_reply": "2022-05-17T16:25:55.123457Z",
     "shell.execute_reply.started": "2022-05-17T16:25:55.077539Z"
    },
    "tags": []
   },
   "outputs": [
    {
     "data": {
      "text/html": [
       "<div>\n",
       "<style scoped>\n",
       "    .dataframe tbody tr th:only-of-type {\n",
       "        vertical-align: middle;\n",
       "    }\n",
       "\n",
       "    .dataframe tbody tr th {\n",
       "        vertical-align: top;\n",
       "    }\n",
       "\n",
       "    .dataframe thead th {\n",
       "        text-align: right;\n",
       "    }\n",
       "</style>\n",
       "<table border=\"1\" class=\"dataframe\">\n",
       "  <thead>\n",
       "    <tr style=\"text-align: right;\">\n",
       "      <th></th>\n",
       "      <th>filename</th>\n",
       "      <th>category</th>\n",
       "    </tr>\n",
       "  </thead>\n",
       "  <tbody>\n",
       "    <tr>\n",
       "      <th>0</th>\n",
       "      <td>2014_06909662-Figure5-1subFig-2.png</td>\n",
       "      <td>3D objects</td>\n",
       "    </tr>\n",
       "    <tr>\n",
       "      <th>1</th>\n",
       "      <td>2013_06619122-Figure3-1subFig-2.png</td>\n",
       "      <td>3D objects</td>\n",
       "    </tr>\n",
       "    <tr>\n",
       "      <th>2</th>\n",
       "      <td>2015_07298623-Figure4-1subFig-3.png</td>\n",
       "      <td>3D objects</td>\n",
       "    </tr>\n",
       "  </tbody>\n",
       "</table>\n",
       "</div>"
      ],
      "text/plain": [
       "                              filename     category\n",
       "0  2014_06909662-Figure5-1subFig-2.png   3D objects\n",
       "1  2013_06619122-Figure3-1subFig-2.png   3D objects\n",
       "2  2015_07298623-Figure4-1subFig-3.png   3D objects"
      ]
     },
     "execution_count": 8,
     "metadata": {},
     "output_type": "execute_result"
    }
   ],
   "source": [
    "y[:3]"
   ]
  },
  {
   "cell_type": "markdown",
   "id": "2bcfeadb-4c3a-4ed1-9a5a-0a4d3a4e89f8",
   "metadata": {},
   "source": [
    "### Mucking about with averages and such "
   ]
  },
  {
   "cell_type": "code",
   "execution_count": 82,
   "id": "9da963ea-d0d8-401a-8285-905e5a42d161",
   "metadata": {
    "execution": {
     "iopub.execute_input": "2022-05-13T17:10:26.137682Z",
     "iopub.status.busy": "2022-05-13T17:10:26.137174Z",
     "iopub.status.idle": "2022-05-13T17:10:26.151186Z",
     "shell.execute_reply": "2022-05-13T17:10:26.150570Z",
     "shell.execute_reply.started": "2022-05-13T17:10:26.137634Z"
    },
    "tags": []
   },
   "outputs": [
    {
     "data": {
      "text/plain": [
       "3"
      ]
     },
     "execution_count": 82,
     "metadata": {},
     "output_type": "execute_result"
    }
   ],
   "source": [
    "# Do all images have 3 dimentions? \n",
    "# min(size_df[\"dimentions\"])\n",
    "# Yes"
   ]
  },
  {
   "cell_type": "code",
   "execution_count": 83,
   "id": "dc8e7d4d-7bef-4c0d-8b14-61bece1f6583",
   "metadata": {
    "execution": {
     "iopub.execute_input": "2022-05-13T17:12:42.324758Z",
     "iopub.status.busy": "2022-05-13T17:12:42.324257Z",
     "iopub.status.idle": "2022-05-13T17:12:42.338652Z",
     "shell.execute_reply": "2022-05-13T17:12:42.337694Z",
     "shell.execute_reply.started": "2022-05-13T17:12:42.324713Z"
    }
   },
   "outputs": [
    {
     "data": {
      "text/plain": [
       "18"
      ]
     },
     "execution_count": 83,
     "metadata": {},
     "output_type": "execute_result"
    }
   ],
   "source": [
    "# What is the smallest height\n",
    "# min(size_df[\"height\"])"
   ]
  },
  {
   "cell_type": "code",
   "execution_count": 84,
   "id": "bc955bf6-2743-44ec-b984-086b469e6dbc",
   "metadata": {
    "execution": {
     "iopub.execute_input": "2022-05-13T17:15:31.585498Z",
     "iopub.status.busy": "2022-05-13T17:15:31.584962Z",
     "iopub.status.idle": "2022-05-13T17:15:31.610945Z",
     "shell.execute_reply": "2022-05-13T17:15:31.610150Z",
     "shell.execute_reply.started": "2022-05-13T17:15:31.585450Z"
    }
   },
   "outputs": [
    {
     "data": {
      "text/html": [
       "<div>\n",
       "<style scoped>\n",
       "    .dataframe tbody tr th:only-of-type {\n",
       "        vertical-align: middle;\n",
       "    }\n",
       "\n",
       "    .dataframe tbody tr th {\n",
       "        vertical-align: top;\n",
       "    }\n",
       "\n",
       "    .dataframe thead th {\n",
       "        text-align: right;\n",
       "    }\n",
       "</style>\n",
       "<table border=\"1\" class=\"dataframe\">\n",
       "  <thead>\n",
       "    <tr style=\"text-align: right;\">\n",
       "      <th></th>\n",
       "      <th>filename</th>\n",
       "      <th>height</th>\n",
       "      <th>width</th>\n",
       "      <th>dimentions</th>\n",
       "    </tr>\n",
       "  </thead>\n",
       "  <tbody>\n",
       "    <tr>\n",
       "      <th>15704</th>\n",
       "      <td>2012_06247717-Figure6-1subFig-1.png</td>\n",
       "      <td>18</td>\n",
       "      <td>118</td>\n",
       "      <td>3</td>\n",
       "    </tr>\n",
       "  </tbody>\n",
       "</table>\n",
       "</div>"
      ],
      "text/plain": [
       "                                  filename  height  width  dimentions\n",
       "15704  2012_06247717-Figure6-1subFig-1.png      18    118           3"
      ]
     },
     "execution_count": 84,
     "metadata": {},
     "output_type": "execute_result"
    }
   ],
   "source": [
    "# size_df.loc[size_df['height'] == 18]"
   ]
  },
  {
   "cell_type": "code",
   "execution_count": 87,
   "id": "e6f7201e-faf2-4a14-9ffb-d44888e4188e",
   "metadata": {
    "execution": {
     "iopub.execute_input": "2022-05-13T17:18:16.593992Z",
     "iopub.status.busy": "2022-05-13T17:18:16.593355Z",
     "iopub.status.idle": "2022-05-13T17:18:16.620024Z",
     "shell.execute_reply": "2022-05-13T17:18:16.619486Z",
     "shell.execute_reply.started": "2022-05-13T17:18:16.593941Z"
    },
    "tags": []
   },
   "outputs": [
    {
     "data": {
      "text/plain": [
       "273.75498558203066"
      ]
     },
     "execution_count": 87,
     "metadata": {},
     "output_type": "execute_result"
    }
   ],
   "source": [
    "statistics.mean(size_df[\"height\"])"
   ]
  },
  {
   "cell_type": "code",
   "execution_count": 89,
   "id": "adec854d-8137-407e-8fdd-f6eae9904f36",
   "metadata": {
    "execution": {
     "iopub.execute_input": "2022-05-13T17:19:41.183135Z",
     "iopub.status.busy": "2022-05-13T17:19:41.182627Z",
     "iopub.status.idle": "2022-05-13T17:19:41.202009Z",
     "shell.execute_reply": "2022-05-13T17:19:41.201319Z",
     "shell.execute_reply.started": "2022-05-13T17:19:41.183087Z"
    },
    "tags": []
   },
   "outputs": [
    {
     "data": {
      "text/html": [
       "<div>\n",
       "<style scoped>\n",
       "    .dataframe tbody tr th:only-of-type {\n",
       "        vertical-align: middle;\n",
       "    }\n",
       "\n",
       "    .dataframe tbody tr th {\n",
       "        vertical-align: top;\n",
       "    }\n",
       "\n",
       "    .dataframe thead th {\n",
       "        text-align: right;\n",
       "    }\n",
       "</style>\n",
       "<table border=\"1\" class=\"dataframe\">\n",
       "  <thead>\n",
       "    <tr style=\"text-align: right;\">\n",
       "      <th></th>\n",
       "      <th>filename</th>\n",
       "      <th>height</th>\n",
       "      <th>width</th>\n",
       "      <th>dimentions</th>\n",
       "    </tr>\n",
       "  </thead>\n",
       "  <tbody>\n",
       "    <tr>\n",
       "      <th>1</th>\n",
       "      <td>1998_00698580-Figure1-1subFig-2.png</td>\n",
       "      <td>129</td>\n",
       "      <td>106</td>\n",
       "      <td>3</td>\n",
       "    </tr>\n",
       "    <tr>\n",
       "      <th>2</th>\n",
       "      <td>1998_00698580-Figure4-1subFig-1.png</td>\n",
       "      <td>166</td>\n",
       "      <td>225</td>\n",
       "      <td>3</td>\n",
       "    </tr>\n",
       "    <tr>\n",
       "      <th>3</th>\n",
       "      <td>1998_00698583-Figure5-1subFig-1.png</td>\n",
       "      <td>232</td>\n",
       "      <td>301</td>\n",
       "      <td>3</td>\n",
       "    </tr>\n",
       "    <tr>\n",
       "      <th>5</th>\n",
       "      <td>1998_00698587-Figure1-1subFig-13.png</td>\n",
       "      <td>205</td>\n",
       "      <td>152</td>\n",
       "      <td>3</td>\n",
       "    </tr>\n",
       "    <tr>\n",
       "      <th>6</th>\n",
       "      <td>1998_00698587-Figure1-1subFig-4.png</td>\n",
       "      <td>205</td>\n",
       "      <td>150</td>\n",
       "      <td>3</td>\n",
       "    </tr>\n",
       "    <tr>\n",
       "      <th>...</th>\n",
       "      <td>...</td>\n",
       "      <td>...</td>\n",
       "      <td>...</td>\n",
       "      <td>...</td>\n",
       "    </tr>\n",
       "    <tr>\n",
       "      <th>32939</th>\n",
       "      <td>venD_95.png</td>\n",
       "      <td>153</td>\n",
       "      <td>240</td>\n",
       "      <td>3</td>\n",
       "    </tr>\n",
       "    <tr>\n",
       "      <th>32940</th>\n",
       "      <td>venD_96.png</td>\n",
       "      <td>188</td>\n",
       "      <td>250</td>\n",
       "      <td>3</td>\n",
       "    </tr>\n",
       "    <tr>\n",
       "      <th>32941</th>\n",
       "      <td>venD_97.png</td>\n",
       "      <td>250</td>\n",
       "      <td>250</td>\n",
       "      <td>3</td>\n",
       "    </tr>\n",
       "    <tr>\n",
       "      <th>32943</th>\n",
       "      <td>venD_99.png</td>\n",
       "      <td>182</td>\n",
       "      <td>250</td>\n",
       "      <td>3</td>\n",
       "    </tr>\n",
       "    <tr>\n",
       "      <th>32944</th>\n",
       "      <td>yaxing_wang_Transferring_GANs_generating_ECCV_...</td>\n",
       "      <td>187</td>\n",
       "      <td>267</td>\n",
       "      <td>3</td>\n",
       "    </tr>\n",
       "  </tbody>\n",
       "</table>\n",
       "<p>23227 rows × 4 columns</p>\n",
       "</div>"
      ],
      "text/plain": [
       "                                                filename  height  width  \\\n",
       "1                    1998_00698580-Figure1-1subFig-2.png     129    106   \n",
       "2                    1998_00698580-Figure4-1subFig-1.png     166    225   \n",
       "3                    1998_00698583-Figure5-1subFig-1.png     232    301   \n",
       "5                   1998_00698587-Figure1-1subFig-13.png     205    152   \n",
       "6                    1998_00698587-Figure1-1subFig-4.png     205    150   \n",
       "...                                                  ...     ...    ...   \n",
       "32939                                        venD_95.png     153    240   \n",
       "32940                                        venD_96.png     188    250   \n",
       "32941                                        venD_97.png     250    250   \n",
       "32943                                        venD_99.png     182    250   \n",
       "32944  yaxing_wang_Transferring_GANs_generating_ECCV_...     187    267   \n",
       "\n",
       "       dimentions  \n",
       "1               3  \n",
       "2               3  \n",
       "3               3  \n",
       "5               3  \n",
       "6               3  \n",
       "...           ...  \n",
       "32939           3  \n",
       "32940           3  \n",
       "32941           3  \n",
       "32943           3  \n",
       "32944           3  \n",
       "\n",
       "[23227 rows x 4 columns]"
      ]
     },
     "execution_count": 89,
     "metadata": {},
     "output_type": "execute_result"
    }
   ],
   "source": [
    "size_df.loc[size_df['height'] <= 273]"
   ]
  },
  {
   "cell_type": "code",
   "execution_count": 90,
   "id": "8780a187-1fe4-4865-909a-d6bf611246c8",
   "metadata": {
    "execution": {
     "iopub.execute_input": "2022-05-13T17:21:13.356073Z",
     "iopub.status.busy": "2022-05-13T17:21:13.355594Z",
     "iopub.status.idle": "2022-05-13T17:21:13.375491Z",
     "shell.execute_reply": "2022-05-13T17:21:13.374940Z",
     "shell.execute_reply.started": "2022-05-13T17:21:13.356028Z"
    }
   },
   "outputs": [
    {
     "data": {
      "text/plain": [
       "[162.0, 210.0, 294.0]"
      ]
     },
     "execution_count": 90,
     "metadata": {},
     "output_type": "execute_result"
    }
   ],
   "source": [
    "statistics.quantiles(size_df[\"height\"])"
   ]
  },
  {
   "cell_type": "code",
   "execution_count": 91,
   "id": "c9734568-ee82-42fa-a6cb-ab565bd2ffea",
   "metadata": {
    "execution": {
     "iopub.execute_input": "2022-05-13T17:21:51.777167Z",
     "iopub.status.busy": "2022-05-13T17:21:51.776663Z",
     "iopub.status.idle": "2022-05-13T17:21:51.795898Z",
     "shell.execute_reply": "2022-05-13T17:21:51.795239Z",
     "shell.execute_reply.started": "2022-05-13T17:21:51.777119Z"
    }
   },
   "outputs": [
    {
     "data": {
      "text/html": [
       "<div>\n",
       "<style scoped>\n",
       "    .dataframe tbody tr th:only-of-type {\n",
       "        vertical-align: middle;\n",
       "    }\n",
       "\n",
       "    .dataframe tbody tr th {\n",
       "        vertical-align: top;\n",
       "    }\n",
       "\n",
       "    .dataframe thead th {\n",
       "        text-align: right;\n",
       "    }\n",
       "</style>\n",
       "<table border=\"1\" class=\"dataframe\">\n",
       "  <thead>\n",
       "    <tr style=\"text-align: right;\">\n",
       "      <th></th>\n",
       "      <th>filename</th>\n",
       "      <th>height</th>\n",
       "      <th>width</th>\n",
       "      <th>dimentions</th>\n",
       "    </tr>\n",
       "  </thead>\n",
       "  <tbody>\n",
       "    <tr>\n",
       "      <th>1</th>\n",
       "      <td>1998_00698580-Figure1-1subFig-2.png</td>\n",
       "      <td>129</td>\n",
       "      <td>106</td>\n",
       "      <td>3</td>\n",
       "    </tr>\n",
       "    <tr>\n",
       "      <th>17</th>\n",
       "      <td>1998_00698596-Table3-1subFig-1.png</td>\n",
       "      <td>134</td>\n",
       "      <td>443</td>\n",
       "      <td>3</td>\n",
       "    </tr>\n",
       "    <tr>\n",
       "      <th>18</th>\n",
       "      <td>1998_00698597-Figure3-1subFig-6.png</td>\n",
       "      <td>122</td>\n",
       "      <td>121</td>\n",
       "      <td>3</td>\n",
       "    </tr>\n",
       "    <tr>\n",
       "      <th>19</th>\n",
       "      <td>1998_00698597-Figure6-1subFig-7.png</td>\n",
       "      <td>142</td>\n",
       "      <td>121</td>\n",
       "      <td>3</td>\n",
       "    </tr>\n",
       "    <tr>\n",
       "      <th>21</th>\n",
       "      <td>1998_00698599-Figure3-1subFig-2.png</td>\n",
       "      <td>106</td>\n",
       "      <td>108</td>\n",
       "      <td>3</td>\n",
       "    </tr>\n",
       "    <tr>\n",
       "      <th>...</th>\n",
       "      <td>...</td>\n",
       "      <td>...</td>\n",
       "      <td>...</td>\n",
       "      <td>...</td>\n",
       "    </tr>\n",
       "    <tr>\n",
       "      <th>32784</th>\n",
       "      <td>venD_753.jpg</td>\n",
       "      <td>153</td>\n",
       "      <td>153</td>\n",
       "      <td>3</td>\n",
       "    </tr>\n",
       "    <tr>\n",
       "      <th>32875</th>\n",
       "      <td>venD_836.jpg</td>\n",
       "      <td>151</td>\n",
       "      <td>249</td>\n",
       "      <td>3</td>\n",
       "    </tr>\n",
       "    <tr>\n",
       "      <th>32902</th>\n",
       "      <td>venD_861.jpg</td>\n",
       "      <td>147</td>\n",
       "      <td>220</td>\n",
       "      <td>3</td>\n",
       "    </tr>\n",
       "    <tr>\n",
       "      <th>32935</th>\n",
       "      <td>venD_90.jpg</td>\n",
       "      <td>146</td>\n",
       "      <td>389</td>\n",
       "      <td>3</td>\n",
       "    </tr>\n",
       "    <tr>\n",
       "      <th>32939</th>\n",
       "      <td>venD_95.png</td>\n",
       "      <td>153</td>\n",
       "      <td>240</td>\n",
       "      <td>3</td>\n",
       "    </tr>\n",
       "  </tbody>\n",
       "</table>\n",
       "<p>8347 rows × 4 columns</p>\n",
       "</div>"
      ],
      "text/plain": [
       "                                  filename  height  width  dimentions\n",
       "1      1998_00698580-Figure1-1subFig-2.png     129    106           3\n",
       "17      1998_00698596-Table3-1subFig-1.png     134    443           3\n",
       "18     1998_00698597-Figure3-1subFig-6.png     122    121           3\n",
       "19     1998_00698597-Figure6-1subFig-7.png     142    121           3\n",
       "21     1998_00698599-Figure3-1subFig-2.png     106    108           3\n",
       "...                                    ...     ...    ...         ...\n",
       "32784                         venD_753.jpg     153    153           3\n",
       "32875                         venD_836.jpg     151    249           3\n",
       "32902                         venD_861.jpg     147    220           3\n",
       "32935                          venD_90.jpg     146    389           3\n",
       "32939                          venD_95.png     153    240           3\n",
       "\n",
       "[8347 rows x 4 columns]"
      ]
     },
     "execution_count": 91,
     "metadata": {},
     "output_type": "execute_result"
    }
   ],
   "source": [
    "size_df.loc[size_df['height'] <= 162]"
   ]
  },
  {
   "cell_type": "code",
   "execution_count": 92,
   "id": "d74d333e-1090-4260-b8ae-e6a395a180b1",
   "metadata": {
    "execution": {
     "iopub.execute_input": "2022-05-13T17:22:51.089412Z",
     "iopub.status.busy": "2022-05-13T17:22:51.088892Z",
     "iopub.status.idle": "2022-05-13T17:22:51.103227Z",
     "shell.execute_reply": "2022-05-13T17:22:51.102533Z",
     "shell.execute_reply.started": "2022-05-13T17:22:51.089365Z"
    }
   },
   "outputs": [
    {
     "data": {
      "text/plain": [
       "48"
      ]
     },
     "execution_count": 92,
     "metadata": {},
     "output_type": "execute_result"
    }
   ],
   "source": [
    "# What is the smallest width\n",
    "min(size_df[\"width\"])"
   ]
  },
  {
   "cell_type": "code",
   "execution_count": 93,
   "id": "f56c81d7-682c-449b-8feb-6c3f3cf5b058",
   "metadata": {
    "execution": {
     "iopub.execute_input": "2022-05-13T17:23:13.065119Z",
     "iopub.status.busy": "2022-05-13T17:23:13.064612Z",
     "iopub.status.idle": "2022-05-13T17:23:13.091613Z",
     "shell.execute_reply": "2022-05-13T17:23:13.091157Z",
     "shell.execute_reply.started": "2022-05-13T17:23:13.065071Z"
    }
   },
   "outputs": [
    {
     "data": {
      "text/plain": [
       "370.0743360145697"
      ]
     },
     "execution_count": 93,
     "metadata": {},
     "output_type": "execute_result"
    }
   ],
   "source": [
    "statistics.mean(size_df[\"width\"])"
   ]
  },
  {
   "cell_type": "code",
   "execution_count": 94,
   "id": "e57675d2-0231-4742-a1a8-074bd068cc69",
   "metadata": {
    "execution": {
     "iopub.execute_input": "2022-05-13T17:24:03.526911Z",
     "iopub.status.busy": "2022-05-13T17:24:03.526305Z",
     "iopub.status.idle": "2022-05-13T17:24:03.545093Z",
     "shell.execute_reply": "2022-05-13T17:24:03.544466Z",
     "shell.execute_reply.started": "2022-05-13T17:24:03.526861Z"
    }
   },
   "outputs": [
    {
     "data": {
      "text/plain": [
       "[194.0, 265.0, 456.0]"
      ]
     },
     "execution_count": 94,
     "metadata": {},
     "output_type": "execute_result"
    }
   ],
   "source": [
    "statistics.quantiles(size_df[\"width\"])"
   ]
  },
  {
   "cell_type": "code",
   "execution_count": 2,
   "id": "83bb0ca2-503b-402d-8306-ce8ced73f1a5",
   "metadata": {
    "execution": {
     "iopub.execute_input": "2022-05-17T12:54:08.174704Z",
     "iopub.status.busy": "2022-05-17T12:54:08.174182Z",
     "iopub.status.idle": "2022-05-17T12:54:08.449379Z",
     "shell.execute_reply": "2022-05-17T12:54:08.448630Z",
     "shell.execute_reply.started": "2022-05-17T12:54:08.174653Z"
    },
    "tags": []
   },
   "outputs": [
    {
     "ename": "NameError",
     "evalue": "name 'size_df' is not defined",
     "output_type": "error",
     "traceback": [
      "\u001b[0;31m---------------------------------------------------------------------------\u001b[0m",
      "\u001b[0;31mNameError\u001b[0m                                 Traceback (most recent call last)",
      "\u001b[0;32m/tmp/ipykernel_533/1921118405.py\u001b[0m in \u001b[0;36m<module>\u001b[0;34m\u001b[0m\n\u001b[0;32m----> 1\u001b[0;31m \u001b[0msize_df\u001b[0m\u001b[0;34m.\u001b[0m\u001b[0mloc\u001b[0m\u001b[0;34m[\u001b[0m\u001b[0msize_df\u001b[0m\u001b[0;34m[\u001b[0m\u001b[0;34m'width'\u001b[0m\u001b[0;34m]\u001b[0m \u001b[0;34m<=\u001b[0m \u001b[0;36m194\u001b[0m\u001b[0;34m]\u001b[0m\u001b[0;34m\u001b[0m\u001b[0;34m\u001b[0m\u001b[0m\n\u001b[0m",
      "\u001b[0;31mNameError\u001b[0m: name 'size_df' is not defined"
     ]
    }
   ],
   "source": [
    "size_df.loc[size_df['width'] <= 194]"
   ]
  },
  {
   "cell_type": "markdown",
   "id": "b1c84ff9-aa15-4b9c-bfc0-bbfdfeab488c",
   "metadata": {},
   "source": [
    "### Time to prepare for data conversion "
   ]
  },
  {
   "cell_type": "markdown",
   "id": "e5485e4e-fc91-4db4-8f21-49b811116eae",
   "metadata": {},
   "source": [
    "I want to, in one loop resize and then either convert to an nd array and save - or convert to greyscale turn the data into a format where each image is represented by one row"
   ]
  },
  {
   "cell_type": "code",
   "execution_count": 16,
   "id": "51f311d0-79e8-4f38-80b8-ff991d729ab2",
   "metadata": {
    "execution": {
     "iopub.execute_input": "2022-05-17T16:42:17.281151Z",
     "iopub.status.busy": "2022-05-17T16:42:17.280598Z",
     "iopub.status.idle": "2022-05-17T16:42:17.542574Z",
     "shell.execute_reply": "2022-05-17T16:42:17.541740Z",
     "shell.execute_reply.started": "2022-05-17T16:42:17.281081Z"
    },
    "tags": []
   },
   "outputs": [],
   "source": [
    "# Loading the full size dataset\n",
    "# Get the filepath\n",
    "filepath = os.path.join(\"..\", \"in\", \"img_size_df.csv\")\n",
    "# Reading the filepath \n",
    "sizes = pd.read_csv(filepath)"
   ]
  },
  {
   "cell_type": "code",
   "execution_count": 26,
   "id": "fde14b9e-e57f-46dc-937d-426e5caa541f",
   "metadata": {
    "execution": {
     "iopub.execute_input": "2022-05-17T13:17:15.764750Z",
     "iopub.status.busy": "2022-05-17T13:17:15.764225Z",
     "iopub.status.idle": "2022-05-17T13:17:15.780122Z",
     "shell.execute_reply": "2022-05-17T13:17:15.779443Z",
     "shell.execute_reply.started": "2022-05-17T13:17:15.764701Z"
    }
   },
   "outputs": [
    {
     "data": {
      "text/html": [
       "<div>\n",
       "<style scoped>\n",
       "    .dataframe tbody tr th:only-of-type {\n",
       "        vertical-align: middle;\n",
       "    }\n",
       "\n",
       "    .dataframe tbody tr th {\n",
       "        vertical-align: top;\n",
       "    }\n",
       "\n",
       "    .dataframe thead th {\n",
       "        text-align: right;\n",
       "    }\n",
       "</style>\n",
       "<table border=\"1\" class=\"dataframe\">\n",
       "  <thead>\n",
       "    <tr style=\"text-align: right;\">\n",
       "      <th></th>\n",
       "      <th>filename</th>\n",
       "      <th>height</th>\n",
       "      <th>width</th>\n",
       "      <th>dimentions</th>\n",
       "    </tr>\n",
       "  </thead>\n",
       "  <tbody>\n",
       "    <tr>\n",
       "      <th>0</th>\n",
       "      <td>1996_00517172-Figure8-1subFig-1.png</td>\n",
       "      <td>277</td>\n",
       "      <td>349</td>\n",
       "      <td>3</td>\n",
       "    </tr>\n",
       "    <tr>\n",
       "      <th>1</th>\n",
       "      <td>1998_00698580-Figure1-1subFig-2.png</td>\n",
       "      <td>129</td>\n",
       "      <td>106</td>\n",
       "      <td>3</td>\n",
       "    </tr>\n",
       "    <tr>\n",
       "      <th>2</th>\n",
       "      <td>1998_00698580-Figure4-1subFig-1.png</td>\n",
       "      <td>166</td>\n",
       "      <td>225</td>\n",
       "      <td>3</td>\n",
       "    </tr>\n",
       "    <tr>\n",
       "      <th>3</th>\n",
       "      <td>1998_00698583-Figure5-1subFig-1.png</td>\n",
       "      <td>232</td>\n",
       "      <td>301</td>\n",
       "      <td>3</td>\n",
       "    </tr>\n",
       "    <tr>\n",
       "      <th>4</th>\n",
       "      <td>1998_00698585-Figure2-1subFig-1.png</td>\n",
       "      <td>314</td>\n",
       "      <td>1027</td>\n",
       "      <td>3</td>\n",
       "    </tr>\n",
       "  </tbody>\n",
       "</table>\n",
       "</div>"
      ],
      "text/plain": [
       "                              filename  height  width  dimentions\n",
       "0  1996_00517172-Figure8-1subFig-1.png     277    349           3\n",
       "1  1998_00698580-Figure1-1subFig-2.png     129    106           3\n",
       "2  1998_00698580-Figure4-1subFig-1.png     166    225           3\n",
       "3  1998_00698583-Figure5-1subFig-1.png     232    301           3\n",
       "4  1998_00698585-Figure2-1subFig-1.png     314   1027           3"
      ]
     },
     "execution_count": 26,
     "metadata": {},
     "output_type": "execute_result"
    }
   ],
   "source": [
    "sizes.head()"
   ]
  },
  {
   "cell_type": "markdown",
   "id": "566c04f7-8e63-4cac-ba41-7c76882bc3be",
   "metadata": {},
   "source": [
    "__This an example where I try to give the height and width the same length__"
   ]
  },
  {
   "cell_type": "markdown",
   "id": "77e477f2-f600-4871-bc79-7757f1b7eeba",
   "metadata": {},
   "source": [
    "Dicard outliers by the 3 X sd rule"
   ]
  },
  {
   "cell_type": "code",
   "execution_count": 17,
   "id": "80a69724-3931-40ef-b49d-338b3a21ebf3",
   "metadata": {
    "execution": {
     "iopub.execute_input": "2022-05-17T16:42:22.604977Z",
     "iopub.status.busy": "2022-05-17T16:42:22.604422Z",
     "iopub.status.idle": "2022-05-17T16:42:22.688100Z",
     "shell.execute_reply": "2022-05-17T16:42:22.687127Z",
     "shell.execute_reply.started": "2022-05-17T16:42:22.604922Z"
    },
    "tags": []
   },
   "outputs": [],
   "source": [
    "# Let's do this the simeple way and go my height \n",
    "# Finding the median \n",
    "mean = statistics.mean(sizes[\"height\"])\n",
    "median = statistics.median(sizes[\"height\"])\n",
    "sd = statistics.stdev(sizes[\"height\"])"
   ]
  },
  {
   "cell_type": "code",
   "execution_count": 18,
   "id": "35eda266-46f5-4834-9662-e2486213ea91",
   "metadata": {
    "execution": {
     "iopub.execute_input": "2022-05-17T16:42:24.677752Z",
     "iopub.status.busy": "2022-05-17T16:42:24.677042Z",
     "iopub.status.idle": "2022-05-17T16:42:24.686102Z",
     "shell.execute_reply": "2022-05-17T16:42:24.684864Z",
     "shell.execute_reply.started": "2022-05-17T16:42:24.677696Z"
    },
    "tags": []
   },
   "outputs": [
    {
     "name": "stdout",
     "output_type": "stream",
     "text": [
      "273.75498558203066\n",
      "210\n",
      "248.23385484796194\n"
     ]
    }
   ],
   "source": [
    "print(mean)\n",
    "print(median)\n",
    "print(sd)"
   ]
  },
  {
   "cell_type": "code",
   "execution_count": 45,
   "id": "8ab2e2b7-bec6-4874-b337-5c00b6ac238d",
   "metadata": {
    "execution": {
     "iopub.execute_input": "2022-05-17T13:35:25.759907Z",
     "iopub.status.busy": "2022-05-17T13:35:25.759369Z",
     "iopub.status.idle": "2022-05-17T13:35:25.767045Z",
     "shell.execute_reply": "2022-05-17T13:35:25.765969Z",
     "shell.execute_reply.started": "2022-05-17T13:35:25.759840Z"
    },
    "tags": []
   },
   "outputs": [
    {
     "name": "stdout",
     "output_type": "stream",
     "text": [
      "744.7015645438858\n"
     ]
    }
   ],
   "source": [
    "# 3 time sd \n",
    "window = sd*3\n",
    "print(window)"
   ]
  },
  {
   "cell_type": "code",
   "execution_count": 55,
   "id": "6bd13d0e-8e45-447c-9715-28856eaa51ae",
   "metadata": {
    "execution": {
     "iopub.execute_input": "2022-05-17T13:40:52.286042Z",
     "iopub.status.busy": "2022-05-17T13:40:52.285505Z",
     "iopub.status.idle": "2022-05-17T13:40:52.295939Z",
     "shell.execute_reply": "2022-05-17T13:40:52.294493Z",
     "shell.execute_reply.started": "2022-05-17T13:40:52.285990Z"
    },
    "tags": []
   },
   "outputs": [],
   "source": [
    "outlier_df = sizes.loc[abs(sizes[\"height\"] - median) >= window]"
   ]
  },
  {
   "cell_type": "code",
   "execution_count": 57,
   "id": "70eb8542-ffbf-43ee-bccb-0e149a843d2f",
   "metadata": {
    "execution": {
     "iopub.execute_input": "2022-05-17T13:44:21.197808Z",
     "iopub.status.busy": "2022-05-17T13:44:21.196695Z",
     "iopub.status.idle": "2022-05-17T13:44:21.208038Z",
     "shell.execute_reply": "2022-05-17T13:44:21.207275Z",
     "shell.execute_reply.started": "2022-05-17T13:44:21.197736Z"
    },
    "tags": []
   },
   "outputs": [
    {
     "data": {
      "text/plain": [
       "589"
      ]
     },
     "execution_count": 57,
     "metadata": {},
     "output_type": "execute_result"
    }
   ],
   "source": [
    "len(outlier_df)"
   ]
  },
  {
   "cell_type": "code",
   "execution_count": 58,
   "id": "9a5f6b86-9825-4bfc-9976-b52f58e97cb1",
   "metadata": {
    "execution": {
     "iopub.execute_input": "2022-05-17T13:44:49.409275Z",
     "iopub.status.busy": "2022-05-17T13:44:49.408729Z",
     "iopub.status.idle": "2022-05-17T13:44:49.419776Z",
     "shell.execute_reply": "2022-05-17T13:44:49.418881Z",
     "shell.execute_reply.started": "2022-05-17T13:44:49.409224Z"
    }
   },
   "outputs": [],
   "source": [
    "removed_outliers = sizes.loc[abs(sizes[\"height\"] - median) <= window]"
   ]
  },
  {
   "cell_type": "code",
   "execution_count": 60,
   "id": "27b1ba17-6e5b-47f3-8289-93cf466ee865",
   "metadata": {
    "execution": {
     "iopub.execute_input": "2022-05-17T13:45:38.803550Z",
     "iopub.status.busy": "2022-05-17T13:45:38.803021Z",
     "iopub.status.idle": "2022-05-17T13:45:38.812506Z",
     "shell.execute_reply": "2022-05-17T13:45:38.811589Z",
     "shell.execute_reply.started": "2022-05-17T13:45:38.803499Z"
    },
    "tags": []
   },
   "outputs": [
    {
     "data": {
      "text/plain": [
       "True"
      ]
     },
     "execution_count": 60,
     "metadata": {},
     "output_type": "execute_result"
    }
   ],
   "source": [
    "len(sizes) == len(outlier_df) + len(removed_outliers)"
   ]
  },
  {
   "cell_type": "markdown",
   "id": "91f46d50-a039-4052-aa19-fdc2d11974ea",
   "metadata": {},
   "source": [
    "__Change format__"
   ]
  },
  {
   "cell_type": "code",
   "execution_count": 23,
   "id": "3f9f0f4f-442c-4481-a71a-0b7abcd47184",
   "metadata": {
    "execution": {
     "iopub.execute_input": "2022-05-17T13:14:59.213110Z",
     "iopub.status.busy": "2022-05-17T13:14:59.212589Z",
     "iopub.status.idle": "2022-05-17T13:14:59.221813Z",
     "shell.execute_reply": "2022-05-17T13:14:59.220559Z",
     "shell.execute_reply.started": "2022-05-17T13:14:59.213061Z"
    },
    "tags": []
   },
   "outputs": [],
   "source": [
    "# > Rshape data\n",
    "def reshape_data(X):\n",
    "    # Define empthy list \n",
    "    X_flat = []\n",
    "    # For each image in the file...\n",
    "    for image in tqdm(X):\n",
    "        # Convert to grayscale\n",
    "        gray = cv2.bitwise_not(cv2.cvtColor(image, cv2.COLOR_BGR2GRAY))\n",
    "        # Flatten and append to list \n",
    "        X_flat.append(gray.flatten())\n",
    "    # Convert to dataframe\n",
    "    X_flat_df = pd.DataFrame(X_flat)\n",
    "    \n",
    "    return X_flat_df"
   ]
  },
  {
   "cell_type": "code",
   "execution_count": 76,
   "id": "1c40def1-6cdb-4bf6-84dc-d32617ca01d9",
   "metadata": {
    "execution": {
     "iopub.execute_input": "2022-05-17T14:18:07.100252Z",
     "iopub.status.busy": "2022-05-17T14:18:07.099709Z",
     "iopub.status.idle": "2022-05-17T14:18:07.146696Z",
     "shell.execute_reply": "2022-05-17T14:18:07.144242Z",
     "shell.execute_reply.started": "2022-05-17T14:18:07.100202Z"
    },
    "tags": []
   },
   "outputs": [
    {
     "name": "stderr",
     "output_type": "stream",
     "text": [
      "100%|██████████| 10/10 [00:00<00:00, 338.14it/s]\n"
     ]
    }
   ],
   "source": [
    "y_filenames = sorted(removed_outliers[\"filename\"][:10].tolist())\n",
    "X_logistic = []\n",
    "X_nn = []\n",
    "\n",
    "for file in tqdm(y_filenames[:10]):\n",
    "    filepath = os.path.join(\"..\", \"in\", \"images\", file)\n",
    "    image = cv2.imread(filepath)\n",
    "    \n",
    "    # Create data for nn \n",
    "    compressed_color = cv2.resize(image, (int(median), int(median)), interpolation=cv2.INTER_AREA)\n",
    "    X_nn.append(img_to_array(compressed_color))\n",
    "    \n",
    "    # Create dataset for logistic regression\n",
    "    gray = cv2.bitwise_not(cv2.cvtColor(image, cv2.COLOR_BGR2GRAY))\n",
    "    compressed_gray = cv2.resize(gray, (int(median), int(median)), interpolation=cv2.INTER_AREA)\n",
    "    X_logistic.append(compressed_gray.flatten())"
   ]
  },
  {
   "cell_type": "code",
   "execution_count": 64,
   "id": "45713122-dcf9-426a-956c-f8cabcdd242f",
   "metadata": {
    "execution": {
     "iopub.execute_input": "2022-05-17T13:53:58.202905Z",
     "iopub.status.busy": "2022-05-17T13:53:58.202346Z",
     "iopub.status.idle": "2022-05-17T13:53:58.212318Z",
     "shell.execute_reply": "2022-05-17T13:53:58.211195Z",
     "shell.execute_reply.started": "2022-05-17T13:53:58.202836Z"
    },
    "tags": []
   },
   "outputs": [
    {
     "data": {
      "text/plain": [
       "list"
      ]
     },
     "execution_count": 64,
     "metadata": {},
     "output_type": "execute_result"
    }
   ],
   "source": [
    "type(X_logistic)"
   ]
  },
  {
   "cell_type": "code",
   "execution_count": 65,
   "id": "413685ba-6571-452e-a7f4-d4bf6d1d973a",
   "metadata": {
    "execution": {
     "iopub.execute_input": "2022-05-17T13:53:59.650590Z",
     "iopub.status.busy": "2022-05-17T13:53:59.650110Z",
     "iopub.status.idle": "2022-05-17T13:54:01.365826Z",
     "shell.execute_reply": "2022-05-17T13:54:01.364969Z",
     "shell.execute_reply.started": "2022-05-17T13:53:59.650541Z"
    },
    "tags": []
   },
   "outputs": [],
   "source": [
    "X_logistic_df = pd.DataFrame(X_logistic)"
   ]
  },
  {
   "cell_type": "code",
   "execution_count": 66,
   "id": "95450208-c8fc-42bf-b944-8fef372dd0fc",
   "metadata": {
    "execution": {
     "iopub.execute_input": "2022-05-17T13:54:03.838840Z",
     "iopub.status.busy": "2022-05-17T13:54:03.838692Z",
     "iopub.status.idle": "2022-05-17T13:54:03.843300Z",
     "shell.execute_reply": "2022-05-17T13:54:03.842762Z",
     "shell.execute_reply.started": "2022-05-17T13:54:03.838824Z"
    },
    "tags": []
   },
   "outputs": [
    {
     "data": {
      "text/plain": [
       "(10, 74529)"
      ]
     },
     "execution_count": 66,
     "metadata": {},
     "output_type": "execute_result"
    }
   ],
   "source": [
    "X_logistic_df.shape"
   ]
  },
  {
   "cell_type": "code",
   "execution_count": 67,
   "id": "40ce45ed-fb82-4952-9acf-cff42e0d74e8",
   "metadata": {
    "execution": {
     "iopub.execute_input": "2022-05-17T13:54:23.176705Z",
     "iopub.status.busy": "2022-05-17T13:54:23.176204Z",
     "iopub.status.idle": "2022-05-17T13:54:23.185058Z",
     "shell.execute_reply": "2022-05-17T13:54:23.183836Z",
     "shell.execute_reply.started": "2022-05-17T13:54:23.176657Z"
    }
   },
   "outputs": [
    {
     "data": {
      "text/plain": [
       "list"
      ]
     },
     "execution_count": 67,
     "metadata": {},
     "output_type": "execute_result"
    }
   ],
   "source": [
    "type(X_nn)"
   ]
  },
  {
   "cell_type": "code",
   "execution_count": 79,
   "id": "4433f0fa-2df5-4272-8f75-7c503ef89a14",
   "metadata": {
    "execution": {
     "iopub.execute_input": "2022-05-17T14:18:31.369651Z",
     "iopub.status.busy": "2022-05-17T14:18:31.369127Z",
     "iopub.status.idle": "2022-05-17T14:18:31.382342Z",
     "shell.execute_reply": "2022-05-17T14:18:31.381572Z",
     "shell.execute_reply.started": "2022-05-17T14:18:31.369598Z"
    },
    "tags": []
   },
   "outputs": [
    {
     "data": {
      "text/plain": [
       "(10, 273, 273, 3)"
      ]
     },
     "execution_count": 79,
     "metadata": {},
     "output_type": "execute_result"
    }
   ],
   "source": [
    "X_nn_array = np.array(X_nn)\n",
    "X_nn_array.shape"
   ]
  },
  {
   "cell_type": "code",
   "execution_count": 86,
   "id": "2b4aa8fb-ccc5-4124-94e1-a2fa2e805715",
   "metadata": {
    "execution": {
     "iopub.execute_input": "2022-05-17T14:26:23.876633Z",
     "iopub.status.busy": "2022-05-17T14:26:23.876117Z",
     "iopub.status.idle": "2022-05-17T14:26:23.883291Z",
     "shell.execute_reply": "2022-05-17T14:26:23.882115Z",
     "shell.execute_reply.started": "2022-05-17T14:26:23.876585Z"
    },
    "tags": []
   },
   "outputs": [],
   "source": [
    "# Save array\n",
    "outpath = os.path.join(\"..\", \"in\", \"image_array.npy\")\n",
    "# save to csv file\n",
    "# savetxt(outpath, X_nn_array, delimiter=',')"
   ]
  },
  {
   "cell_type": "code",
   "execution_count": 87,
   "id": "d685f030-d734-46d8-9548-ac4551fdde21",
   "metadata": {
    "execution": {
     "iopub.execute_input": "2022-05-17T14:26:26.544536Z",
     "iopub.status.busy": "2022-05-17T14:26:26.544016Z",
     "iopub.status.idle": "2022-05-17T14:26:26.701202Z",
     "shell.execute_reply": "2022-05-17T14:26:26.700289Z",
     "shell.execute_reply.started": "2022-05-17T14:26:26.544486Z"
    },
    "tags": []
   },
   "outputs": [],
   "source": [
    "np.save(outpath, X_nn_array)"
   ]
  },
  {
   "cell_type": "code",
   "execution_count": 88,
   "id": "9f2af65b-47b2-4a51-b579-a6b8f288ec1d",
   "metadata": {
    "execution": {
     "iopub.execute_input": "2022-05-17T14:26:54.477702Z",
     "iopub.status.busy": "2022-05-17T14:26:54.477183Z",
     "iopub.status.idle": "2022-05-17T14:26:54.496837Z",
     "shell.execute_reply": "2022-05-17T14:26:54.495684Z",
     "shell.execute_reply.started": "2022-05-17T14:26:54.477652Z"
    }
   },
   "outputs": [],
   "source": [
    "loaded_array = np.load(outpath)"
   ]
  },
  {
   "cell_type": "code",
   "execution_count": 89,
   "id": "8a1d22f1-4845-4bcc-b6c2-9f1ffece8e1a",
   "metadata": {
    "execution": {
     "iopub.execute_input": "2022-05-17T14:27:01.625568Z",
     "iopub.status.busy": "2022-05-17T14:27:01.625050Z",
     "iopub.status.idle": "2022-05-17T14:27:01.633937Z",
     "shell.execute_reply": "2022-05-17T14:27:01.633024Z",
     "shell.execute_reply.started": "2022-05-17T14:27:01.625518Z"
    }
   },
   "outputs": [
    {
     "data": {
      "text/plain": [
       "(10, 273, 273, 3)"
      ]
     },
     "execution_count": 89,
     "metadata": {},
     "output_type": "execute_result"
    }
   ],
   "source": [
    "loaded_array.shape"
   ]
  },
  {
   "cell_type": "markdown",
   "id": "fe7073f8-be42-40fa-94c7-4fb43fcd7267",
   "metadata": {},
   "source": [
    "### Write functions "
   ]
  },
  {
   "cell_type": "markdown",
   "id": "b7ca4eff-2e54-486c-83cf-d33a1d198da6",
   "metadata": {},
   "source": [
    "Loading data "
   ]
  },
  {
   "cell_type": "code",
   "execution_count": 124,
   "id": "9ed46be7-a241-4600-bb68-03f13e2be53c",
   "metadata": {
    "execution": {
     "iopub.execute_input": "2022-05-17T20:34:30.137930Z",
     "iopub.status.busy": "2022-05-17T20:34:30.137412Z",
     "iopub.status.idle": "2022-05-17T20:34:30.147863Z",
     "shell.execute_reply": "2022-05-17T20:34:30.146860Z",
     "shell.execute_reply.started": "2022-05-17T20:34:30.137879Z"
    },
    "tags": []
   },
   "outputs": [],
   "source": [
    "def load_y():\n",
    "    # > Load test labels\n",
    "    # Get the filepath\n",
    "    filepath_test = os.path.join(\"..\", \"in\", \"annotation\", \"test.txt\")\n",
    "    # Load data\n",
    "    y_test = pd.read_csv(filepath_test, header=None, names = (\"filename\", \"category\"))\n",
    "    \n",
    "    # > Load training labels\n",
    "    # Get the filepath\n",
    "    filepath_train = os.path.join(\"..\", \"in\", \"annotation\", \"train.txt\")\n",
    "    # Load data\n",
    "    y_train = pd.read_csv(filepath_train, header=None, names = (\"filename\", \"category\"))\n",
    "    \n",
    "    # Combine data \n",
    "    y = pd.concat([y_train, y_test], axis=0)\n",
    "    \n",
    "    return y"
   ]
  },
  {
   "cell_type": "code",
   "execution_count": 29,
   "id": "eec96699-c558-4fe4-8c29-7084c2ae2e93",
   "metadata": {
    "execution": {
     "iopub.execute_input": "2022-05-17T16:57:48.581039Z",
     "iopub.status.busy": "2022-05-17T16:57:48.580492Z",
     "iopub.status.idle": "2022-05-17T16:57:48.619543Z",
     "shell.execute_reply": "2022-05-17T16:57:48.618704Z",
     "shell.execute_reply.started": "2022-05-17T16:57:48.580984Z"
    },
    "tags": []
   },
   "outputs": [],
   "source": [
    "y = load_y()"
   ]
  },
  {
   "cell_type": "code",
   "execution_count": 30,
   "id": "10ff14df-c547-49e8-b44a-e6968626388a",
   "metadata": {
    "execution": {
     "iopub.execute_input": "2022-05-17T16:57:50.246758Z",
     "iopub.status.busy": "2022-05-17T16:57:50.246231Z",
     "iopub.status.idle": "2022-05-17T16:57:50.260478Z",
     "shell.execute_reply": "2022-05-17T16:57:50.259519Z",
     "shell.execute_reply.started": "2022-05-17T16:57:50.246707Z"
    },
    "tags": []
   },
   "outputs": [
    {
     "data": {
      "text/html": [
       "<div>\n",
       "<style scoped>\n",
       "    .dataframe tbody tr th:only-of-type {\n",
       "        vertical-align: middle;\n",
       "    }\n",
       "\n",
       "    .dataframe tbody tr th {\n",
       "        vertical-align: top;\n",
       "    }\n",
       "\n",
       "    .dataframe thead th {\n",
       "        text-align: right;\n",
       "    }\n",
       "</style>\n",
       "<table border=\"1\" class=\"dataframe\">\n",
       "  <thead>\n",
       "    <tr style=\"text-align: right;\">\n",
       "      <th></th>\n",
       "      <th>filename</th>\n",
       "      <th>category</th>\n",
       "    </tr>\n",
       "  </thead>\n",
       "  <tbody>\n",
       "    <tr>\n",
       "      <th>0</th>\n",
       "      <td>2014_06909662-Figure5-1subFig-2.png</td>\n",
       "      <td>3D objects</td>\n",
       "    </tr>\n",
       "    <tr>\n",
       "      <th>1</th>\n",
       "      <td>2013_06619122-Figure3-1subFig-2.png</td>\n",
       "      <td>3D objects</td>\n",
       "    </tr>\n",
       "    <tr>\n",
       "      <th>2</th>\n",
       "      <td>2015_07298623-Figure4-1subFig-3.png</td>\n",
       "      <td>3D objects</td>\n",
       "    </tr>\n",
       "  </tbody>\n",
       "</table>\n",
       "</div>"
      ],
      "text/plain": [
       "                              filename     category\n",
       "0  2014_06909662-Figure5-1subFig-2.png   3D objects\n",
       "1  2013_06619122-Figure3-1subFig-2.png   3D objects\n",
       "2  2015_07298623-Figure4-1subFig-3.png   3D objects"
      ]
     },
     "execution_count": 30,
     "metadata": {},
     "output_type": "execute_result"
    }
   ],
   "source": [
    "y[:3]"
   ]
  },
  {
   "cell_type": "markdown",
   "id": "273ac278-282f-41cb-9849-8d238aa41ccc",
   "metadata": {},
   "source": [
    "Cleaning y data"
   ]
  },
  {
   "cell_type": "code",
   "execution_count": 128,
   "id": "299d6e8c-9e87-4389-a3be-692a6591eade",
   "metadata": {
    "execution": {
     "iopub.execute_input": "2022-05-17T20:35:08.089504Z",
     "iopub.status.busy": "2022-05-17T20:35:08.088967Z",
     "iopub.status.idle": "2022-05-17T20:35:08.099299Z",
     "shell.execute_reply": "2022-05-17T20:35:08.098473Z",
     "shell.execute_reply.started": "2022-05-17T20:35:08.089452Z"
    },
    "tags": []
   },
   "outputs": [],
   "source": [
    "def clean_y(y):\n",
    "    # Removing duplicates\n",
    "    y_rm_dup = y.drop_duplicates(subset=[\"filename\"])  \n",
    "\n",
    "    # > Remove GIF files from dataframe\n",
    "    # identify partial string\n",
    "    discard = [\".GIF\"]\n",
    "  \n",
    "    # drop rows that contain the partial string \"Sci\"\n",
    "    y_no_gif = y_rm_dup[~y_rm_dup.filename.str.contains('|'.join(discard))]\n",
    "\n",
    "    # > Remiving data that for some reason turned out to be problematic\n",
    "    # defining list\n",
    "    problematic = [\"gMap_256.jpg\", \n",
    "                   \"gMap_549.jpg\", \n",
    "                   \"gMap_559.jpg\", \n",
    "                   \"gMap_724.jpeg\", \n",
    "                   \"gMap_725.jpeg\", \n",
    "                   \"gMap_726.jpeg\",  \n",
    "                   \"gMap_727.jpeg\",\n",
    "                   \"surfaceP_8.png\"]\n",
    "    # Remove rows\n",
    "    y_clean = y_no_gif[~y_no_gif.filename.isin(problematic)]\n",
    "    \n",
    "    return y_clean"
   ]
  },
  {
   "cell_type": "code",
   "execution_count": 32,
   "id": "7cfcddf5-469b-48ca-8f11-7f388333888b",
   "metadata": {
    "execution": {
     "iopub.execute_input": "2022-05-17T16:57:57.487921Z",
     "iopub.status.busy": "2022-05-17T16:57:57.487236Z",
     "iopub.status.idle": "2022-05-17T16:57:57.534780Z",
     "shell.execute_reply": "2022-05-17T16:57:57.534109Z",
     "shell.execute_reply.started": "2022-05-17T16:57:57.487864Z"
    },
    "tags": []
   },
   "outputs": [],
   "source": [
    "y_clean = clean_y(y)"
   ]
  },
  {
   "cell_type": "code",
   "execution_count": 33,
   "id": "c96528d8-ecba-4690-9602-82575feddff0",
   "metadata": {
    "execution": {
     "iopub.execute_input": "2022-05-17T16:58:02.297050Z",
     "iopub.status.busy": "2022-05-17T16:58:02.296507Z",
     "iopub.status.idle": "2022-05-17T16:58:02.305734Z",
     "shell.execute_reply": "2022-05-17T16:58:02.304596Z",
     "shell.execute_reply.started": "2022-05-17T16:58:02.296995Z"
    },
    "tags": []
   },
   "outputs": [
    {
     "data": {
      "text/plain": [
       "32968"
      ]
     },
     "execution_count": 33,
     "metadata": {},
     "output_type": "execute_result"
    }
   ],
   "source": [
    "len(y)"
   ]
  },
  {
   "cell_type": "code",
   "execution_count": 34,
   "id": "d1b466c7-5fd9-4acd-8e9c-7178fb884654",
   "metadata": {
    "execution": {
     "iopub.execute_input": "2022-05-17T16:58:11.334650Z",
     "iopub.status.busy": "2022-05-17T16:58:11.334102Z",
     "iopub.status.idle": "2022-05-17T16:58:11.348596Z",
     "shell.execute_reply": "2022-05-17T16:58:11.347961Z",
     "shell.execute_reply.started": "2022-05-17T16:58:11.334597Z"
    }
   },
   "outputs": [
    {
     "data": {
      "text/html": [
       "<div>\n",
       "<style scoped>\n",
       "    .dataframe tbody tr th:only-of-type {\n",
       "        vertical-align: middle;\n",
       "    }\n",
       "\n",
       "    .dataframe tbody tr th {\n",
       "        vertical-align: top;\n",
       "    }\n",
       "\n",
       "    .dataframe thead th {\n",
       "        text-align: right;\n",
       "    }\n",
       "</style>\n",
       "<table border=\"1\" class=\"dataframe\">\n",
       "  <thead>\n",
       "    <tr style=\"text-align: right;\">\n",
       "      <th></th>\n",
       "      <th>filename</th>\n",
       "      <th>category</th>\n",
       "    </tr>\n",
       "  </thead>\n",
       "  <tbody>\n",
       "    <tr>\n",
       "      <th>0</th>\n",
       "      <td>2014_06909662-Figure5-1subFig-2.png</td>\n",
       "      <td>3D objects</td>\n",
       "    </tr>\n",
       "    <tr>\n",
       "      <th>1</th>\n",
       "      <td>2013_06619122-Figure3-1subFig-2.png</td>\n",
       "      <td>3D objects</td>\n",
       "    </tr>\n",
       "    <tr>\n",
       "      <th>2</th>\n",
       "      <td>2015_07298623-Figure4-1subFig-3.png</td>\n",
       "      <td>3D objects</td>\n",
       "    </tr>\n",
       "    <tr>\n",
       "      <th>3</th>\n",
       "      <td>2015_07298623-Figure4-1subFig-2.png</td>\n",
       "      <td>3D objects</td>\n",
       "    </tr>\n",
       "    <tr>\n",
       "      <th>4</th>\n",
       "      <td>2015_07299029-Figure12-1subFig-6.png</td>\n",
       "      <td>3D objects</td>\n",
       "    </tr>\n",
       "  </tbody>\n",
       "</table>\n",
       "</div>"
      ],
      "text/plain": [
       "                               filename     category\n",
       "0   2014_06909662-Figure5-1subFig-2.png   3D objects\n",
       "1   2013_06619122-Figure3-1subFig-2.png   3D objects\n",
       "2   2015_07298623-Figure4-1subFig-3.png   3D objects\n",
       "3   2015_07298623-Figure4-1subFig-2.png   3D objects\n",
       "4  2015_07299029-Figure12-1subFig-6.png   3D objects"
      ]
     },
     "execution_count": 34,
     "metadata": {},
     "output_type": "execute_result"
    }
   ],
   "source": [
    "y_clean.head()"
   ]
  },
  {
   "cell_type": "code",
   "execution_count": 21,
   "id": "c02beab9-b55e-47ad-8873-3fdfcd8a948f",
   "metadata": {
    "execution": {
     "iopub.execute_input": "2022-05-17T16:44:32.926495Z",
     "iopub.status.busy": "2022-05-17T16:44:32.925924Z",
     "iopub.status.idle": "2022-05-17T16:44:32.935808Z",
     "shell.execute_reply": "2022-05-17T16:44:32.934401Z",
     "shell.execute_reply.started": "2022-05-17T16:44:32.926438Z"
    },
    "tags": []
   },
   "outputs": [
    {
     "data": {
      "text/plain": [
       "744.7015645438858"
      ]
     },
     "execution_count": 21,
     "metadata": {},
     "output_type": "execute_result"
    }
   ],
   "source": [
    "sd*3"
   ]
  },
  {
   "cell_type": "markdown",
   "id": "f6ed3aa9-b0d1-42d4-866e-645f612ca74c",
   "metadata": {},
   "source": [
    "Remove outliers "
   ]
  },
  {
   "cell_type": "code",
   "execution_count": 41,
   "id": "0b1a1286-c721-4f3d-930e-22e5f090397c",
   "metadata": {
    "execution": {
     "iopub.execute_input": "2022-05-17T17:01:17.123279Z",
     "iopub.status.busy": "2022-05-17T17:01:17.122751Z",
     "iopub.status.idle": "2022-05-17T17:01:17.131145Z",
     "shell.execute_reply": "2022-05-17T17:01:17.130272Z",
     "shell.execute_reply.started": "2022-05-17T17:01:17.123229Z"
    },
    "tags": []
   },
   "outputs": [],
   "source": [
    "def rem_outliers(y, median = 210, window = 745):\n",
    "    # The 'median' argument is the median of the image heights \n",
    "    # the 'window' argument is the standatd deviation of the image heoghts times 3\n",
    "    \n",
    "    # Find outliers\n",
    "    outliers = sizes.loc[abs(sizes[\"height\"] - median) >= window]\n",
    "    \n",
    "    # Remove rows \n",
    "    outliers_removed = y[~y.filename.isin(outliers[\"filename\"])]\n",
    "    \n",
    "    return outliers_removed"
   ]
  },
  {
   "cell_type": "code",
   "execution_count": 42,
   "id": "8dace7cc-19a3-4a50-8284-088c9934c32f",
   "metadata": {
    "execution": {
     "iopub.execute_input": "2022-05-17T17:01:17.738680Z",
     "iopub.status.busy": "2022-05-17T17:01:17.738217Z",
     "iopub.status.idle": "2022-05-17T17:01:17.754310Z",
     "shell.execute_reply": "2022-05-17T17:01:17.753350Z",
     "shell.execute_reply.started": "2022-05-17T17:01:17.738631Z"
    },
    "tags": []
   },
   "outputs": [],
   "source": [
    "rem_y = rem_outliers(y_clean)"
   ]
  },
  {
   "cell_type": "code",
   "execution_count": 44,
   "id": "a263dade-9e2d-48ba-8a4a-ebe80c60c4cb",
   "metadata": {
    "execution": {
     "iopub.execute_input": "2022-05-17T17:01:40.430563Z",
     "iopub.status.busy": "2022-05-17T17:01:40.430011Z",
     "iopub.status.idle": "2022-05-17T17:01:40.444643Z",
     "shell.execute_reply": "2022-05-17T17:01:40.443984Z",
     "shell.execute_reply.started": "2022-05-17T17:01:40.430510Z"
    },
    "tags": []
   },
   "outputs": [
    {
     "data": {
      "text/html": [
       "<div>\n",
       "<style scoped>\n",
       "    .dataframe tbody tr th:only-of-type {\n",
       "        vertical-align: middle;\n",
       "    }\n",
       "\n",
       "    .dataframe tbody tr th {\n",
       "        vertical-align: top;\n",
       "    }\n",
       "\n",
       "    .dataframe thead th {\n",
       "        text-align: right;\n",
       "    }\n",
       "</style>\n",
       "<table border=\"1\" class=\"dataframe\">\n",
       "  <thead>\n",
       "    <tr style=\"text-align: right;\">\n",
       "      <th></th>\n",
       "      <th>filename</th>\n",
       "      <th>category</th>\n",
       "    </tr>\n",
       "  </thead>\n",
       "  <tbody>\n",
       "    <tr>\n",
       "      <th>0</th>\n",
       "      <td>2014_06909662-Figure5-1subFig-2.png</td>\n",
       "      <td>3D objects</td>\n",
       "    </tr>\n",
       "    <tr>\n",
       "      <th>1</th>\n",
       "      <td>2013_06619122-Figure3-1subFig-2.png</td>\n",
       "      <td>3D objects</td>\n",
       "    </tr>\n",
       "    <tr>\n",
       "      <th>2</th>\n",
       "      <td>2015_07298623-Figure4-1subFig-3.png</td>\n",
       "      <td>3D objects</td>\n",
       "    </tr>\n",
       "    <tr>\n",
       "      <th>3</th>\n",
       "      <td>2015_07298623-Figure4-1subFig-2.png</td>\n",
       "      <td>3D objects</td>\n",
       "    </tr>\n",
       "    <tr>\n",
       "      <th>4</th>\n",
       "      <td>2015_07299029-Figure12-1subFig-6.png</td>\n",
       "      <td>3D objects</td>\n",
       "    </tr>\n",
       "  </tbody>\n",
       "</table>\n",
       "</div>"
      ],
      "text/plain": [
       "                               filename     category\n",
       "0   2014_06909662-Figure5-1subFig-2.png   3D objects\n",
       "1   2013_06619122-Figure3-1subFig-2.png   3D objects\n",
       "2   2015_07298623-Figure4-1subFig-3.png   3D objects\n",
       "3   2015_07298623-Figure4-1subFig-2.png   3D objects\n",
       "4  2015_07299029-Figure12-1subFig-6.png   3D objects"
      ]
     },
     "execution_count": 44,
     "metadata": {},
     "output_type": "execute_result"
    }
   ],
   "source": [
    "rem_y.head()"
   ]
  },
  {
   "cell_type": "code",
   "execution_count": 46,
   "id": "50056e8d-043f-4583-9133-9d436ec3b17c",
   "metadata": {
    "execution": {
     "iopub.execute_input": "2022-05-17T17:01:49.500953Z",
     "iopub.status.busy": "2022-05-17T17:01:49.500262Z",
     "iopub.status.idle": "2022-05-17T17:01:49.509053Z",
     "shell.execute_reply": "2022-05-17T17:01:49.508212Z",
     "shell.execute_reply.started": "2022-05-17T17:01:49.500899Z"
    },
    "tags": []
   },
   "outputs": [
    {
     "data": {
      "text/plain": [
       "32945"
      ]
     },
     "execution_count": 46,
     "metadata": {},
     "output_type": "execute_result"
    }
   ],
   "source": [
    "len(y_clean)"
   ]
  },
  {
   "cell_type": "code",
   "execution_count": 60,
   "id": "01ac365f-784d-4394-b95c-e903f1986252",
   "metadata": {
    "execution": {
     "iopub.execute_input": "2022-05-17T17:16:29.461346Z",
     "iopub.status.busy": "2022-05-17T17:16:29.460789Z",
     "iopub.status.idle": "2022-05-17T17:16:29.469723Z",
     "shell.execute_reply": "2022-05-17T17:16:29.468831Z",
     "shell.execute_reply.started": "2022-05-17T17:16:29.461292Z"
    },
    "tags": []
   },
   "outputs": [
    {
     "data": {
      "text/plain": [
       "32253"
      ]
     },
     "execution_count": 60,
     "metadata": {},
     "output_type": "execute_result"
    }
   ],
   "source": [
    "len(rem_y)"
   ]
  },
  {
   "cell_type": "markdown",
   "id": "59388ae9-60a5-434d-a400-fcde38915755",
   "metadata": {},
   "source": [
    "reshape files "
   ]
  },
  {
   "cell_type": "code",
   "execution_count": 104,
   "id": "213346c9-5a7e-4cc7-98e8-34d179ec989c",
   "metadata": {
    "execution": {
     "iopub.execute_input": "2022-05-17T18:15:34.253244Z",
     "iopub.status.busy": "2022-05-17T18:15:34.252707Z",
     "iopub.status.idle": "2022-05-17T18:15:34.268477Z",
     "shell.execute_reply": "2022-05-17T18:15:34.267788Z",
     "shell.execute_reply.started": "2022-05-17T18:15:34.253193Z"
    },
    "tags": []
   },
   "outputs": [],
   "source": [
    "def reshape_data(y, median = 210):\n",
    "    # Define list of filenames\n",
    "    y_filenames = sorted(y[\"filename\"][:10].tolist())\n",
    "    # Define empthy list\n",
    "    X_logistic = []\n",
    "    X_nn = []\n",
    "\n",
    "    # Iterate through files\n",
    "    for file in tqdm(y_filenames[:10]):\n",
    "        # Get filepath\n",
    "        filepath = os.path.join(\"..\", \"in\", \"images\", file)\n",
    "        # Load image\n",
    "        image = cv2.imread(filepath)\n",
    "    \n",
    "        # > Create data for neural network \n",
    "        # Resize images\n",
    "        resized_color = cv2.resize(image, (int(median), int(median)), interpolation=cv2.INTER_AREA)\n",
    "        # Append array to list \n",
    "        X_nn.append(img_to_array(resized_color))\n",
    "    \n",
    "        # > Create dataset for logistic regression\n",
    "        # Convert to greyscale\n",
    "        gray = cv2.bitwise_not(cv2.cvtColor(image, cv2.COLOR_BGR2GRAY))\n",
    "        # Resize image\n",
    "        compressed_gray = cv2.resize(gray, (int(median), int(median)), interpolation=cv2.INTER_AREA)\n",
    "        # Flatten image and append to list \n",
    "        X_logistic.append(compressed_gray.flatten())\n",
    "    \n",
    "    # Convert logistic regression data to dataframe\n",
    "    X_logistic_df = pd.DataFrame(X_logistic)\n",
    "    # Convert neural network data to array \n",
    "    X_nn_array = np.array(X_nn)\n",
    "    # Factorize y \n",
    "    y_array = np.array(pd.factorize(rem_y['category'])[0])\n",
    "    # Reshape y \n",
    "    y_reshape = np.reshape(y_array, (len(y_array),1))\n",
    "    # Get label names \n",
    "    label_names = list(pd.factorize(rem_y['category'])[1])\n",
    "    # Convert to dataframe for saving\n",
    "    label_names_df = pd.DataFrame(label_names, columns =[\"labels\"])\n",
    "    \n",
    "    return X_logistic_df, X_nn_array, y_reshape, label_names_df"
   ]
  },
  {
   "cell_type": "code",
   "execution_count": 105,
   "id": "eefaced7-ff61-4d86-9fa3-9177a78b5269",
   "metadata": {
    "execution": {
     "iopub.execute_input": "2022-05-17T18:15:35.251994Z",
     "iopub.status.busy": "2022-05-17T18:15:35.251519Z",
     "iopub.status.idle": "2022-05-17T18:15:36.199256Z",
     "shell.execute_reply": "2022-05-17T18:15:36.198635Z",
     "shell.execute_reply.started": "2022-05-17T18:15:35.251945Z"
    },
    "tags": []
   },
   "outputs": [
    {
     "name": "stderr",
     "output_type": "stream",
     "text": [
      "100%|██████████| 10/10 [00:00<00:00, 519.44it/s]\n"
     ]
    }
   ],
   "source": [
    "X_logistic, X_nn, y_array, label_names = reshape_data(y, median)"
   ]
  },
  {
   "cell_type": "code",
   "execution_count": 103,
   "id": "8aa5d298-84c4-4aaf-9a33-0b9821580515",
   "metadata": {
    "execution": {
     "iopub.execute_input": "2022-05-17T18:15:26.686686Z",
     "iopub.status.busy": "2022-05-17T18:15:26.685973Z",
     "iopub.status.idle": "2022-05-17T18:15:26.695319Z",
     "shell.execute_reply": "2022-05-17T18:15:26.694172Z",
     "shell.execute_reply.started": "2022-05-17T18:15:26.686631Z"
    },
    "tags": []
   },
   "outputs": [
    {
     "data": {
      "text/plain": [
       "pandas.core.frame.DataFrame"
      ]
     },
     "execution_count": 103,
     "metadata": {},
     "output_type": "execute_result"
    }
   ],
   "source": [
    "type(X_logistic)"
   ]
  },
  {
   "cell_type": "code",
   "execution_count": 108,
   "id": "8dd29353-5fa3-448c-a57b-cebf96b7bc3e",
   "metadata": {
    "execution": {
     "iopub.execute_input": "2022-05-17T18:16:16.385347Z",
     "iopub.status.busy": "2022-05-17T18:16:16.384802Z",
     "iopub.status.idle": "2022-05-17T18:16:16.398193Z",
     "shell.execute_reply": "2022-05-17T18:16:16.397338Z",
     "shell.execute_reply.started": "2022-05-17T18:16:16.385294Z"
    },
    "tags": []
   },
   "outputs": [
    {
     "data": {
      "text/html": [
       "<div>\n",
       "<style scoped>\n",
       "    .dataframe tbody tr th:only-of-type {\n",
       "        vertical-align: middle;\n",
       "    }\n",
       "\n",
       "    .dataframe tbody tr th {\n",
       "        vertical-align: top;\n",
       "    }\n",
       "\n",
       "    .dataframe thead th {\n",
       "        text-align: right;\n",
       "    }\n",
       "</style>\n",
       "<table border=\"1\" class=\"dataframe\">\n",
       "  <thead>\n",
       "    <tr style=\"text-align: right;\">\n",
       "      <th></th>\n",
       "      <th>labels</th>\n",
       "    </tr>\n",
       "  </thead>\n",
       "  <tbody>\n",
       "    <tr>\n",
       "      <th>0</th>\n",
       "      <td>3D objects</td>\n",
       "    </tr>\n",
       "    <tr>\n",
       "      <th>1</th>\n",
       "      <td>Algorithm</td>\n",
       "    </tr>\n",
       "    <tr>\n",
       "      <th>2</th>\n",
       "      <td>Area chart</td>\n",
       "    </tr>\n",
       "    <tr>\n",
       "      <th>3</th>\n",
       "      <td>Bar plots</td>\n",
       "    </tr>\n",
       "    <tr>\n",
       "      <th>4</th>\n",
       "      <td>Block diagram</td>\n",
       "    </tr>\n",
       "  </tbody>\n",
       "</table>\n",
       "</div>"
      ],
      "text/plain": [
       "           labels\n",
       "0      3D objects\n",
       "1       Algorithm\n",
       "2      Area chart\n",
       "3       Bar plots\n",
       "4   Block diagram"
      ]
     },
     "execution_count": 108,
     "metadata": {},
     "output_type": "execute_result"
    }
   ],
   "source": [
    "label_names.head()"
   ]
  },
  {
   "cell_type": "code",
   "execution_count": 77,
   "id": "e5fa55c9-25b8-4c43-8ca5-f3c44317c8c6",
   "metadata": {
    "execution": {
     "iopub.execute_input": "2022-05-17T17:50:26.196562Z",
     "iopub.status.busy": "2022-05-17T17:50:26.196022Z",
     "iopub.status.idle": "2022-05-17T17:50:26.206380Z",
     "shell.execute_reply": "2022-05-17T17:50:26.205025Z",
     "shell.execute_reply.started": "2022-05-17T17:50:26.196509Z"
    },
    "tags": []
   },
   "outputs": [
    {
     "data": {
      "text/plain": [
       "(10, 44100)"
      ]
     },
     "execution_count": 77,
     "metadata": {},
     "output_type": "execute_result"
    }
   ],
   "source": [
    "X_logistic.shape"
   ]
  },
  {
   "cell_type": "code",
   "execution_count": 78,
   "id": "de919171-63e4-46d3-8c4d-7139b9ff1393",
   "metadata": {
    "execution": {
     "iopub.execute_input": "2022-05-17T17:50:34.841927Z",
     "iopub.status.busy": "2022-05-17T17:50:34.841401Z",
     "iopub.status.idle": "2022-05-17T17:50:34.851145Z",
     "shell.execute_reply": "2022-05-17T17:50:34.849968Z",
     "shell.execute_reply.started": "2022-05-17T17:50:34.841873Z"
    }
   },
   "outputs": [
    {
     "data": {
      "text/plain": [
       "numpy.ndarray"
      ]
     },
     "execution_count": 78,
     "metadata": {},
     "output_type": "execute_result"
    }
   ],
   "source": [
    "type(X_nn)"
   ]
  },
  {
   "cell_type": "code",
   "execution_count": 80,
   "id": "a880d6f3-9996-47c7-8504-b2216212bd3f",
   "metadata": {
    "execution": {
     "iopub.execute_input": "2022-05-17T17:50:58.524178Z",
     "iopub.status.busy": "2022-05-17T17:50:58.523647Z",
     "iopub.status.idle": "2022-05-17T17:50:58.532646Z",
     "shell.execute_reply": "2022-05-17T17:50:58.531755Z",
     "shell.execute_reply.started": "2022-05-17T17:50:58.524110Z"
    },
    "tags": []
   },
   "outputs": [
    {
     "data": {
      "text/plain": [
       "(10, 210, 210, 3)"
      ]
     },
     "execution_count": 80,
     "metadata": {},
     "output_type": "execute_result"
    }
   ],
   "source": [
    "X_nn.shape"
   ]
  },
  {
   "cell_type": "code",
   "execution_count": 71,
   "id": "798123bb-e542-4a44-a48b-280cbaca9175",
   "metadata": {
    "execution": {
     "iopub.execute_input": "2022-05-17T17:49:13.064971Z",
     "iopub.status.busy": "2022-05-17T17:49:13.064444Z",
     "iopub.status.idle": "2022-05-17T17:49:13.073586Z",
     "shell.execute_reply": "2022-05-17T17:49:13.072488Z",
     "shell.execute_reply.started": "2022-05-17T17:49:13.064918Z"
    },
    "tags": []
   },
   "outputs": [
    {
     "data": {
      "text/plain": [
       "numpy.ndarray"
      ]
     },
     "execution_count": 71,
     "metadata": {},
     "output_type": "execute_result"
    }
   ],
   "source": [
    "type(y_array)"
   ]
  },
  {
   "cell_type": "code",
   "execution_count": 72,
   "id": "5cdeec85-2afb-4a12-9818-8e2344248384",
   "metadata": {
    "execution": {
     "iopub.execute_input": "2022-05-17T17:49:14.427546Z",
     "iopub.status.busy": "2022-05-17T17:49:14.427021Z",
     "iopub.status.idle": "2022-05-17T17:49:14.436064Z",
     "shell.execute_reply": "2022-05-17T17:49:14.434913Z",
     "shell.execute_reply.started": "2022-05-17T17:49:14.427496Z"
    },
    "tags": []
   },
   "outputs": [
    {
     "data": {
      "text/plain": [
       "(32253, 1)"
      ]
     },
     "execution_count": 72,
     "metadata": {},
     "output_type": "execute_result"
    }
   ],
   "source": [
    "y_array.shape"
   ]
  },
  {
   "cell_type": "code",
   "execution_count": 82,
   "id": "81c1af67-0965-4a94-b674-e12b7a76b2ca",
   "metadata": {
    "execution": {
     "iopub.execute_input": "2022-05-17T17:51:20.072432Z",
     "iopub.status.busy": "2022-05-17T17:51:20.071890Z",
     "iopub.status.idle": "2022-05-17T17:51:20.081383Z",
     "shell.execute_reply": "2022-05-17T17:51:20.080297Z",
     "shell.execute_reply.started": "2022-05-17T17:51:20.072379Z"
    },
    "tags": []
   },
   "outputs": [
    {
     "data": {
      "text/plain": [
       "array([[0],\n",
       "       [0],\n",
       "       [0],\n",
       "       [0],\n",
       "       [0],\n",
       "       [0],\n",
       "       [0],\n",
       "       [0],\n",
       "       [0],\n",
       "       [0]])"
      ]
     },
     "execution_count": 82,
     "metadata": {},
     "output_type": "execute_result"
    }
   ],
   "source": [
    "y_array[0:10]"
   ]
  },
  {
   "cell_type": "markdown",
   "id": "05f7e418-12bd-4965-b5cf-b4c78d6dad92",
   "metadata": {},
   "source": [
    "Save data"
   ]
  },
  {
   "cell_type": "code",
   "execution_count": 109,
   "id": "6948bb42-1e91-45ac-9bde-f9bc6c20defe",
   "metadata": {
    "execution": {
     "iopub.execute_input": "2022-05-17T18:17:31.846815Z",
     "iopub.status.busy": "2022-05-17T18:17:31.846291Z",
     "iopub.status.idle": "2022-05-17T18:17:31.857431Z",
     "shell.execute_reply": "2022-05-17T18:17:31.856668Z",
     "shell.execute_reply.started": "2022-05-17T18:17:31.846764Z"
    },
    "tags": []
   },
   "outputs": [],
   "source": [
    "def save(X_logistic, X_nn, y_array, label_names):\n",
    "    # > Save logistic regression data\n",
    "    # Get outpath \n",
    "    outpath_lr = os.path.join(\"..\", \"in\", \"processed_data\", \"lr_data.csv\")\n",
    "    # Save data\n",
    "    X_logistic.to_csv(outpath_lr, index=False)\n",
    "    \n",
    "    # > Save neural network data \n",
    "    # Get outpath\n",
    "    outpath_nn = os.path.join(\"..\", \"in\", \"processed_data\", \"nn_data.npy\")\n",
    "    # Save to npy file\n",
    "    np.save(outpath_nn, X_nn)\n",
    "    \n",
    "    # > Save label data\n",
    "    outpath_y = os.path.join(\"..\", \"in\", \"processed_data\", \"y_data.npy\")\n",
    "    # Save to npy file\n",
    "    np.save(outpath_y, y_array)\n",
    "    \n",
    "    # Save label names \n",
    "    outpath_labels = os.path.join(\"..\", \"in\", \"processed_data\", \"label_names.csv\")\n",
    "    # Save to csv file\n",
    "    label_names.to_csv(outpath_labels, index=False)"
   ]
  },
  {
   "cell_type": "code",
   "execution_count": 110,
   "id": "cc3f1796-405b-41c7-858f-4e39c15c5592",
   "metadata": {
    "execution": {
     "iopub.execute_input": "2022-05-17T18:17:50.081662Z",
     "iopub.status.busy": "2022-05-17T18:17:50.080981Z",
     "iopub.status.idle": "2022-05-17T18:17:50.509600Z",
     "shell.execute_reply": "2022-05-17T18:17:50.508987Z",
     "shell.execute_reply.started": "2022-05-17T18:17:50.081607Z"
    }
   },
   "outputs": [],
   "source": [
    "save(X_logistic, X_nn, y_array, label_names)"
   ]
  },
  {
   "cell_type": "code",
   "execution_count": 84,
   "id": "a4cf5a95-1737-4f2d-94f0-72157d48140d",
   "metadata": {
    "execution": {
     "iopub.execute_input": "2022-05-17T17:58:38.660952Z",
     "iopub.status.busy": "2022-05-17T17:58:38.660440Z",
     "iopub.status.idle": "2022-05-17T17:58:38.666955Z",
     "shell.execute_reply": "2022-05-17T17:58:38.665756Z",
     "shell.execute_reply.started": "2022-05-17T17:58:38.660903Z"
    },
    "tags": []
   },
   "outputs": [],
   "source": [
    "# Save array\n",
    "# outpath = os.path.join(\"..\", \"in\", \"image_array.npy\")\n",
    "# save to csv file\n",
    "# savetxt(outpath, X_nn_array, delimiter=',')"
   ]
  },
  {
   "cell_type": "code",
   "execution_count": null,
   "id": "956cbc0d-dbf9-41ce-81ec-cd4d5a1a6811",
   "metadata": {},
   "outputs": [],
   "source": [
    "outpath = os.path.join(\"..\", \"in\", \"processed_data\", \"imag.npy\")\n",
    "# save to csv file\n",
    "savetxt(outpath, X_nn_array, delimiter=',')"
   ]
  },
  {
   "cell_type": "code",
   "execution_count": 85,
   "id": "60699bab-6ee5-49b4-89ea-1b96348f1d04",
   "metadata": {
    "execution": {
     "iopub.execute_input": "2022-05-17T18:00:52.511199Z",
     "iopub.status.busy": "2022-05-17T18:00:52.510655Z",
     "iopub.status.idle": "2022-05-17T18:00:52.516962Z",
     "shell.execute_reply": "2022-05-17T18:00:52.515890Z",
     "shell.execute_reply.started": "2022-05-17T18:00:52.511146Z"
    }
   },
   "outputs": [],
   "source": [
    "# load array\n",
    "# data = loadtxt('data.csv', delimiter=',')"
   ]
  },
  {
   "cell_type": "code",
   "execution_count": 86,
   "id": "95536b5d-dab9-4004-bb71-d43d9806aad6",
   "metadata": {
    "execution": {
     "iopub.execute_input": "2022-05-17T18:01:08.046694Z",
     "iopub.status.busy": "2022-05-17T18:01:08.046179Z",
     "iopub.status.idle": "2022-05-17T18:01:08.071112Z",
     "shell.execute_reply": "2022-05-17T18:01:08.070057Z",
     "shell.execute_reply.started": "2022-05-17T18:01:08.046643Z"
    }
   },
   "outputs": [],
   "source": [
    "# > Save neural network data \n",
    "# Get outpath\n",
    "outpath_nn = os.path.join(\"..\", \"in\", \"processed_data\", \"nn_data.npy\")\n",
    "# Save to csv file\n",
    "np.save(outpath_nn, X_nn)"
   ]
  },
  {
   "cell_type": "code",
   "execution_count": 92,
   "id": "879d1abf-8c29-4025-afe9-70258b340ec0",
   "metadata": {
    "execution": {
     "iopub.execute_input": "2022-05-17T18:05:05.538647Z",
     "iopub.status.busy": "2022-05-17T18:05:05.538107Z",
     "iopub.status.idle": "2022-05-17T18:05:05.546516Z",
     "shell.execute_reply": "2022-05-17T18:05:05.545238Z",
     "shell.execute_reply.started": "2022-05-17T18:05:05.538595Z"
    },
    "tags": []
   },
   "outputs": [],
   "source": [
    "loaded_array = np.load(outpath_y)"
   ]
  },
  {
   "cell_type": "code",
   "execution_count": 93,
   "id": "11f9a616-8161-4ace-9070-caedfa7a401c",
   "metadata": {
    "execution": {
     "iopub.execute_input": "2022-05-17T18:05:06.037935Z",
     "iopub.status.busy": "2022-05-17T18:05:06.037495Z",
     "iopub.status.idle": "2022-05-17T18:05:06.046074Z",
     "shell.execute_reply": "2022-05-17T18:05:06.045085Z",
     "shell.execute_reply.started": "2022-05-17T18:05:06.037887Z"
    },
    "tags": []
   },
   "outputs": [
    {
     "data": {
      "text/plain": [
       "(32253, 1)"
      ]
     },
     "execution_count": 93,
     "metadata": {},
     "output_type": "execute_result"
    }
   ],
   "source": [
    "loaded_array.shape"
   ]
  },
  {
   "cell_type": "code",
   "execution_count": 89,
   "id": "4c1fbb7c-5114-499c-bacd-b00f8cfb1aff",
   "metadata": {
    "execution": {
     "iopub.execute_input": "2022-05-17T18:04:49.769795Z",
     "iopub.status.busy": "2022-05-17T18:04:49.769272Z",
     "iopub.status.idle": "2022-05-17T18:04:49.781047Z",
     "shell.execute_reply": "2022-05-17T18:04:49.779924Z",
     "shell.execute_reply.started": "2022-05-17T18:04:49.769742Z"
    }
   },
   "outputs": [],
   "source": [
    "# > Save label data\n",
    "outpath_y = os.path.join(\"..\", \"in\", \"processed_data\", \"y_data.npy\")\n",
    "# Save to csv file\n",
    "np.save(outpath_y, y_array)"
   ]
  },
  {
   "cell_type": "code",
   "execution_count": 96,
   "id": "477a1de5-de68-4442-9b28-8518816fb698",
   "metadata": {
    "execution": {
     "iopub.execute_input": "2022-05-17T18:10:36.301191Z",
     "iopub.status.busy": "2022-05-17T18:10:36.300640Z",
     "iopub.status.idle": "2022-05-17T18:10:36.309335Z",
     "shell.execute_reply": "2022-05-17T18:10:36.308518Z",
     "shell.execute_reply.started": "2022-05-17T18:10:36.301131Z"
    },
    "tags": []
   },
   "outputs": [],
   "source": [
    "# Save label names \n",
    "outpath_labels = os.path.join(\"..\", \"in\", \"processed_data\", \"label_names.csv\")\n",
    "# Save to txt file\n",
    "with open(outpath_labels, \"w\") as output:\n",
    "    output.write(str(label_names))"
   ]
  },
  {
   "cell_type": "code",
   "execution_count": 98,
   "id": "8cafc572-a789-4ded-a91d-fa8b783dd10c",
   "metadata": {
    "execution": {
     "iopub.execute_input": "2022-05-17T18:11:25.928694Z",
     "iopub.status.busy": "2022-05-17T18:11:25.928170Z",
     "iopub.status.idle": "2022-05-17T18:11:25.937470Z",
     "shell.execute_reply": "2022-05-17T18:11:25.936538Z",
     "shell.execute_reply.started": "2022-05-17T18:11:25.928642Z"
    },
    "tags": []
   },
   "outputs": [],
   "source": [
    "# Loading a text from data folder - get a new text - this one is too long\n",
    "with open(outpath_labels, \"r\") as f:\n",
    "    txt = f.read()"
   ]
  },
  {
   "cell_type": "code",
   "execution_count": 100,
   "id": "5e0ad3c0-bd7d-43e5-8f4c-840e6690d9c9",
   "metadata": {
    "execution": {
     "iopub.execute_input": "2022-05-17T18:11:38.837490Z",
     "iopub.status.busy": "2022-05-17T18:11:38.836957Z",
     "iopub.status.idle": "2022-05-17T18:11:38.846608Z",
     "shell.execute_reply": "2022-05-17T18:11:38.845415Z",
     "shell.execute_reply.started": "2022-05-17T18:11:38.837438Z"
    },
    "tags": []
   },
   "outputs": [
    {
     "data": {
      "text/plain": [
       "str"
      ]
     },
     "execution_count": 100,
     "metadata": {},
     "output_type": "execute_result"
    }
   ],
   "source": [
    "type(txt)"
   ]
  },
  {
   "cell_type": "markdown",
   "id": "bd4c01aa-daa6-47e8-b32b-47a847a24d23",
   "metadata": {},
   "source": [
    "__Gosh dang it I am never done with this__ "
   ]
  },
  {
   "cell_type": "code",
   "execution_count": 23,
   "id": "cd46cdc4-66bd-4428-8f1b-f0f66a44875d",
   "metadata": {
    "execution": {
     "iopub.execute_input": "2022-05-18T10:27:27.121589Z",
     "iopub.status.busy": "2022-05-18T10:27:27.121100Z",
     "iopub.status.idle": "2022-05-18T10:27:27.143385Z",
     "shell.execute_reply": "2022-05-18T10:27:27.142774Z",
     "shell.execute_reply.started": "2022-05-18T10:27:27.121537Z"
    },
    "tags": []
   },
   "outputs": [],
   "source": [
    "#=====> Define functions\n",
    "# > Load data \n",
    "def load_y():\n",
    "    # Print info \n",
    "    print(\"[INFO] Loading data...\")\n",
    "    # > Load test labels\n",
    "    # Get the filepath\n",
    "    filepath_test = os.path.join(\"..\", \"in\", \"annotation\", \"test.txt\")\n",
    "    # Load data\n",
    "    y_test = pd.read_csv(filepath_test, header=None, names = (\"filename\", \"category\"))\n",
    "    \n",
    "    # > Load training labels\n",
    "    # Get the filepath\n",
    "    filepath_train = os.path.join(\"..\", \"in\", \"annotation\", \"train.txt\")\n",
    "    # Load data\n",
    "    y_train = pd.read_csv(filepath_train, header=None, names = (\"filename\", \"category\"))\n",
    "    \n",
    "    # Combine data \n",
    "    y = pd.concat([y_train, y_test], axis=0)\n",
    "    \n",
    "    return y\n",
    "\n",
    "# > Clean label data \n",
    "def clean_y(y):\n",
    "    # Print info \n",
    "    print(\"[INFO] Cleaning data\")\n",
    "    # Removing duplicates\n",
    "    y_rm_dup = y.drop_duplicates(subset=[\"filename\"])  \n",
    "\n",
    "    # > Remove GIF files from dataframe\n",
    "    # identify partial string\n",
    "    discard = [\".GIF\"]\n",
    "  \n",
    "    # drop rows that contain the partial string \"Sci\"\n",
    "    y_no_gif = y_rm_dup[~y_rm_dup.filename.str.contains('|'.join(discard))]\n",
    "\n",
    "    # > Remiving data that for some reason turned out to be problematic\n",
    "    # defining list\n",
    "    problematic = [\"gMap_256.jpg\", \n",
    "                   \"gMap_549.jpg\", \n",
    "                   \"gMap_559.jpg\", \n",
    "                   \"gMap_724.jpeg\", \n",
    "                   \"gMap_725.jpeg\", \n",
    "                   \"gMap_726.jpeg\",  \n",
    "                   \"gMap_727.jpeg\",\n",
    "                   \"surfaceP_8.png\"]\n",
    "    # Remove rows\n",
    "    y_clean = y_no_gif[~y_no_gif.filename.isin(problematic)]\n",
    "    \n",
    "    return y_clean\n",
    "\n",
    "# > Remove outliers\n",
    "def rem_outliers(y, median, window):\n",
    "    # The 'median' argument is the median of the image heights \n",
    "    # the 'window' argument is the standatd deviation of the image heoghts times 3\n",
    "    \n",
    "    # > Load size metadata\n",
    "    # Get the filepath\n",
    "    filepath = os.path.join(\"in\", \"img_size_df.csv\")\n",
    "    # Reading the filepath \n",
    "    sizes = pd.read_csv(filepath)\n",
    "    \n",
    "    # Find outliers\n",
    "    outliers = sizes.loc[abs(sizes[\"height\"] - median) >= window]\n",
    "    \n",
    "    # Remove rows \n",
    "    outliers_removed = y[~y.filename.isin(outliers[\"filename\"])]\n",
    "    \n",
    "    return outliers_removed\n",
    "\n",
    "# > Reshape data\n",
    "def reshape_data(y, average, size, window):\n",
    "    # Print info \n",
    "    print(\"[INFO] Reshaping data...\")\n",
    "    \n",
    "    # Define list of filenames\n",
    "    y_filenames = sorted(y[\"filename\"].tolist())\n",
    "    # Define empthy list\n",
    "    X_logistic = []\n",
    "    file_list = []\n",
    "\n",
    "    # Iterate through files\n",
    "    for file in tqdm(y_filenames[:10]):\n",
    "        # Get filepath\n",
    "        filepath = os.path.join(\"..\", \"in\", \"images\", file)\n",
    "        # Load image\n",
    "        image = cv2.imread(filepath)\n",
    "        \n",
    "        # Filtering outliers\n",
    "        if abs(image.shape[0] - average) >= window:\n",
    "            pass\n",
    "        else:\n",
    "            # > Create data for neural network \n",
    "            # Resize images\n",
    "            resized_color = cv2.resize(image, (int(size), int(size)), interpolation=cv2.INTER_AREA)\n",
    "            # > Save neural network data \n",
    "            # Get outpath\n",
    "            y_name = file.split(\".\")[0]\n",
    "            outpath_nn = os.path.join(\"..\", \"in\", \"np_arrays\", f\"{y_name}.npy\")\n",
    "            # Save to npy file\n",
    "            np.save(outpath_nn, img_to_array(resized_color))\n",
    "            file_list.append(f\"{y_name}.npy\")\n",
    "    \n",
    "            # > Create dataset for logistic regression\n",
    "            # Convert to greyscale\n",
    "            gray = cv2.bitwise_not(cv2.cvtColor(image, cv2.COLOR_BGR2GRAY))\n",
    "            # Resize image\n",
    "            compressed_gray = cv2.resize(gray, (int(size), int(size)), interpolation=cv2.INTER_AREA)\n",
    "            # Flatten image and append to list \n",
    "            X_logistic.append(compressed_gray.flatten())\n",
    "    \n",
    "    return X_logistic, file_list \n",
    "    \n",
    "def conv_format(X_logistic, y):\n",
    "    \n",
    "    # Convert logistic regression data to dataframe\n",
    "    X_logistic_df = pd.DataFrame(X_logistic)\n",
    "    # Factorize y \n",
    "    y_array = np.array(pd.factorize(y['category'])[0])\n",
    "    # Reshape y \n",
    "    y_reshape = np.reshape(y_array, (len(y_array),1))\n",
    "    # Get label names \n",
    "    label_names = list(pd.factorize(y['category'])[1])\n",
    "    # Convert to dataframe for saving\n",
    "    label_names_df = pd.DataFrame(label_names, columns =[\"labels\"])\n",
    "    \n",
    "    return X_logistic_df, y_array, y_reshape, label_names_df\n",
    "\n",
    "# Save data \n",
    "def save(X_logistic, X_nn, y_array, label_names, y):\n",
    "    # Save file list \n",
    "    outpath_fl = os.path.join(\"in\", \"processed_data\", \"file_list.csv\")\n",
    "    # Save data\n",
    "    y.to_csv(outpath_fl, index=False)\n",
    "    \n",
    "    # > Save logistic regression data\n",
    "    # Get outpath \n",
    "    outpath_lr = os.path.join(\"in\", \"processed_data\", \"lr_data.csv\")\n",
    "    # Save data\n",
    "    X_logistic.to_csv(outpath_lr, index=False)\n",
    "    \n",
    "    # > Save label data\n",
    "    outpath_y = os.path.join(\"in\", \"processed_data\", \"y_data.npy\")\n",
    "    # Save to npy file\n",
    "    np.save(outpath_y, y_array)\n",
    "    \n",
    "    # Save label names \n",
    "    outpath_labels = os.path.join(\"in\", \"processed_data\", \"label_names.csv\")\n",
    "    # Save to csv file\n",
    "    label_names.to_csv(outpath_labels, index=False)\n"
   ]
  },
  {
   "cell_type": "code",
   "execution_count": 8,
   "id": "09e226c9-becf-471f-8245-84cf7a618f11",
   "metadata": {
    "execution": {
     "iopub.execute_input": "2022-05-18T10:03:57.815255Z",
     "iopub.status.busy": "2022-05-18T10:03:57.814744Z",
     "iopub.status.idle": "2022-05-18T10:03:57.889063Z",
     "shell.execute_reply": "2022-05-18T10:03:57.888283Z",
     "shell.execute_reply.started": "2022-05-18T10:03:57.815205Z"
    },
    "tags": []
   },
   "outputs": [
    {
     "name": "stdout",
     "output_type": "stream",
     "text": [
      "[INFO] Loading data...\n",
      "[INFO] Cleaning data\n"
     ]
    }
   ],
   "source": [
    "# Load data \n",
    "y = load_y()\n",
    "# Clean data \n",
    "y_clean = clean_y(y)\n",
    "# Remove outliers\n",
    "# rem_y = rem_outliers(y_clean, int(args[\"average\"]), int(args[\"window\"]))"
   ]
  },
  {
   "cell_type": "code",
   "execution_count": 24,
   "id": "f82759c7-9fab-4ad3-b566-0d3ddafbd608",
   "metadata": {
    "execution": {
     "iopub.execute_input": "2022-05-18T10:27:32.119539Z",
     "iopub.status.busy": "2022-05-18T10:27:32.118997Z",
     "iopub.status.idle": "2022-05-18T10:27:33.206543Z",
     "shell.execute_reply": "2022-05-18T10:27:33.205913Z",
     "shell.execute_reply.started": "2022-05-18T10:27:32.119484Z"
    },
    "tags": []
   },
   "outputs": [
    {
     "name": "stdout",
     "output_type": "stream",
     "text": [
      "[INFO] Reshaping data...\n"
     ]
    },
    {
     "name": "stderr",
     "output_type": "stream",
     "text": [
      "100%|██████████| 10/10 [00:00<00:00, 139.98it/s]\n"
     ]
    }
   ],
   "source": [
    "X_logistic, y_array, label_names, file_list = reshape_data(y_clean, 210, 210, 745)"
   ]
  },
  {
   "cell_type": "code",
   "execution_count": 17,
   "id": "5d880bbe-6e65-4a69-9075-d288993beb93",
   "metadata": {
    "execution": {
     "iopub.execute_input": "2022-05-18T10:20:16.617108Z",
     "iopub.status.busy": "2022-05-18T10:20:16.616553Z",
     "iopub.status.idle": "2022-05-18T10:20:16.626029Z",
     "shell.execute_reply": "2022-05-18T10:20:16.625143Z",
     "shell.execute_reply.started": "2022-05-18T10:20:16.617056Z"
    },
    "tags": []
   },
   "outputs": [
    {
     "data": {
      "text/plain": [
       "'1996_00517172-Figure8-1subFig-1'"
      ]
     },
     "execution_count": 17,
     "metadata": {},
     "output_type": "execute_result"
    }
   ],
   "source": [
    "y_filenames[0].split(\".\")[0]"
   ]
  },
  {
   "cell_type": "code",
   "execution_count": 138,
   "id": "abdc78e9-c17c-48f6-8a7f-c163d5cf9680",
   "metadata": {
    "execution": {
     "iopub.execute_input": "2022-05-17T20:36:37.225302Z",
     "iopub.status.busy": "2022-05-17T20:36:37.224804Z",
     "iopub.status.idle": "2022-05-17T20:36:37.232067Z",
     "shell.execute_reply": "2022-05-17T20:36:37.231062Z",
     "shell.execute_reply.started": "2022-05-17T20:36:37.225253Z"
    },
    "tags": []
   },
   "outputs": [],
   "source": [
    "# Get filepath\n",
    "filepath = os.path.join(\"..\", \"in\", \"images\", \"algo_170.png\")\n",
    "# Load image\n",
    "image = cv2.imread(filepath)"
   ]
  },
  {
   "cell_type": "code",
   "execution_count": 140,
   "id": "29233c80-b38f-401d-b7a8-326650a9f1a2",
   "metadata": {
    "execution": {
     "iopub.execute_input": "2022-05-17T20:37:11.171673Z",
     "iopub.status.busy": "2022-05-17T20:37:11.171159Z",
     "iopub.status.idle": "2022-05-17T20:37:11.180365Z",
     "shell.execute_reply": "2022-05-17T20:37:11.179176Z",
     "shell.execute_reply.started": "2022-05-17T20:37:11.171622Z"
    },
    "tags": []
   },
   "outputs": [
    {
     "data": {
      "text/plain": [
       "152"
      ]
     },
     "execution_count": 140,
     "metadata": {},
     "output_type": "execute_result"
    }
   ],
   "source": [
    "image.shape[0]"
   ]
  },
  {
   "cell_type": "code",
   "execution_count": 25,
   "id": "c7e4456c-e0f9-4941-b644-23f351b945c0",
   "metadata": {
    "execution": {
     "iopub.execute_input": "2022-05-18T10:28:28.513479Z",
     "iopub.status.busy": "2022-05-18T10:28:28.513001Z",
     "iopub.status.idle": "2022-05-18T10:28:28.541198Z",
     "shell.execute_reply": "2022-05-18T10:28:28.540475Z",
     "shell.execute_reply.started": "2022-05-18T10:28:28.513430Z"
    },
    "tags": []
   },
   "outputs": [
    {
     "name": "stderr",
     "output_type": "stream",
     "text": [
      "100%|██████████| 10/10 [00:00<00:00, 781.62it/s]\n"
     ]
    }
   ],
   "source": [
    "# Define list of filenames\n",
    "y_filenames = file_list\n",
    "X = []\n",
    "for file in tqdm(y_filenames):\n",
    "    filepath = os.path.join(\"..\", \"in\", \"np_arrays\", file)\n",
    "    loaded_array = np.load(filepath)\n",
    "    X.append(loaded_array)\n",
    "\n",
    "# Convert neural network data to array \n",
    "X_array = np.array(X)"
   ]
  },
  {
   "cell_type": "code",
   "execution_count": 26,
   "id": "df0b9f39-f45b-498f-bea0-284976e19c55",
   "metadata": {
    "execution": {
     "iopub.execute_input": "2022-05-18T10:28:40.486989Z",
     "iopub.status.busy": "2022-05-18T10:28:40.486442Z",
     "iopub.status.idle": "2022-05-18T10:28:40.496571Z",
     "shell.execute_reply": "2022-05-18T10:28:40.495537Z",
     "shell.execute_reply.started": "2022-05-18T10:28:40.486934Z"
    }
   },
   "outputs": [
    {
     "data": {
      "text/plain": [
       "numpy.ndarray"
      ]
     },
     "execution_count": 26,
     "metadata": {},
     "output_type": "execute_result"
    }
   ],
   "source": [
    "type(X_array)"
   ]
  },
  {
   "cell_type": "code",
   "execution_count": 27,
   "id": "0d83328a-84fc-4623-acc2-dbe552a3020f",
   "metadata": {
    "execution": {
     "iopub.execute_input": "2022-05-18T10:28:46.102783Z",
     "iopub.status.busy": "2022-05-18T10:28:46.102229Z",
     "iopub.status.idle": "2022-05-18T10:28:46.111974Z",
     "shell.execute_reply": "2022-05-18T10:28:46.110965Z",
     "shell.execute_reply.started": "2022-05-18T10:28:46.102728Z"
    }
   },
   "outputs": [
    {
     "data": {
      "text/plain": [
       "(10, 210, 210, 3)"
      ]
     },
     "execution_count": 27,
     "metadata": {},
     "output_type": "execute_result"
    }
   ],
   "source": [
    "X_array.shape"
   ]
  },
  {
   "cell_type": "code",
   "execution_count": null,
   "id": "b3fb1e7b-e476-4239-861a-82d960583430",
   "metadata": {},
   "outputs": [],
   "source": []
  }
 ],
 "metadata": {
  "kernelspec": {
   "display_name": "Python 3 ",
   "language": "python",
   "name": "python3"
  },
  "language_info": {
   "codemirror_mode": {
    "name": "ipython",
    "version": 3
   },
   "file_extension": ".py",
   "mimetype": "text/x-python",
   "name": "python",
   "nbconvert_exporter": "python",
   "pygments_lexer": "ipython3",
   "version": "3.9.6"
  }
 },
 "nbformat": 4,
 "nbformat_minor": 5
}
