{
 "cells": [
  {
   "cell_type": "markdown",
   "id": "eaec31bd-b4f6-48e4-b88f-94f3d3563c9b",
   "metadata": {},
   "source": [
    "# Assignment notebook: Logistic regresion"
   ]
  },
  {
   "cell_type": "markdown",
   "id": "2e48ec58-0669-460e-8361-ae1bc04d928b",
   "metadata": {},
   "source": [
    "import modules"
   ]
  },
  {
   "cell_type": "code",
   "execution_count": 3,
   "id": "7e52354a-9109-4d96-aafc-20b34ef9bcc4",
   "metadata": {
    "execution": {
     "iopub.execute_input": "2022-05-18T20:11:08.778553Z",
     "iopub.status.busy": "2022-05-18T20:11:08.778003Z",
     "iopub.status.idle": "2022-05-18T20:11:19.861425Z",
     "shell.execute_reply": "2022-05-18T20:11:19.860704Z",
     "shell.execute_reply.started": "2022-05-18T20:11:08.778501Z"
    },
    "tags": []
   },
   "outputs": [
    {
     "name": "stderr",
     "output_type": "stream",
     "text": [
      "2022-05-18 22:11:09.216923: W tensorflow/stream_executor/platform/default/dso_loader.cc:64] Could not load dynamic library 'libcudart.so.11.0'; dlerror: libcudart.so.11.0: cannot open shared object file: No such file or directory\n",
      "2022-05-18 22:11:09.216955: I tensorflow/stream_executor/cuda/cudart_stub.cc:29] Ignore above cudart dlerror if you do not have a GPU set up on your machine.\n"
     ]
    }
   ],
   "source": [
    "# System tools\n",
    "import os\n",
    "import sys\n",
    "import argparse\n",
    "sys.path.append(os.getcwd())\n",
    "\n",
    "# Data tools\n",
    "import numpy as np\n",
    "from tqdm import tqdm\n",
    "import pandas as pd\n",
    "from random import sample\n",
    "from itertools import chain\n",
    "\n",
    "# Cifar-10 data\n",
    "from tensorflow.keras.datasets import cifar10\n",
    "\n",
    "# Image manipulation tools\n",
    "import cv2\n",
    "\n",
    "# Import sklearn metrics\n",
    "from sklearn import metrics\n",
    "from sklearn.datasets import fetch_openml\n",
    "from sklearn.model_selection import train_test_split\n",
    "from sklearn.linear_model import LogisticRegression\n",
    "from sklearn.metrics import accuracy_score\n",
    "from sklearn.preprocessing import LabelBinarizer"
   ]
  },
  {
   "cell_type": "markdown",
   "id": "56afe24c-2ab9-4532-b7c9-b6a483e61fa0",
   "metadata": {},
   "source": [
    "__Loading data__"
   ]
  },
  {
   "cell_type": "code",
   "execution_count": 4,
   "id": "009e33d3-f526-4453-bda6-3995a2ed20de",
   "metadata": {
    "execution": {
     "iopub.execute_input": "2022-05-18T15:18:36.562109Z",
     "iopub.status.busy": "2022-05-18T15:18:36.561593Z",
     "iopub.status.idle": "2022-05-18T15:28:52.607390Z",
     "shell.execute_reply": "2022-05-18T15:28:52.605526Z",
     "shell.execute_reply.started": "2022-05-18T15:18:36.562061Z"
    },
    "tags": []
   },
   "outputs": [],
   "source": [
    "# > Load file_list to be certain that X data will be in the same order as y \n",
    "# Get the filepath\n",
    "filepath = os.path.join(\"..\", \"in\", \"processed_data\", \"file_list.csv\")\n",
    "# Reading the filepath \n",
    "file_list = pd.read_csv(filepath)"
   ]
  },
  {
   "cell_type": "code",
   "execution_count": 5,
   "id": "73decfc7-6032-4a5b-9b88-21964266c762",
   "metadata": {
    "execution": {
     "iopub.execute_input": "2022-05-18T15:28:54.004902Z",
     "iopub.status.busy": "2022-05-18T15:28:54.004764Z",
     "iopub.status.idle": "2022-05-18T15:28:54.468428Z",
     "shell.execute_reply": "2022-05-18T15:28:54.467195Z",
     "shell.execute_reply.started": "2022-05-18T15:28:54.004886Z"
    }
   },
   "outputs": [
    {
     "name": "stderr",
     "output_type": "stream",
     "text": [
      "100%|██████████| 10/10 [00:00<00:00, 22.19it/s]\n"
     ]
    }
   ],
   "source": [
    "# Define list of filenames\n",
    "y_filenames = file_list[\"files\"][:10]\n",
    "X = []\n",
    "for file in tqdm(y_filenames):\n",
    "    filepath = os.path.join(\"..\", \"in\", \"np_arrays\", file)\n",
    "    loaded_array = np.load(filepath)\n",
    "    X.append(loaded_array)\n",
    "\n",
    "# Convert neural network data to array \n",
    "X_array = np.array(X)"
   ]
  },
  {
   "cell_type": "code",
   "execution_count": 6,
   "id": "cbd5d34f-7055-4c3a-95dc-b4ba556e202e",
   "metadata": {
    "execution": {
     "iopub.execute_input": "2022-05-18T15:28:54.471908Z",
     "iopub.status.busy": "2022-05-18T15:28:54.471345Z",
     "iopub.status.idle": "2022-05-18T15:28:54.478301Z",
     "shell.execute_reply": "2022-05-18T15:28:54.477492Z",
     "shell.execute_reply.started": "2022-05-18T15:28:54.471859Z"
    }
   },
   "outputs": [
    {
     "data": {
      "text/plain": [
       "(10, 210, 210, 3)"
      ]
     },
     "execution_count": 6,
     "metadata": {},
     "output_type": "execute_result"
    }
   ],
   "source": [
    "X_array.shape"
   ]
  },
  {
   "cell_type": "code",
   "execution_count": 60,
   "id": "273550f8-e0f5-4a38-bb95-882ccf82e3b2",
   "metadata": {
    "execution": {
     "iopub.execute_input": "2022-05-18T17:19:26.225370Z",
     "iopub.status.busy": "2022-05-18T17:19:26.224842Z",
     "iopub.status.idle": "2022-05-18T17:19:26.241198Z",
     "shell.execute_reply": "2022-05-18T17:19:26.240484Z",
     "shell.execute_reply.started": "2022-05-18T17:19:26.225322Z"
    },
    "tags": []
   },
   "outputs": [],
   "source": [
    "def load_data(nr_files, random = True):\n",
    "    # > load y data \n",
    "    filepath = os.path.join(\"..\", \"in\", \"processed_data\", \"y_data.npy\")\n",
    "    # Load array\n",
    "    y = np.load(filepath)\n",
    "    \n",
    "    # > Load file_list to be certain that X data will be in the same order as y \n",
    "    # Get the filepath\n",
    "    filepath = os.path.join(\"..\", \"in\", \"processed_data\", \"file_list.csv\")\n",
    "    # Reading the filepath \n",
    "    file_list = pd.read_csv(filepath)\n",
    "    \n",
    "    # Choose which files to load\n",
    "    if random == True: \n",
    "        y_filenames = sample(file_list[\"files\"].tolist(), nr_files)\n",
    "    else:\n",
    "        y_filenames = file_list[\"files\"][:nr_files]\n",
    "    \n",
    "    # Define empthy list \n",
    "    X = []\n",
    "    # Iterate over images to load as arrays\n",
    "    for file in tqdm(y_filenames):\n",
    "        # Get filepath for image\n",
    "        filepath = os.path.join(\"..\", \"in\", \"np_arrays\", file)\n",
    "        # Load array\n",
    "        loaded_array = np.load(filepath)\n",
    "        # Append to list\n",
    "        X.append(loaded_array)\n",
    "\n",
    "    # Convert neural network data to array \n",
    "    X_array = np.array(X)\n",
    "    \n",
    "    return X_array, y"
   ]
  },
  {
   "cell_type": "code",
   "execution_count": 79,
   "id": "133f0837-2909-45f4-b238-607f2ba00f57",
   "metadata": {
    "execution": {
     "iopub.execute_input": "2022-05-18T17:27:08.706755Z",
     "iopub.status.busy": "2022-05-18T17:27:08.706250Z",
     "iopub.status.idle": "2022-05-18T17:27:08.720302Z",
     "shell.execute_reply": "2022-05-18T17:27:08.719055Z",
     "shell.execute_reply.started": "2022-05-18T17:27:08.706707Z"
    },
    "tags": []
   },
   "outputs": [],
   "source": [
    "def load_data(nr_files):\n",
    "    # > load y data \n",
    "    filepath = os.path.join(\"..\", \"in\", \"processed_data\", \"y_data.npy\")\n",
    "    # Load array\n",
    "    y = np.load(filepath)\n",
    "    # Choose relevant y data  \n",
    "    y = y[:nr_files]\n",
    "    \n",
    "    # > Load file_list to be certain that X data will be in the same order as y \n",
    "    # Get the filepath\n",
    "    filepath = os.path.join(\"..\", \"in\", \"processed_data\", \"file_list.csv\")\n",
    "    # Reading the filepath \n",
    "    file_list = pd.read_csv(filepath)\n",
    "    \n",
    "    # Choose which files to load\n",
    "    y_filenames = file_list[\"files\"][:nr_files]\n",
    "    \n",
    "    # Define empthy list \n",
    "    X = []\n",
    "    # Iterate over images to load as arrays\n",
    "    for file in tqdm(y_filenames):\n",
    "        # Get filepath for image\n",
    "        filepath = os.path.join(\"..\", \"in\", \"np_arrays\", file)\n",
    "        # Load array\n",
    "        loaded_array = np.load(filepath)\n",
    "        # Append to list\n",
    "        X.append(loaded_array)\n",
    "\n",
    "    # Making sure that both X and y are numpy arrays\n",
    "    X = np.array(X)\n",
    "    y = np.array(y)\n",
    "\n",
    "    # Splitting data \n",
    "    X_train, X_test, y_train, y_test = train_test_split(X, y,\n",
    "                                                    random_state=42,\n",
    "                                                    test_size = 0.2)\n",
    "    \n",
    "    return X_train, X_test, y_train, y_test"
   ]
  },
  {
   "cell_type": "code",
   "execution_count": 80,
   "id": "db7680e6-23fe-42c8-8441-8288efdb0ee1",
   "metadata": {
    "execution": {
     "iopub.execute_input": "2022-05-18T17:27:16.793625Z",
     "iopub.status.busy": "2022-05-18T17:27:16.793101Z",
     "iopub.status.idle": "2022-05-18T17:27:16.884430Z",
     "shell.execute_reply": "2022-05-18T17:27:16.882962Z",
     "shell.execute_reply.started": "2022-05-18T17:27:16.793576Z"
    },
    "tags": []
   },
   "outputs": [
    {
     "name": "stderr",
     "output_type": "stream",
     "text": [
      "100%|██████████| 10/10 [00:00<00:00, 242.87it/s]\n"
     ]
    }
   ],
   "source": [
    "X_train, X_test, y_train, y_test = load_data(10)"
   ]
  },
  {
   "cell_type": "code",
   "execution_count": 63,
   "id": "756ca06f-d2ec-48d9-9e24-75f4c63621ef",
   "metadata": {
    "execution": {
     "iopub.execute_input": "2022-05-18T17:21:08.472088Z",
     "iopub.status.busy": "2022-05-18T17:21:08.471570Z",
     "iopub.status.idle": "2022-05-18T17:21:08.481028Z",
     "shell.execute_reply": "2022-05-18T17:21:08.479845Z",
     "shell.execute_reply.started": "2022-05-18T17:21:08.472040Z"
    },
    "tags": []
   },
   "outputs": [
    {
     "data": {
      "text/plain": [
       "(10, 210, 210, 3)"
      ]
     },
     "execution_count": 63,
     "metadata": {},
     "output_type": "execute_result"
    }
   ],
   "source": [
    "data.shape"
   ]
  },
  {
   "cell_type": "code",
   "execution_count": 64,
   "id": "69cd3b44-7672-40b1-aa95-301cb5be263a",
   "metadata": {
    "execution": {
     "iopub.execute_input": "2022-05-18T17:21:09.285354Z",
     "iopub.status.busy": "2022-05-18T17:21:09.284861Z",
     "iopub.status.idle": "2022-05-18T17:21:09.293799Z",
     "shell.execute_reply": "2022-05-18T17:21:09.292763Z",
     "shell.execute_reply.started": "2022-05-18T17:21:09.285306Z"
    },
    "tags": []
   },
   "outputs": [
    {
     "data": {
      "text/plain": [
       "(10, 1)"
      ]
     },
     "execution_count": 64,
     "metadata": {},
     "output_type": "execute_result"
    }
   ],
   "source": [
    "y.shape"
   ]
  },
  {
   "cell_type": "code",
   "execution_count": 23,
   "id": "0d1c9dec-7673-43d3-94de-207591c04149",
   "metadata": {
    "execution": {
     "iopub.execute_input": "2022-05-18T15:38:18.291996Z",
     "iopub.status.busy": "2022-05-18T15:38:18.291483Z",
     "iopub.status.idle": "2022-05-18T15:38:18.634913Z",
     "shell.execute_reply": "2022-05-18T15:38:18.633675Z",
     "shell.execute_reply.started": "2022-05-18T15:38:18.291948Z"
    },
    "tags": []
   },
   "outputs": [
    {
     "name": "stderr",
     "output_type": "stream",
     "text": [
      "100%|██████████| 10/10 [00:00<00:00, 32.97it/s]\n"
     ]
    }
   ],
   "source": [
    "data_2 = load_data(10, random = True)"
   ]
  },
  {
   "cell_type": "code",
   "execution_count": 24,
   "id": "231d317b-cc35-4c89-be4a-c9739fac83ad",
   "metadata": {
    "execution": {
     "iopub.execute_input": "2022-05-18T15:38:34.537556Z",
     "iopub.status.busy": "2022-05-18T15:38:34.536955Z",
     "iopub.status.idle": "2022-05-18T15:38:34.546472Z",
     "shell.execute_reply": "2022-05-18T15:38:34.545420Z",
     "shell.execute_reply.started": "2022-05-18T15:38:34.537502Z"
    }
   },
   "outputs": [
    {
     "data": {
      "text/plain": [
       "(10, 210, 210, 3)"
      ]
     },
     "execution_count": 24,
     "metadata": {},
     "output_type": "execute_result"
    }
   ],
   "source": [
    "data_2.shape"
   ]
  },
  {
   "cell_type": "markdown",
   "id": "332e56e2-10c0-43d2-8d2e-ad4e43d34e5c",
   "metadata": {},
   "source": [
    "__Load LR data__"
   ]
  },
  {
   "cell_type": "code",
   "execution_count": 34,
   "id": "4bde4ae8-bd8a-442d-9a56-83080bb59336",
   "metadata": {
    "execution": {
     "iopub.execute_input": "2022-05-18T20:54:42.982766Z",
     "iopub.status.busy": "2022-05-18T20:54:42.982046Z",
     "iopub.status.idle": "2022-05-18T20:54:43.000703Z",
     "shell.execute_reply": "2022-05-18T20:54:42.999925Z",
     "shell.execute_reply.started": "2022-05-18T20:54:42.982706Z"
    },
    "tags": []
   },
   "outputs": [],
   "source": [
    "def load_data_lr(sample = None, size = 210):\n",
    "    # > load y data \n",
    "    filepath = os.path.join(\"..\", \"in\", \"processed_data\", \"y_data.npy\")\n",
    "    # Load array\n",
    "    y = np.load(filepath)\n",
    "    \n",
    "    # > Load file_list to be certain that X data will be in the same order as y \n",
    "    # Get the filepath\n",
    "    filepath = os.path.join(\"..\", \"in\", \"processed_data\", \"file_list_img.csv\")\n",
    "    # Reading the filepath \n",
    "    file_list = pd.read_csv(filepath)\n",
    "    \n",
    "    # Choose to sample or not\n",
    "    if sample: \n",
    "        # Convert y to dataframe to sample\n",
    "        y_df = pd.DataFrame(y, columns =[\"label\"])\n",
    "        # Sample and get index\n",
    "        y_sample = (y_df.groupby(\"label\", as_index=False)\n",
    "                    .apply(lambda x: x.sample(n=sample, replace=False).index)\n",
    "                    .reset_index(drop=True))\n",
    "        # Convert 2d list if indexes into 1d\n",
    "        flatten_list = list(chain.from_iterable(y_sample))\n",
    "        # Use indexes to find the y values in the sample\n",
    "        y_relevant = np.array([y[i] for i in flatten_list])\n",
    "        \n",
    "        # Define list of files to iretate over\n",
    "        y_filenames = [file_list[\"files\"].tolist()[i] for i in flatten_list]\n",
    "    else:\n",
    "        # Define list of files to iretate over\n",
    "        y_filenames = file_list[\"files\"].tolist()\n",
    "        # Define relevant y values\n",
    "        y_relevant = y\n",
    "    \n",
    "    # Define empthy list \n",
    "    X = []\n",
    "    # Iterate over images to load as arrays\n",
    "    for file in tqdm(y_filenames[:100]):\n",
    "        # Get filepath\n",
    "        filepath = os.path.join(\"..\", \"in\", \"images\", file)\n",
    "        # Load image\n",
    "        image = cv2.imread(filepath)\n",
    "        # Convert to greyscale\n",
    "        gray = cv2.bitwise_not(cv2.cvtColor(image, cv2.COLOR_BGR2GRAY))\n",
    "        # Resize image\n",
    "        compressed_gray = cv2.resize(gray, (int(size), int(size)), interpolation=cv2.INTER_AREA)\n",
    "        # Append to list\n",
    "        X.append(compressed_gray.flatten())\n",
    "\n",
    "    # Making sure that both X and y are numpy arrays\n",
    "    X = np.array(X)\n",
    "    y_relevant = np.array(y_relevant)\n",
    "\n",
    "    # Splitting data \n",
    "    X_train, X_test, y_train, y_test = train_test_split(X, y_relevant[:100],\n",
    "                                                    random_state=42,\n",
    "                                                    test_size = 0.2)\n",
    "    \n",
    "    return X_train, X_test, y_train, y_test"
   ]
  },
  {
   "cell_type": "code",
   "execution_count": 35,
   "id": "07d42eab-aee5-4cf8-812c-5f040937e509",
   "metadata": {
    "execution": {
     "iopub.execute_input": "2022-05-18T20:54:43.392539Z",
     "iopub.status.busy": "2022-05-18T20:54:43.391582Z",
     "iopub.status.idle": "2022-05-18T20:54:43.571422Z",
     "shell.execute_reply": "2022-05-18T20:54:43.570980Z",
     "shell.execute_reply.started": "2022-05-18T20:54:43.392484Z"
    },
    "tags": []
   },
   "outputs": [
    {
     "name": "stderr",
     "output_type": "stream",
     "text": [
      "100%|██████████| 100/100 [00:00<00:00, 710.72it/s]\n"
     ]
    }
   ],
   "source": [
    "X_train, X_test, y_train, y_test = load_data_lr()"
   ]
  },
  {
   "cell_type": "code",
   "execution_count": 224,
   "id": "c7492d23-cac6-4665-b0bc-363b49f5b027",
   "metadata": {
    "execution": {
     "iopub.execute_input": "2022-05-18T19:51:27.358014Z",
     "iopub.status.busy": "2022-05-18T19:51:27.357454Z",
     "iopub.status.idle": "2022-05-18T19:51:27.367752Z",
     "shell.execute_reply": "2022-05-18T19:51:27.366620Z",
     "shell.execute_reply.started": "2022-05-18T19:51:27.357959Z"
    },
    "tags": []
   },
   "outputs": [
    {
     "data": {
      "text/plain": [
       "(448, 44100)"
      ]
     },
     "execution_count": 224,
     "metadata": {},
     "output_type": "execute_result"
    }
   ],
   "source": [
    "X_train.shape"
   ]
  },
  {
   "cell_type": "code",
   "execution_count": 225,
   "id": "5583469e-4c2b-4068-84ce-e6bdad142297",
   "metadata": {
    "execution": {
     "iopub.execute_input": "2022-05-18T19:51:30.617895Z",
     "iopub.status.busy": "2022-05-18T19:51:30.617338Z",
     "iopub.status.idle": "2022-05-18T19:51:30.627300Z",
     "shell.execute_reply": "2022-05-18T19:51:30.626224Z",
     "shell.execute_reply.started": "2022-05-18T19:51:30.617837Z"
    },
    "tags": []
   },
   "outputs": [
    {
     "data": {
      "text/plain": [
       "(112, 44100)"
      ]
     },
     "execution_count": 225,
     "metadata": {},
     "output_type": "execute_result"
    }
   ],
   "source": [
    "X_test.shape"
   ]
  },
  {
   "cell_type": "code",
   "execution_count": 227,
   "id": "5240492e-24b6-41ae-9ddf-3f6bbc5ae9c8",
   "metadata": {
    "execution": {
     "iopub.execute_input": "2022-05-18T19:52:13.240156Z",
     "iopub.status.busy": "2022-05-18T19:52:13.239590Z",
     "iopub.status.idle": "2022-05-18T19:52:13.249718Z",
     "shell.execute_reply": "2022-05-18T19:52:13.248568Z",
     "shell.execute_reply.started": "2022-05-18T19:52:13.240090Z"
    },
    "tags": []
   },
   "outputs": [
    {
     "data": {
      "text/plain": [
       "(448, 1)"
      ]
     },
     "execution_count": 227,
     "metadata": {},
     "output_type": "execute_result"
    }
   ],
   "source": [
    "y_train.shape"
   ]
  },
  {
   "cell_type": "code",
   "execution_count": 230,
   "id": "0e922764-2bd6-4b78-9754-3f307540c3cc",
   "metadata": {
    "execution": {
     "iopub.execute_input": "2022-05-18T19:52:24.277902Z",
     "iopub.status.busy": "2022-05-18T19:52:24.277352Z",
     "iopub.status.idle": "2022-05-18T19:52:24.286719Z",
     "shell.execute_reply": "2022-05-18T19:52:24.285768Z",
     "shell.execute_reply.started": "2022-05-18T19:52:24.277847Z"
    },
    "tags": []
   },
   "outputs": [
    {
     "data": {
      "text/plain": [
       "(112, 1)"
      ]
     },
     "execution_count": 230,
     "metadata": {},
     "output_type": "execute_result"
    }
   ],
   "source": [
    "y_test.shape"
   ]
  },
  {
   "cell_type": "code",
   "execution_count": 231,
   "id": "4326b41a-c480-4c45-8ed3-4f0dddf70136",
   "metadata": {
    "execution": {
     "iopub.execute_input": "2022-05-18T19:52:34.565131Z",
     "iopub.status.busy": "2022-05-18T19:52:34.564588Z",
     "iopub.status.idle": "2022-05-18T19:52:34.575254Z",
     "shell.execute_reply": "2022-05-18T19:52:34.573943Z",
     "shell.execute_reply.started": "2022-05-18T19:52:34.565079Z"
    }
   },
   "outputs": [
    {
     "data": {
      "text/plain": [
       "array([[22],\n",
       "       [17],\n",
       "       [ 8],\n",
       "       [ 4],\n",
       "       [16],\n",
       "       [ 7],\n",
       "       [13],\n",
       "       [14],\n",
       "       [ 5],\n",
       "       [25]])"
      ]
     },
     "execution_count": 231,
     "metadata": {},
     "output_type": "execute_result"
    }
   ],
   "source": [
    "y_test[:10]"
   ]
  },
  {
   "cell_type": "markdown",
   "id": "07928fe2-9adc-4d17-8519-f0febdd7d336",
   "metadata": {},
   "source": [
    "__Normalize__"
   ]
  },
  {
   "cell_type": "code",
   "execution_count": 232,
   "id": "96efd850-4b46-48c5-a110-a9cbd8fab9c8",
   "metadata": {
    "execution": {
     "iopub.execute_input": "2022-05-18T19:52:43.635899Z",
     "iopub.status.busy": "2022-05-18T19:52:43.635182Z",
     "iopub.status.idle": "2022-05-18T19:52:43.643039Z",
     "shell.execute_reply": "2022-05-18T19:52:43.642047Z",
     "shell.execute_reply.started": "2022-05-18T19:52:43.635844Z"
    },
    "tags": []
   },
   "outputs": [],
   "source": [
    "# > Normalize data\n",
    "def normalize(X_train, X_test):\n",
    "    # Scaling the features\n",
    "    X_train_scaled = X_train / 255\n",
    "    X_test_scaled = X_test / 255\n",
    "    \n",
    "    return (X_train_scaled, X_test_scaled)"
   ]
  },
  {
   "cell_type": "code",
   "execution_count": 233,
   "id": "2ba75cbe-9fe5-49b6-a727-fd26fc7beb7e",
   "metadata": {
    "execution": {
     "iopub.execute_input": "2022-05-18T19:52:45.026037Z",
     "iopub.status.busy": "2022-05-18T19:52:45.025344Z",
     "iopub.status.idle": "2022-05-18T19:52:45.068345Z",
     "shell.execute_reply": "2022-05-18T19:52:45.067767Z",
     "shell.execute_reply.started": "2022-05-18T19:52:45.025982Z"
    },
    "tags": []
   },
   "outputs": [],
   "source": [
    "X_train, X_test = normalize(X_train, X_test)"
   ]
  },
  {
   "cell_type": "markdown",
   "id": "7e9679ea-7d1a-4808-9609-0513d1b9126b",
   "metadata": {},
   "source": [
    "__Hold up I am not finised with loading data yet__"
   ]
  },
  {
   "cell_type": "code",
   "execution_count": 28,
   "id": "eb63881b-45b9-4ace-989c-18de4a860113",
   "metadata": {
    "execution": {
     "iopub.execute_input": "2022-05-18T20:50:34.428835Z",
     "iopub.status.busy": "2022-05-18T20:50:34.428263Z",
     "iopub.status.idle": "2022-05-18T20:50:34.438794Z",
     "shell.execute_reply": "2022-05-18T20:50:34.437646Z",
     "shell.execute_reply.started": "2022-05-18T20:50:34.428780Z"
    },
    "tags": []
   },
   "outputs": [],
   "source": [
    "# > load y data \n",
    "filepath = os.path.join(\"..\", \"in\", \"processed_data\", \"y_data.npy\")\n",
    "# Load array\n",
    "y = np.load(filepath)"
   ]
  },
  {
   "cell_type": "code",
   "execution_count": 188,
   "id": "f05cac2a-a194-4231-9a10-8741ca9e58a6",
   "metadata": {
    "execution": {
     "iopub.execute_input": "2022-05-18T18:26:11.042295Z",
     "iopub.status.busy": "2022-05-18T18:26:11.041766Z",
     "iopub.status.idle": "2022-05-18T18:26:11.061036Z",
     "shell.execute_reply": "2022-05-18T18:26:11.060327Z",
     "shell.execute_reply.started": "2022-05-18T18:26:11.042243Z"
    },
    "tags": []
   },
   "outputs": [],
   "source": [
    "# df.groupby('category')['item'].apply(lambda s: s.sample(min(len(s), 10)))\n",
    "# 181 is the max\n",
    "y_df = pd.DataFrame(y, columns =[\"label\"])\n",
    "y_sample = (y_df.groupby(\"label\", as_index=False)\n",
    "            .apply(lambda x: x.sample(n=400, replace=False).index)\n",
    "            .reset_index(drop=True))"
   ]
  },
  {
   "cell_type": "code",
   "execution_count": 29,
   "id": "4e69fccf-ade1-40aa-9e11-7af013fb1e8d",
   "metadata": {
    "execution": {
     "iopub.execute_input": "2022-05-18T20:50:40.383581Z",
     "iopub.status.busy": "2022-05-18T20:50:40.382997Z",
     "iopub.status.idle": "2022-05-18T20:50:40.422191Z",
     "shell.execute_reply": "2022-05-18T20:50:40.421182Z",
     "shell.execute_reply.started": "2022-05-18T20:50:40.383529Z"
    },
    "tags": []
   },
   "outputs": [
    {
     "ename": "NameError",
     "evalue": "name 'y_sample' is not defined",
     "output_type": "error",
     "traceback": [
      "\u001b[0;31m---------------------------------------------------------------------------\u001b[0m",
      "\u001b[0;31mNameError\u001b[0m                                 Traceback (most recent call last)",
      "\u001b[0;32m/tmp/ipykernel_525/582311546.py\u001b[0m in \u001b[0;36m<module>\u001b[0;34m\u001b[0m\n\u001b[0;32m----> 1\u001b[0;31m \u001b[0mlen\u001b[0m\u001b[0;34m(\u001b[0m\u001b[0my_sample\u001b[0m\u001b[0;34m)\u001b[0m\u001b[0;34m\u001b[0m\u001b[0;34m\u001b[0m\u001b[0m\n\u001b[0m",
      "\u001b[0;31mNameError\u001b[0m: name 'y_sample' is not defined"
     ]
    }
   ],
   "source": [
    "len(y_sample)"
   ]
  },
  {
   "cell_type": "code",
   "execution_count": 30,
   "id": "35fbc7c9-4767-4f04-992f-bd64ac6490fe",
   "metadata": {
    "execution": {
     "iopub.execute_input": "2022-05-18T20:50:45.641160Z",
     "iopub.status.busy": "2022-05-18T20:50:45.640598Z",
     "iopub.status.idle": "2022-05-18T20:50:45.657834Z",
     "shell.execute_reply": "2022-05-18T20:50:45.656874Z",
     "shell.execute_reply.started": "2022-05-18T20:50:45.641106Z"
    },
    "tags": []
   },
   "outputs": [
    {
     "name": "stdout",
     "output_type": "stream",
     "text": [
      "1368\n",
      "357\n",
      "298\n",
      "1196\n",
      "1024\n",
      "582\n",
      "315\n",
      "811\n",
      "335\n",
      "1074\n",
      "759\n",
      "9020\n",
      "1073\n",
      "783\n",
      "1055\n",
      "1128\n",
      "3674\n",
      "302\n",
      "398\n",
      "319\n",
      "276\n",
      "1138\n",
      "1105\n",
      "362\n",
      "1899\n",
      "319\n",
      "569\n",
      "714\n"
     ]
    }
   ],
   "source": [
    "# Lowest nr is 276\n",
    "for i in range(28):\n",
    "    print(np.count_nonzero(y == i))"
   ]
  },
  {
   "cell_type": "code",
   "execution_count": 190,
   "id": "9a68b251-55ee-4305-a32a-71327e830d24",
   "metadata": {
    "execution": {
     "iopub.execute_input": "2022-05-18T18:26:24.509677Z",
     "iopub.status.busy": "2022-05-18T18:26:24.509018Z",
     "iopub.status.idle": "2022-05-18T18:26:24.518658Z",
     "shell.execute_reply": "2022-05-18T18:26:24.517598Z",
     "shell.execute_reply.started": "2022-05-18T18:26:24.509625Z"
    },
    "tags": []
   },
   "outputs": [],
   "source": [
    "# import chain\n",
    "from itertools import chain\n",
    " \n",
    "# converting 2d list into 1d\n",
    "# using chain.from_iterables\n",
    "flatten_list = list(chain.from_iterable(y_sample))"
   ]
  },
  {
   "cell_type": "code",
   "execution_count": 213,
   "id": "56358dba-0677-4d67-b9f5-4ec6c121ef46",
   "metadata": {
    "execution": {
     "iopub.execute_input": "2022-05-18T18:54:28.503828Z",
     "iopub.status.busy": "2022-05-18T18:54:28.503331Z",
     "iopub.status.idle": "2022-05-18T18:54:28.512828Z",
     "shell.execute_reply": "2022-05-18T18:54:28.511853Z",
     "shell.execute_reply.started": "2022-05-18T18:54:28.503780Z"
    },
    "tags": []
   },
   "outputs": [
    {
     "data": {
      "text/plain": [
       "32967"
      ]
     },
     "execution_count": 213,
     "metadata": {},
     "output_type": "execute_result"
    }
   ],
   "source": [
    "max(flatten_list)"
   ]
  },
  {
   "cell_type": "code",
   "execution_count": 192,
   "id": "41d06f09-2e30-462a-82fd-8b1b0c19ad88",
   "metadata": {
    "execution": {
     "iopub.execute_input": "2022-05-18T18:26:26.495681Z",
     "iopub.status.busy": "2022-05-18T18:26:26.495220Z",
     "iopub.status.idle": "2022-05-18T18:26:26.514198Z",
     "shell.execute_reply": "2022-05-18T18:26:26.513458Z",
     "shell.execute_reply.started": "2022-05-18T18:26:26.495634Z"
    },
    "tags": []
   },
   "outputs": [],
   "source": [
    "res_list = np.array([y[i] for i in flatten_list])"
   ]
  },
  {
   "cell_type": "code",
   "execution_count": 206,
   "id": "bc60c0be-b7bd-4db3-81fb-3cc2c07bcc44",
   "metadata": {
    "execution": {
     "iopub.execute_input": "2022-05-18T18:52:53.747720Z",
     "iopub.status.busy": "2022-05-18T18:52:53.747213Z",
     "iopub.status.idle": "2022-05-18T18:52:53.756574Z",
     "shell.execute_reply": "2022-05-18T18:52:53.755396Z",
     "shell.execute_reply.started": "2022-05-18T18:52:53.747673Z"
    },
    "tags": []
   },
   "outputs": [
    {
     "data": {
      "text/plain": [
       "400"
      ]
     },
     "execution_count": 206,
     "metadata": {},
     "output_type": "execute_result"
    }
   ],
   "source": [
    "np.count_nonzero(res_list == 20)"
   ]
  },
  {
   "cell_type": "code",
   "execution_count": 214,
   "id": "e82d4df6-3c59-4936-bc73-ee855bd18277",
   "metadata": {
    "execution": {
     "iopub.execute_input": "2022-05-18T18:54:46.108693Z",
     "iopub.status.busy": "2022-05-18T18:54:46.108184Z",
     "iopub.status.idle": "2022-05-18T18:54:46.116354Z",
     "shell.execute_reply": "2022-05-18T18:54:46.115255Z",
     "shell.execute_reply.started": "2022-05-18T18:54:46.108646Z"
    },
    "tags": []
   },
   "outputs": [],
   "source": [
    "l = file_list[\"files\"].tolist()"
   ]
  },
  {
   "cell_type": "code",
   "execution_count": 215,
   "id": "25afb8a6-f8b8-4378-9fb8-d26cbfc053ac",
   "metadata": {
    "execution": {
     "iopub.execute_input": "2022-05-18T18:54:49.141330Z",
     "iopub.status.busy": "2022-05-18T18:54:49.140806Z",
     "iopub.status.idle": "2022-05-18T18:54:49.149894Z",
     "shell.execute_reply": "2022-05-18T18:54:49.148739Z",
     "shell.execute_reply.started": "2022-05-18T18:54:49.141282Z"
    }
   },
   "outputs": [
    {
     "data": {
      "text/plain": [
       "32968"
      ]
     },
     "execution_count": 215,
     "metadata": {},
     "output_type": "execute_result"
    }
   ],
   "source": [
    "len(y)"
   ]
  },
  {
   "cell_type": "code",
   "execution_count": 209,
   "id": "b74b6a64-ca55-4c3c-a0b3-ee563737000a",
   "metadata": {
    "execution": {
     "iopub.execute_input": "2022-05-18T18:53:27.375212Z",
     "iopub.status.busy": "2022-05-18T18:53:27.374692Z",
     "iopub.status.idle": "2022-05-18T18:53:27.383421Z",
     "shell.execute_reply": "2022-05-18T18:53:27.382248Z",
     "shell.execute_reply.started": "2022-05-18T18:53:27.375162Z"
    }
   },
   "outputs": [
    {
     "data": {
      "text/plain": [
       "32253"
      ]
     },
     "execution_count": 209,
     "metadata": {},
     "output_type": "execute_result"
    }
   ],
   "source": [
    "len(l)"
   ]
  },
  {
   "cell_type": "code",
   "execution_count": 210,
   "id": "f16774b6-71ad-43ff-9f8d-8cf3fb9d890b",
   "metadata": {
    "execution": {
     "iopub.execute_input": "2022-05-18T18:53:39.769875Z",
     "iopub.status.busy": "2022-05-18T18:53:39.769367Z",
     "iopub.status.idle": "2022-05-18T18:53:39.804959Z",
     "shell.execute_reply": "2022-05-18T18:53:39.803985Z",
     "shell.execute_reply.started": "2022-05-18T18:53:39.769827Z"
    },
    "tags": []
   },
   "outputs": [
    {
     "ename": "IndexError",
     "evalue": "list index out of range",
     "output_type": "error",
     "traceback": [
      "\u001b[0;31m---------------------------------------------------------------------------\u001b[0m",
      "\u001b[0;31mIndexError\u001b[0m                                Traceback (most recent call last)",
      "\u001b[0;32m/tmp/ipykernel_631/1632829163.py\u001b[0m in \u001b[0;36m<module>\u001b[0;34m\u001b[0m\n\u001b[0;32m----> 1\u001b[0;31m \u001b[0my_filenames\u001b[0m \u001b[0;34m=\u001b[0m \u001b[0;34m[\u001b[0m\u001b[0ml\u001b[0m\u001b[0;34m[\u001b[0m\u001b[0mi\u001b[0m\u001b[0;34m]\u001b[0m \u001b[0;32mfor\u001b[0m \u001b[0mi\u001b[0m \u001b[0;32min\u001b[0m \u001b[0mflatten_list\u001b[0m\u001b[0;34m]\u001b[0m\u001b[0;34m\u001b[0m\u001b[0;34m\u001b[0m\u001b[0m\n\u001b[0m",
      "\u001b[0;32m/tmp/ipykernel_631/1632829163.py\u001b[0m in \u001b[0;36m<listcomp>\u001b[0;34m(.0)\u001b[0m\n\u001b[0;32m----> 1\u001b[0;31m \u001b[0my_filenames\u001b[0m \u001b[0;34m=\u001b[0m \u001b[0;34m[\u001b[0m\u001b[0ml\u001b[0m\u001b[0;34m[\u001b[0m\u001b[0mi\u001b[0m\u001b[0;34m]\u001b[0m \u001b[0;32mfor\u001b[0m \u001b[0mi\u001b[0m \u001b[0;32min\u001b[0m \u001b[0mflatten_list\u001b[0m\u001b[0;34m]\u001b[0m\u001b[0;34m\u001b[0m\u001b[0;34m\u001b[0m\u001b[0m\n\u001b[0m",
      "\u001b[0;31mIndexError\u001b[0m: list index out of range"
     ]
    }
   ],
   "source": [
    "y_filenames = [l[i] for i in flatten_list]"
   ]
  },
  {
   "cell_type": "markdown",
   "id": "67717a37-c359-4969-a72c-9ef536b70b91",
   "metadata": {},
   "source": [
    "__Training model__ "
   ]
  },
  {
   "cell_type": "code",
   "execution_count": 234,
   "id": "2c9a35aa-c3c5-4ab0-9186-0e7d0c03965a",
   "metadata": {
    "execution": {
     "iopub.execute_input": "2022-05-18T19:52:53.226565Z",
     "iopub.status.busy": "2022-05-18T19:52:53.226040Z",
     "iopub.status.idle": "2022-05-18T19:52:53.235435Z",
     "shell.execute_reply": "2022-05-18T19:52:53.234263Z",
     "shell.execute_reply.started": "2022-05-18T19:52:53.226518Z"
    },
    "tags": []
   },
   "outputs": [],
   "source": [
    "# > Train model\n",
    "def train_model(X_train, y_train):\n",
    "    # Print info\n",
    "    print(\"[info] Training model...\")\n",
    "    # Initialyzing model\n",
    "    clf = LogisticRegression(multi_class=\"multinomial\")\n",
    "    # Training model \n",
    "    clf = LogisticRegression(penalty=\"none\",\n",
    "                             tol=0.1,\n",
    "                             solver=\"saga\",\n",
    "                             multi_class=\"multinomial\").fit(X_train, y_train.ravel()) \n",
    "                             # y_train.ravel() is to make it easier for the model to parse the y data of the cifar dataset\n",
    "    return clf"
   ]
  },
  {
   "cell_type": "code",
   "execution_count": 235,
   "id": "74c7b5f4-939e-42eb-af36-b84705f31de7",
   "metadata": {
    "execution": {
     "iopub.execute_input": "2022-05-18T19:52:54.159414Z",
     "iopub.status.busy": "2022-05-18T19:52:54.158916Z",
     "iopub.status.idle": "2022-05-18T19:53:21.441578Z",
     "shell.execute_reply": "2022-05-18T19:53:21.440692Z",
     "shell.execute_reply.started": "2022-05-18T19:52:54.159366Z"
    },
    "tags": []
   },
   "outputs": [
    {
     "name": "stdout",
     "output_type": "stream",
     "text": [
      "[info] Training model...\n"
     ]
    }
   ],
   "source": [
    "# Training model \n",
    "clf = train_model(X_train, y_train)"
   ]
  },
  {
   "cell_type": "code",
   "execution_count": 87,
   "id": "bb14694f-8792-48c7-a77e-0bcbf4b8779c",
   "metadata": {
    "execution": {
     "iopub.execute_input": "2022-05-18T17:35:13.036159Z",
     "iopub.status.busy": "2022-05-18T17:35:13.035639Z",
     "iopub.status.idle": "2022-05-18T17:35:13.057408Z",
     "shell.execute_reply": "2022-05-18T17:35:13.055926Z",
     "shell.execute_reply.started": "2022-05-18T17:35:13.036095Z"
    }
   },
   "outputs": [
    {
     "ename": "AttributeError",
     "evalue": "'numpy.ndarray' object has no attribute 'unique'",
     "output_type": "error",
     "traceback": [
      "\u001b[0;31m---------------------------------------------------------------------------\u001b[0m",
      "\u001b[0;31mAttributeError\u001b[0m                            Traceback (most recent call last)",
      "\u001b[0;32m/tmp/ipykernel_631/1723328267.py\u001b[0m in \u001b[0;36m<module>\u001b[0;34m\u001b[0m\n\u001b[0;32m----> 1\u001b[0;31m \u001b[0my_train\u001b[0m\u001b[0;34m.\u001b[0m\u001b[0munique\u001b[0m\u001b[0;34m\u001b[0m\u001b[0;34m\u001b[0m\u001b[0m\n\u001b[0m",
      "\u001b[0;31mAttributeError\u001b[0m: 'numpy.ndarray' object has no attribute 'unique'"
     ]
    }
   ],
   "source": [
    "y_train.unique"
   ]
  },
  {
   "cell_type": "code",
   "execution_count": 236,
   "id": "4b51bf36-9790-46c5-a034-c12ee065dfc1",
   "metadata": {
    "execution": {
     "iopub.execute_input": "2022-05-18T19:54:44.156856Z",
     "iopub.status.busy": "2022-05-18T19:54:44.156346Z",
     "iopub.status.idle": "2022-05-18T19:54:44.165692Z",
     "shell.execute_reply": "2022-05-18T19:54:44.164467Z",
     "shell.execute_reply.started": "2022-05-18T19:54:44.156809Z"
    }
   },
   "outputs": [],
   "source": [
    "# > Report\n",
    "def report(clf, X_test, y_test, label_names):\n",
    "    # Print info \n",
    "    print(\"[info] Reporting results...\")\n",
    "    # Predict classification of test data\n",
    "    y_pred = clf.predict(X_test)\n",
    "    # Get metrics\n",
    "    report = metrics.classification_report(y_test, \n",
    "                                           y_pred,\n",
    "                                           target_names=label_names)\n",
    "    # Print metrics\n",
    "    print(report)\n",
    "    # Save metrics\n",
    "    #outpath = os.path.join(\"output\", f\"lr_report_{data}.txt\")\n",
    "    #with open(outpath, \"w\") as f:\n",
    "        #f.write(report)\n"
   ]
  },
  {
   "cell_type": "code",
   "execution_count": null,
   "id": "172791b9-c582-451d-9731-92f80baebd68",
   "metadata": {},
   "outputs": [],
   "source": [
    "# Reporting data \n",
    "    report(clf, X_test, y_test, label_names)\n",
    "    "
   ]
  }
 ],
 "metadata": {
  "kernelspec": {
   "display_name": "Python 3 ",
   "language": "python",
   "name": "python3"
  },
  "language_info": {
   "codemirror_mode": {
    "name": "ipython",
    "version": 3
   },
   "file_extension": ".py",
   "mimetype": "text/x-python",
   "name": "python",
   "nbconvert_exporter": "python",
   "pygments_lexer": "ipython3",
   "version": "3.9.6"
  }
 },
 "nbformat": 4,
 "nbformat_minor": 5
}
